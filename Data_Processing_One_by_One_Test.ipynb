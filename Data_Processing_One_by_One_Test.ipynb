{
 "cells": [
  {
   "cell_type": "code",
   "execution_count": 1,
   "metadata": {
    "colab": {},
    "colab_type": "code",
    "collapsed": true,
    "id": "N9WGz7TQsSa_"
   },
   "outputs": [],
   "source": [
    "from PIL import Image\n",
    "import numpy as np\n",
    "import matplotlib.pyplot as plt\n",
    "import os\n",
    "import cv2\n",
    "from matplotlib.path import Path\n",
    "import pickle\n",
    "import matplotlib.pyplot as plt\n",
    "import matplotlib\n",
    "from mpl_toolkits.mplot3d import Axes3D\n",
    "import sys\n",
    "import math\n",
    "from skimage.draw import circle\n",
    "from shapely.geometry import Point, LineString\n",
    "from scipy.spatial import distance\n",
    "import csv\n",
    "%matplotlib inline"
   ]
  },
  {
   "cell_type": "markdown",
   "metadata": {},
   "source": [
    "# Visualize"
   ]
  },
  {
   "cell_type": "code",
   "execution_count": 2,
   "metadata": {},
   "outputs": [
    {
     "data": {
      "image/png": "[encoded data removed]",
      "text/plain": [
       "<Figure size 1296x360 with 17 Axes>"
      ]
     },
     "metadata": {},
     "output_type": "display_data"
    }
   ],
   "source": [
    "# input size seg: (6 x 64 x 64)\n",
    "n_class = 17\n",
    "colors = []\n",
    "\n",
    "class_names = ['Unidentified','Endothelial','Mesenchymal-like','Tumor',\n",
    "               'Keratin-positive tumor','Tregs','CD4 T','CD8 T',\n",
    "               'CD3 T','NK','B','Neutrophils','Macrophages',\n",
    "               'DC','DC/Mono','Mono/Neu','Other immune']\n",
    "\n",
    "\n",
    "# Gray: Unidentified\n",
    "Gray = np.zeros([64,64,3])\n",
    "Gray[:,:,:] = 0.8\n",
    "colors.append(Gray)\n",
    "\n",
    "# Purple: Endothelial\n",
    "Purple = np.zeros([64,64,3])\n",
    "Purple[:,:,0] = 1\n",
    "Purple[:,:,2] = 1\n",
    "colors.append(Purple)\n",
    "\n",
    "# Cyan: Mesenchymal-like\n",
    "C = np.zeros([64,64,3])\n",
    "C[:,:,0] = 1\n",
    "C[:,:,1] = 0.5\n",
    "C[:,:,2] = 0.6\n",
    "colors.append(C)\n",
    "\n",
    "# Yellow: 5 Tumor\n",
    "Yellow = np.zeros([64,64,3])\n",
    "Yellow[:,:,0] = 1\n",
    "Yellow[:,:,1] = 1\n",
    "colors.append(Yellow)\n",
    "\n",
    "# Red: 6 Keratin-Positive Tumor\n",
    "Red = np.zeros([64,64,3])\n",
    "Red[:,:,0] = 1\n",
    "colors.append(Red)\n",
    "\n",
    "\n",
    "# Immune:\n",
    "Cyan = np.zeros([64,64,3])\n",
    "Cyan[:,:,1] = 1\n",
    "Cyan[:,:,2] = 1\n",
    "colors.append(Cyan)\n",
    "\n",
    "\n",
    "# CD4\n",
    "Imunne = np.zeros([64,64,3])\n",
    "Imunne[:,:,0] = 1.0\n",
    "Imunne[:,:,1] = 0.8\n",
    "Imunne[:,:,2] = 0.0\n",
    "colors.append(Imunne)\n",
    "\n",
    "# CD8\n",
    "Imunne = np.zeros([64,64,3])\n",
    "Imunne[:,:,0] = 1.0\n",
    "Imunne[:,:,1] = 0.6\n",
    "Imunne[:,:,2] = 0.0\n",
    "colors.append(Imunne)\n",
    "\n",
    "# CD3\n",
    "Imunne = np.zeros([64,64,3])\n",
    "Imunne[:,:,0] = 1.0\n",
    "Imunne[:,:,1] = 0.4\n",
    "Imunne[:,:,2] = 0.0\n",
    "colors.append(Imunne)\n",
    "\n",
    "# NK\n",
    "Imunne = np.zeros([64,64,3])\n",
    "Imunne[:,:,0] = 0.2\n",
    "Imunne[:,:,1] = 0.4\n",
    "Imunne[:,:,2] = 1.0\n",
    "colors.append(Imunne)\n",
    "\n",
    "# B cell\n",
    "Imunne = np.zeros([64,64,3])\n",
    "Imunne[:,:,0] = 0.4\n",
    "Imunne[:,:,1] = 0.9\n",
    "Imunne[:,:,2] = 0.5\n",
    "colors.append(Imunne)\n",
    "\n",
    "# Neutrophils\n",
    "Imunne = np.zeros([64,64,3])\n",
    "Imunne[:,:,0] = 0.0\n",
    "Imunne[:,:,1] = 0.0\n",
    "Imunne[:,:,2] = 1.0\n",
    "colors.append(Imunne)\n",
    "\n",
    "# Macrophages\n",
    "Imunne = np.zeros([64,64,3])\n",
    "Imunne[:,:,0] = 0.3\n",
    "Imunne[:,:,1] = 0.8\n",
    "Imunne[:,:,2] = 1.0\n",
    "colors.append(Imunne)\n",
    "\n",
    "\n",
    "\n",
    "Imunne = np.zeros([64,64,3])\n",
    "Imunne[:,:,0] = 0.3\n",
    "Imunne[:,:,1] = 0.0\n",
    "Imunne[:,:,2] = 0.0\n",
    "colors.append(Imunne)\n",
    "\n",
    "\n",
    "Imunne = np.zeros([64,64,3])\n",
    "Imunne[:,:,0] = 0.5\n",
    "Imunne[:,:,1] = 0.1\n",
    "Imunne[:,:,2] = 0.0\n",
    "colors.append(Imunne)\n",
    "\n",
    "Imunne = np.zeros([64,64,3])\n",
    "Imunne[:,:,0] = 0.5\n",
    "Imunne[:,:,1] = 0.5\n",
    "Imunne[:,:,2] = 0.0\n",
    "colors.append(Imunne)\n",
    "\n",
    "\n",
    "# Other immune\n",
    "Imunne = np.zeros([64,64,3])\n",
    "Imunne[:,:,0] = 0.3\n",
    "Imunne[:,:,1] = 0.5\n",
    "Imunne[:,:,2] = 0.0\n",
    "colors.append(Imunne)\n",
    "\n",
    "\n",
    "\n",
    "fig=plt.figure(figsize=(18,5))\n",
    "rows = 2\n",
    "columns = 9\n",
    "\n",
    "for i in range(n_class):\n",
    "    fig.add_subplot(rows, columns, i+1)\n",
    "    plt.title(class_names[i])\n",
    "    plt.imshow((255.0*colors[i]).astype(np.uint8))\n",
    "\n",
    "plt.show()"
   ]
  },
  {
   "cell_type": "code",
   "execution_count": 3,
   "metadata": {
    "collapsed": true
   },
   "outputs": [],
   "source": [
    "# input size seg: (6 x 64 x 64)\n",
    "\n",
    "def seg_show(seg):\n",
    "    n_class = 17\n",
    "    colors = []\n",
    "    \n",
    "    # Gray: Unidentified\n",
    "    Gray = np.zeros([64,64,3])\n",
    "    Gray[:,:,:] = 0.8\n",
    "    colors.append(Gray)\n",
    "    \n",
    "    # Purple: Endothelial\n",
    "    Purple = np.zeros([64,64,3])\n",
    "    Purple[:,:,0] = 1\n",
    "    Purple[:,:,2] = 1\n",
    "    colors.append(Purple)\n",
    "    \n",
    "    # Cyan: Mesenchymal-like\n",
    "    C = np.zeros([64,64,3])\n",
    "    C[:,:,0] = 1\n",
    "    C[:,:,1] = 0.5\n",
    "    C[:,:,2] = 0.6\n",
    "    colors.append(C)\n",
    "    \n",
    "    # Yellow: 5 Tumor\n",
    "    Yellow = np.zeros([64,64,3])\n",
    "    Yellow[:,:,0] = 1\n",
    "    Yellow[:,:,1] = 1\n",
    "    colors.append(Yellow)\n",
    "    \n",
    "    # Red: 6 Keratin-Positive Tumor\n",
    "    Red = np.zeros([64,64,3])\n",
    "    Red[:,:,0] = 1\n",
    "    colors.append(Red)\n",
    "    \n",
    "    \n",
    "    # Immune:\n",
    "    Cyan = np.zeros([64,64,3])\n",
    "    Cyan[:,:,1] = 1\n",
    "    Cyan[:,:,2] = 1\n",
    "    colors.append(Cyan)\n",
    "    \n",
    "    \n",
    "    # CD4\n",
    "    Imunne = np.zeros([64,64,3])\n",
    "    Imunne[:,:,0] = 1.0\n",
    "    Imunne[:,:,1] = 0.8\n",
    "    Imunne[:,:,2] = 0.0\n",
    "    colors.append(Imunne)\n",
    "    \n",
    "    # CD8\n",
    "    Imunne = np.zeros([64,64,3])\n",
    "    Imunne[:,:,0] = 1.0\n",
    "    Imunne[:,:,1] = 0.6\n",
    "    Imunne[:,:,2] = 0.0\n",
    "    colors.append(Imunne)\n",
    "    \n",
    "    # CD3\n",
    "    Imunne = np.zeros([64,64,3])\n",
    "    Imunne[:,:,0] = 1.0\n",
    "    Imunne[:,:,1] = 0.4\n",
    "    Imunne[:,:,2] = 0.0\n",
    "    colors.append(Imunne)\n",
    "    \n",
    "    # NK\n",
    "    Imunne = np.zeros([64,64,3])\n",
    "    Imunne[:,:,0] = 0.2\n",
    "    Imunne[:,:,1] = 0.4\n",
    "    Imunne[:,:,2] = 1.0\n",
    "    colors.append(Imunne)\n",
    "    \n",
    "    # B cell\n",
    "    Imunne = np.zeros([64,64,3])\n",
    "    Imunne[:,:,0] = 0.4\n",
    "    Imunne[:,:,1] = 0.9\n",
    "    Imunne[:,:,2] = 0.5\n",
    "    colors.append(Imunne)\n",
    "    \n",
    "    # Neutrophils\n",
    "    Imunne = np.zeros([64,64,3])\n",
    "    Imunne[:,:,0] = 0.0\n",
    "    Imunne[:,:,1] = 0.0\n",
    "    Imunne[:,:,2] = 1.0\n",
    "    colors.append(Imunne)\n",
    "    \n",
    "    # Macrophages\n",
    "    Imunne = np.zeros([64,64,3])\n",
    "    Imunne[:,:,0] = 0.3\n",
    "    Imunne[:,:,1] = 0.8\n",
    "    Imunne[:,:,2] = 1.0\n",
    "    colors.append(Imunne)\n",
    "    \n",
    "    \n",
    "    \n",
    "    Imunne = np.zeros([64,64,3])\n",
    "    Imunne[:,:,0] = 0.3\n",
    "    Imunne[:,:,1] = 0.0\n",
    "    Imunne[:,:,2] = 0.0\n",
    "    colors.append(Imunne)\n",
    "    \n",
    "    \n",
    "    Imunne = np.zeros([64,64,3])\n",
    "    Imunne[:,:,0] = 0.5\n",
    "    Imunne[:,:,1] = 0.1\n",
    "    Imunne[:,:,2] = 0.0\n",
    "    colors.append(Imunne)\n",
    "    \n",
    "    Imunne = np.zeros([64,64,3])\n",
    "    Imunne[:,:,0] = 0.5\n",
    "    Imunne[:,:,1] = 0.5\n",
    "    Imunne[:,:,2] = 0.0\n",
    "    colors.append(Imunne)\n",
    "    \n",
    "    \n",
    "    # Other immune\n",
    "    Imunne = np.zeros([64,64,3])\n",
    "    Imunne[:,:,0] = 0.3\n",
    "    Imunne[:,:,1] = 0.5\n",
    "    Imunne[:,:,2] = 0.0\n",
    "    colors.append(Imunne)\n",
    "    \n",
    "    cell_visual = np.zeros([64,64,3])\n",
    "    \n",
    "    for c in range(n_class):\n",
    "        seg_color = seg[c:c+1].repeat(3, axis=0).transpose(1,2,0)\n",
    "        cell_visual += seg_color * colors[c]\n",
    "    \n",
    "    plt.imshow(cell_visual.astype(float))"
   ]
  },
  {
   "cell_type": "markdown",
   "metadata": {
    "colab_type": "text",
    "id": "00FTXelIsSbI"
   },
   "source": [
    "# Utils"
   ]
  },
  {
   "cell_type": "code",
   "execution_count": 17,
   "metadata": {
    "colab": {
     "base_uri": "https://localhost:8080/",
     "height": 34
    },
    "colab_type": "code",
    "collapsed": true,
    "id": "FEnqjDD4sSbI",
    "outputId": "1f6b5637-69b6-4e8c-954b-767999e7c7ef"
   },
   "outputs": [],
   "source": [
    "def read_channels(IDX):\n",
    "    \n",
    "    point_idx = \"Point\" + str(IDX)\n",
    "    \n",
    "    channel_names = [\"Pan-Keratin\", \"EGFR\", \"Beta catenin\", \"dsDNA\",\n",
    "                 \"Ki67\", \"CD3\", \"CD8\", \"CD4\", \"FoxP3\", \"MPO\", \"HLA-DR\", \n",
    "                 \"HLA_Class_1\", \"CD209\", \"CD11b\",  \"CD11c\", \"CD68\", \"CD63\",\n",
    "                 \"Lag3\", \"PD1\", \"PD-L1\", \"IDO\", \"Vimentin\", \"SMA\", \"CD31\"]\n",
    "    \n",
    "    channels = []\n",
    "    for f in channel_names:\n",
    "        \n",
    "        img_path = './data/' + f + \".tif\"\n",
    "        channels.append(np.array(Image.open(img_path)))\n",
    "    \n",
    "    s_channels = np.stack(channels, axis=2)\n",
    "    # channelwise normalize\n",
    "    divs = np.array([1 if i == 0 else i for i in np.max(s_channels.reshape((-1, 24)), axis=0)])\n",
    "    s_channels = s_channels / divs\n",
    "    \n",
    "    return s_channels"
   ]
  },
  {
   "cell_type": "code",
   "execution_count": 13,
   "metadata": {
    "collapsed": true,
    "scrolled": true
   },
   "outputs": [],
   "source": [
    "def read_segmentation(IDX):\n",
    "\n",
    "    segmentation = Image.open('./data/p'+ str(IDX)+'_labeledcellData.tiff')\n",
    "    segmentation = np.array(segmentation)\n",
    "    seg_img = np.copy(segmentation)\n",
    "    seg_img_copy = np.copy(seg_img)\n",
    "    num_ids = seg_img_copy.max() + 1\n",
    "\n",
    "    return seg_img_copy, num_ids"
   ]
  },
  {
   "cell_type": "code",
   "execution_count": 14,
   "metadata": {
    "collapsed": true
   },
   "outputs": [],
   "source": [
    "'''\n",
    "ids: id of all cells (include cells and background)\n",
    "labels: label of all cells\n",
    "\n",
    "1. Unidentified\n",
    "2. Endothelial\n",
    "3. Mesenchymal-like\n",
    "4. Tumor\n",
    "5. Keratin-positive tumor\n",
    "\n",
    "6. Tregs\n",
    "7. CD4 T\n",
    "8. CD8 T\n",
    "9. CD3 T\n",
    "10. NK\n",
    "11. B\n",
    "12. Neutrophils\n",
    "13. Macrophages\n",
    "14. DC\n",
    "15. DC/Mono\n",
    "16. Mono/Neu\n",
    "17. Other immune\n",
    "'''\n",
    "\n",
    "def read_labels():\n",
    "    \n",
    "    n_patients = 44\n",
    "    \n",
    "    idsAll = []\n",
    "    labelsAll=[]\n",
    "    ids = []\n",
    "    labels = []\n",
    "    \n",
    "    # create empty list\n",
    "    for i in range(n_patients):\n",
    "        ids = []\n",
    "        labels = []\n",
    "        \n",
    "        idsAll.append(ids)\n",
    "        labelsAll.append(labels)\n",
    "    \n",
    "    # read .csv data\n",
    "    with open('./data/cellData.csv') as csvfile:\n",
    "        csvreader = csv.reader(csvfile, delimiter=',')\n",
    "        next(csvreader)\n",
    "        \n",
    "        for row in csvreader:\n",
    "            # print(row[0])\n",
    "            \n",
    "            patient_id = int(row[0])      # ids of the patients\n",
    "            idsAll[patient_id-1].append(int(row[1]))   # ids of the cells\n",
    "            \n",
    "            cell_class = int(row[-3])    # type of the cells\n",
    "            label_value = 0\n",
    "            \n",
    "            if cell_class == 2:   # Immune Group\n",
    "                lable_value = 5 + int(row[-1])\n",
    "            elif cell_class > 2:\n",
    "                lable_value = cell_class-1\n",
    "            elif cell_class == 1:\n",
    "                lable_value = cell_class\n",
    "                \n",
    "            labelsAll[patient_id-1].append(lable_value)\n",
    "            \n",
    "    return labelsAll, idsAll"
   ]
  },
  {
   "cell_type": "code",
   "execution_count": 15,
   "metadata": {
    "collapsed": true
   },
   "outputs": [],
   "source": [
    "def get_data(size, n, adjacency, labels, cell_all_pts, cx, cy, channels):\n",
    "    '''\n",
    "    Input\n",
    "    size: size of image\n",
    "    n: the current index\n",
    "    adjacency: adjacency list for n-th cell\n",
    "    cell_all_pts: all interior of cells\n",
    "    centroids: all centroids of cells\n",
    "    channels: 17 channels\n",
    "    '''\n",
    "    \n",
    "    num_chan = channels.shape[2]    # 17\n",
    "    seg = np.zeros([17, size, size])    # size=51\n",
    "    real = np.zeros([24, size, size])\n",
    "    \n",
    "    # the centroid should be 32,32\n",
    "    offset = int(np.floor(size/2.0))\n",
    "\n",
    "    ######## neighbor cells (include themselves)\n",
    "    for idx in adjacency:\n",
    "        \n",
    "        cell_pts_idx = cell_all_pts[idx]\n",
    "        L = int(labels[idx])\n",
    " \n",
    "        for i in range(cell_pts_idx.shape[0]):    # for all points       \n",
    "        \n",
    "            x = cell_pts_idx[i,0]\n",
    "            y = cell_pts_idx[i,1]\n",
    "            if 0 <= offset + x - cx < size and 0 <= offset + y - cy < size:\n",
    "                # seg[L-1, offset + x - cx, offset + y - cy] = L\n",
    "                seg[L-1, offset + x - cx, offset + y - cy] = 1\n",
    "                real[:, offset + x - cx, offset + y - cy] = channels[x,y,:]  # y, x, channel\n",
    "\n",
    "    return seg, real"
   ]
  },
  {
   "cell_type": "code",
   "execution_count": 20,
   "metadata": {
    "collapsed": true
   },
   "outputs": [],
   "source": [
    "def get_test_data(size, n, adjacency, labels, cell_all_pts, cx, cy, channels, centroids):\n",
    "    '''\n",
    "    Input\n",
    "    size: size of image\n",
    "    n: the current index\n",
    "    adjacency: adjacency list for n-th cell\n",
    "    cell_all_pts: all interior of cells\n",
    "    centroids: all centroids of cells\n",
    "    channels: 17 channels\n",
    "    '''\n",
    "    \n",
    "    num_chan = channels.shape[2]    # 17\n",
    "    seg = np.zeros([17, size, size])    # size=51\n",
    "    real = np.zeros([24, size, size])\n",
    "    centroid_list = []\n",
    "    seg_list = []\n",
    "    real_list = []\n",
    "    \n",
    "    \n",
    "    # the centroid should be 32,32\n",
    "    offset = int(np.floor(size/2.0))\n",
    "\n",
    "    ######## center cells (not include themselves)\n",
    "    cell_pts_idx = cell_all_pts[n]\n",
    "    L = int(labels[n])\n",
    " \n",
    "    for i in range(cell_pts_idx.shape[0]):    # for all points       \n",
    "        \n",
    "        x = cell_pts_idx[i,0]\n",
    "        y = cell_pts_idx[i,1]\n",
    "        if 0 <= offset + x - cx < size and 0 <= offset + y - cy < size:\n",
    "            # seg[L-1, offset + x - cx, offset + y - cy] = L\n",
    "            seg[L-1, offset + x - cx, offset + y - cy] = 1\n",
    "            real[:, offset + x - cx, offset + y - cy] = channels[x,y,:]  # y, x, channel\n",
    "    centroid_list.append(np.array([offset, offset]))\n",
    "    seg_list.append(seg)\n",
    "    real_list.append(real)\n",
    "    seg = np.zeros([17, size, size])    # size=51\n",
    "    real = np.zeros([24, size, size])\n",
    "    \n",
    "    \n",
    "    ######## neighbor cells (not include themselves)\n",
    "    for idx in adjacency:\n",
    "        cell_pts_idx = cell_all_pts[idx]\n",
    "        L = int(labels[idx])\n",
    "        if L == 5:    # there are adjacent tumor cells\n",
    "            for i in range(cell_pts_idx.shape[0]):    # for all points       \n",
    "            \n",
    "                x = cell_pts_idx[i,0]\n",
    "                y = cell_pts_idx[i,1]\n",
    "                if 0 <= offset + x - cx < size and 0 <= offset + y - cy < size:\n",
    "                    # seg[L-1, offset + x - cx, offset + y - cy] = L\n",
    "                    seg[L-1, offset + x - cx, offset + y - cy] = 1\n",
    "                    real[:, offset + x - cx, offset + y - cy] = channels[x,y,:]  # y, x, channel\n",
    "            \n",
    "            \n",
    "            cx_idx = centroids[idx][0]\n",
    "            cy_idx = centroids[idx][1]\n",
    "            \n",
    "            seg_list.append(seg)\n",
    "            real_list.append(real)\n",
    "            centroid_list.append(np.array([offset + cx_idx - cx, offset + cy_idx - cy]))\n",
    "            seg = np.zeros([17, size, size])    # size=51\n",
    "            real = np.zeros([24, size, size])\n",
    "            \n",
    "    return seg_list, real_list"
   ]
  },
  {
   "cell_type": "markdown",
   "metadata": {},
   "source": [
    "# Generate test data p32"
   ]
  },
  {
   "cell_type": "code",
   "execution_count": 18,
   "metadata": {},
   "outputs": [
    {
     "name": "stdout",
     "output_type": "stream",
     "text": [
      "number of cells: 5158\n",
      "Number of cells and background 6133\n",
      "Number of real cell points 5158\n",
      "Show the segmentation\n"
     ]
    },
    {
     "data": {
      "image/png": "[encoded data removed]",
      "text/plain": [
       "<Figure size 432x288 with 1 Axes>"
      ]
     },
     "metadata": {},
     "output_type": "display_data"
    }
   ],
   "source": [
    "labelsAll, idsAll = read_labels() \n",
    "IDX = 32\n",
    "patient_id = IDX    # the index of patients\n",
    "ids = idsAll[patient_id-1]\n",
    "labels = labelsAll[patient_id-1]\n",
    "num_cells = len(labels)\n",
    "print('number of cells:', num_cells)\n",
    "\n",
    "s_channels = read_channels(patient_id)    # get the channels\n",
    "\n",
    "seg_img_copy, num_ids = read_segmentation(patient_id)    # open the segmentation\n",
    "\n",
    "\n",
    "######\n",
    "# 1. get coords of all the cells and background\n",
    "######\n",
    "cell_all_coords = []\n",
    "\n",
    "for i in range(num_ids):\n",
    "    coords = np.where(seg_img_copy==i)\n",
    "    cell_all_coords.append(coords)\n",
    "    \n",
    "print(\"Number of cells and background\", len(cell_all_coords))\n",
    "\n",
    "\n",
    "#######\n",
    "# 2. get interior of all the cells, no background\n",
    "#######\n",
    "cell_all_pts = []\n",
    "seg_group = np.zeros([seg_img_copy.shape[0],seg_img_copy.shape[1], 3])\n",
    "\n",
    "for i in range(num_cells):\n",
    "    idx = ids[i]    # the real cell id\n",
    "    coords = cell_all_coords[idx]\n",
    "    seg_group[coords] = colors[labels[i]-1][0,0,:]\n",
    "    \n",
    "    coord_x = coords[0]\n",
    "    coord_y = coords[1]\n",
    "    coord_array = np.concatenate([coord_x[:,np.newaxis],\\\n",
    "                                  coord_y[:,np.newaxis]], axis=1)\n",
    "    cell_all_pts.append(coord_array)\n",
    "    \n",
    "print(\"Number of real cell points\", len(cell_all_pts))\n",
    "print(\"Show the segmentation\")\n",
    "plt.imshow(seg_group)\n",
    "plt.show()\n",
    "\n",
    "\n",
    "######\n",
    "# 3. get the centroids\n",
    "######\n",
    "\n",
    "# Note: The centroid of a shape is the arithmetic mean\n",
    "#       (i.e. the average) of all the points in a shape.\n",
    "\n",
    "centroids = []\n",
    "\n",
    "for i in range(num_cells):\n",
    "    \n",
    "    cx = int(cell_all_pts[i][:,0].mean())\n",
    "    cy = int(cell_all_pts[i][:,1].mean())\n",
    "    centroids.append([cx, cy])\n",
    "    \n",
    "# print(\"Number of centroids (cells)\", len(centroids))\n",
    "\n",
    "######\n",
    "# 4. find the neighbor and add to list\n",
    "######\n",
    "adj_list = []\n",
    "\n",
    "size = 64\n",
    "\n",
    "for i in range(num_cells):\n",
    "    neigh_list = []\n",
    "    cx_i = centroids[i][0]\n",
    "    cy_i = centroids[i][1]\n",
    "    \n",
    "    for j in range(num_cells):\n",
    "        cx_j = centroids[j][0]\n",
    "        cy_j = centroids[j][1]\n",
    "        \n",
    "        # find if the centroid in the bounding box\n",
    "        if np.abs(cx_i - cx_j) <= int(size//2) and np.abs(cy_i - cy_j) <= int(size//2):\n",
    "            neigh_list.append(j)\n",
    "            \n",
    "    adj_list.append(neigh_list)"
   ]
  },
  {
   "cell_type": "code",
   "execution_count": 19,
   "metadata": {
    "collapsed": true
   },
   "outputs": [],
   "source": [
    "channel_names = [\"Pan-Keratin\", \"EGFR\", \"Beta catenin\", \"dsDNA\",\n",
    "                 \"Ki67\", \"CD3\", \"CD8\", \"CD4\", \"FoxP3\", \"MPO\", \"HLA-DR\", \n",
    "                 \"HLA_Class_1\", \"CD209\", \"CD11b\",  \"CD11c\", \"CD68\", \"CD63\",\n",
    "                 \"Lag3\", \"PD1\", \"PD-L1\", \"IDO\", \"Vimentin\", \"SMA\", \"CD31\"]\n",
    "\n",
    "class_names = ['Unidentified','Endothelial','Mesenchymal-like','Tumor',\n",
    "               'Keratin-positive tumor','Tregs','CD4 T','CD8 T',\n",
    "               'CD3 T','NK','B','Neutrophils','Macrophages',\n",
    "               'DC','DC/Mono','Mono/Neu','Other immune']"
   ]
  },
  {
   "cell_type": "code",
   "execution_count": null,
   "metadata": {
    "collapsed": true
   },
   "outputs": [],
   "source": [
    "size = 64\n",
    "test_id = 0\n",
    "all_range = s_channels.shape[0]\n",
    "train_range = int(all_range * 0.9)\n",
    "download_path = './data/cd8_test_c24'\n",
    "for i in range(num_cells):\n",
    "    if i % 500 == 0:\n",
    "        # print(i)\n",
    "        print(test_id)\n",
    "    \n",
    "    adjacency = adj_list[i]\n",
    "\n",
    "    # get the centroid\n",
    "    cx = centroids[i][0]\n",
    "    cy = centroids[i][1]\n",
    "\n",
    "    # if cx > train_range + int(size//2) and int(check[i]) == 8:\n",
    "    if int(labels[i]) == 8:     # the center cell is cd8\n",
    "        if_tumor = False\n",
    "        for adj in adjacency:\n",
    "            if int(labels[adj]) == 5:    # there are adjacent tumor cells\n",
    "                if_tumor = True\n",
    "                break\n",
    "        if if_tumor:\n",
    "            seg_list, real_list = get_test_data(size, i, adjacency,\n",
    "                                                               labels, cell_all_pts,\n",
    "                                                               cx, cy, s_channels, centroids)\n",
    "            name_cell = download_path + '/cell_' + str(test_id)\n",
    "            np.save(name_cell, [seg_list, real_list])  # save the cells and keys together\n",
    "            test_id += 1\n"
   ]
  },
  {
   "cell_type": "code",
   "execution_count": null,
   "metadata": {
    "collapsed": true
   },
   "outputs": [],
   "source": []
  },
  {
   "cell_type": "code",
   "execution_count": null,
   "metadata": {
    "collapsed": true
   },
   "outputs": [],
   "source": []
  },
  {
   "cell_type": "code",
   "execution_count": null,
   "metadata": {
    "collapsed": true
   },
   "outputs": [],
   "source": []
  },
  {
   "cell_type": "code",
   "execution_count": null,
   "metadata": {
    "collapsed": true
   },
   "outputs": [],
   "source": []
  },
  {
   "cell_type": "code",
   "execution_count": null,
   "metadata": {
    "collapsed": true
   },
   "outputs": [],
   "source": []
  },
  {
   "cell_type": "code",
   "execution_count": null,
   "metadata": {
    "collapsed": true
   },
   "outputs": [],
   "source": []
  },
  {
   "cell_type": "code",
   "execution_count": null,
   "metadata": {
    "collapsed": true
   },
   "outputs": [],
   "source": []
  },
  {
   "cell_type": "markdown",
   "metadata": {},
   "source": [
    "# Test Load"
   ]
  },
  {
   "cell_type": "code",
   "execution_count": 14,
   "metadata": {
    "collapsed": true
   },
   "outputs": [],
   "source": [
    "import torch\n",
    "import torch.nn as nn\n",
    "import torch.optim as optim\n",
    "import torch.nn.utils\n",
    "from torch.nn.utils import spectral_norm\n",
    "import torch.nn.functional as F\n",
    "from torch.autograd import Variable\n",
    "import numpy as np\n",
    "import matplotlib.pyplot as plt\n",
    "import matplotlib\n",
    "import os\n",
    "from torch.utils.data import DataLoader\n",
    "from torchvision import datasets\n",
    "\n",
    "from ds import MIBIDataset"
   ]
  },
  {
   "cell_type": "code",
   "execution_count": 15,
   "metadata": {
    "scrolled": false
   },
   "outputs": [
    {
     "name": "stdout",
     "output_type": "stream",
     "text": [
      "cell 0\n"
     ]
    },
    {
     "data": {
      "image/png": "[encoded data removed]",
      "text/plain": [
       "<Figure size 1152x288 with 3 Axes>"
      ]
     },
     "metadata": {},
     "output_type": "display_data"
    },
    {
     "data": {
      "image/png": "[encoded data removed]",
      "text/plain": [
       "<Figure size 1152x288 with 3 Axes>"
      ]
     },
     "metadata": {},
     "output_type": "display_data"
    },
    {
     "name": "stdout",
     "output_type": "stream",
     "text": [
      "cell 50\n"
     ]
    },
    {
     "data": {
      "image/png": "[encoded data removed]",
      "text/plain": [
       "<Figure size 1152x288 with 4 Axes>"
      ]
     },
     "metadata": {},
     "output_type": "display_data"
    },
    {
     "data": {
      "image/png": "[encoded data removed]",
      "text/plain": [
       "<Figure size 1152x288 with 4 Axes>"
      ]
     },
     "metadata": {},
     "output_type": "display_data"
    },
    {
     "name": "stdout",
     "output_type": "stream",
     "text": [
      "cell 100\n"
     ]
    },
    {
     "data": {
      "image/png": "[encoded data removed]",
      "text/plain": [
       "<Figure size 1152x288 with 2 Axes>"
      ]
     },
     "metadata": {},
     "output_type": "display_data"
    },
    {
     "data": {
      "image/png": "[encoded data removed]",
      "text/plain": [
       "<Figure size 1152x288 with 2 Axes>"
      ]
     },
     "metadata": {},
     "output_type": "display_data"
    },
    {
     "name": "stdout",
     "output_type": "stream",
     "text": [
      "cell 150\n"
     ]
    },
    {
     "data": {
      "image/png": "[encoded data removed]",
      "text/plain": [
       "<Figure size 1152x288 with 6 Axes>"
      ]
     },
     "metadata": {},
     "output_type": "display_data"
    },
    {
     "data": {
      "image/png": "[encoded data removed]",
      "text/plain": [
       "<Figure size 1152x288 with 6 Axes>"
      ]
     },
     "metadata": {},
     "output_type": "display_data"
    },
    {
     "name": "stdout",
     "output_type": "stream",
     "text": [
      "cell 200\n"
     ]
    },
    {
     "data": {
      "image/png": "[encoded data removed]",
      "text/plain": [
       "<Figure size 1152x288 with 3 Axes>"
      ]
     },
     "metadata": {},
     "output_type": "display_data"
    },
    {
     "data": {
      "image/png": "[encoded data removed]",
      "text/plain": [
       "<Figure size 1152x288 with 3 Axes>"
      ]
     },
     "metadata": {},
     "output_type": "display_data"
    },
    {
     "name": "stdout",
     "output_type": "stream",
     "text": [
      "cell 250\n"
     ]
    },
    {
     "data": {
      "image/png": "[encoded data removed]",
      "text/plain": [
       "<Figure size 1152x288 with 4 Axes>"
      ]
     },
     "metadata": {},
     "output_type": "display_data"
    },
    {
     "data": {
      "image/png": "[encoded data removed]",
      "text/plain": [
       "<Figure size 1152x288 with 4 Axes>"
      ]
     },
     "metadata": {},
     "output_type": "display_data"
    },
    {
     "name": "stdout",
     "output_type": "stream",
     "text": [
      "cell 300\n"
     ]
    },
    {
     "data": {
      "image/png": "[encoded data removed]",
      "text/plain": [
       "<Figure size 1152x288 with 2 Axes>"
      ]
     },
     "metadata": {},
     "output_type": "display_data"
    },
    {
     "data": {
      "image/png": "[encoded data removed]",
      "text/plain": [
       "<Figure size 1152x288 with 2 Axes>"
      ]
     },
     "metadata": {},
     "output_type": "display_data"
    },
    {
     "name": "stdout",
     "output_type": "stream",
     "text": [
      "cell 350\n"
     ]
    },
    {
     "data": {
      "image/png": "[encoded data removed]",
      "text/plain": [
       "<Figure size 1152x288 with 3 Axes>"
      ]
     },
     "metadata": {},
     "output_type": "display_data"
    },
    {
     "data": {
      "image/png": "[encoded data removed]",
      "text/plain": [
       "<Figure size 1152x288 with 3 Axes>"
      ]
     },
     "metadata": {},
     "output_type": "display_data"
    },
    {
     "name": "stdout",
     "output_type": "stream",
     "text": [
      "cell 400\n"
     ]
    },
    {
     "data": {
      "image/png": "[encoded data removed]",
      "text/plain": [
       "<Figure size 1152x288 with 2 Axes>"
      ]
     },
     "metadata": {},
     "output_type": "display_data"
    },
    {
     "data": {
      "image/png": "[encoded data removed]",
      "text/plain": [
       "<Figure size 1152x288 with 2 Axes>"
      ]
     },
     "metadata": {},
     "output_type": "display_data"
    },
    {
     "name": "stdout",
     "output_type": "stream",
     "text": [
      "cell 450\n"
     ]
    },
    {
     "data": {
      "image/png": "[encoded data removed]",
      "text/plain": [
       "<Figure size 1152x288 with 2 Axes>"
      ]
     },
     "metadata": {},
     "output_type": "display_data"
    },
    {
     "data": {
      "image/png": "[encoded data removed]",
      "text/plain": [
       "<Figure size 1152x288 with 2 Axes>"
      ]
     },
     "metadata": {},
     "output_type": "display_data"
    },
    {
     "name": "stdout",
     "output_type": "stream",
     "text": [
      "cell 500\n"
     ]
    },
    {
     "data": {
      "image/png": "[encoded data removed]",
      "text/plain": [
       "<Figure size 1152x288 with 7 Axes>"
      ]
     },
     "metadata": {},
     "output_type": "display_data"
    },
    {
     "data": {
      "image/png": "[encoded data removed]",
      "text/plain": [
       "<Figure size 1152x288 with 7 Axes>"
      ]
     },
     "metadata": {},
     "output_type": "display_data"
    },
    {
     "name": "stdout",
     "output_type": "stream",
     "text": [
      "cell 550\n"
     ]
    },
    {
     "data": {
      "image/png": "[encoded data removed]",
      "text/plain": [
       "<Figure size 1152x288 with 2 Axes>"
      ]
     },
     "metadata": {},
     "output_type": "display_data"
    },
    {
     "data": {
      "image/png": "[encoded data removed]",
      "text/plain": [
       "<Figure size 1152x288 with 2 Axes>"
      ]
     },
     "metadata": {},
     "output_type": "display_data"
    },
    {
     "name": "stdout",
     "output_type": "stream",
     "text": [
      "cell 600\n"
     ]
    },
    {
     "data": {
      "image/png": "[encoded data removed]",
      "text/plain": [
       "<Figure size 1152x288 with 2 Axes>"
      ]
     },
     "metadata": {},
     "output_type": "display_data"
    },
    {
     "data": {
      "image/png": "[encoded data removed]",
      "text/plain": [
       "<Figure size 1152x288 with 2 Axes>"
      ]
     },
     "metadata": {},
     "output_type": "display_data"
    }
   ],
   "source": [
    "cells_seg = []\n",
    "cells_real = []\n",
    "keys = []\n",
    "\n",
    "download_path = './data/cd8_test'\n",
    "filelist = os.listdir(download_path)\n",
    "\n",
    "for i in range(len(filelist)):\n",
    "    patch = download_path + '/cell_' + str(i) + '.npy'\n",
    "    cells_seg.append(np.load(patch)[0])\n",
    "    cells_real.append(np.load(patch)[1])\n",
    "\n",
    "    if i % 50 == 0:\n",
    "        \n",
    "        print('cell', i)\n",
    "        \n",
    "        fig=plt.figure(figsize=(16,4))\n",
    "        columns = 9\n",
    "        rows = 2\n",
    "        \n",
    "        for k in range(len(cells_seg[i])):\n",
    "            fig.add_subplot(rows, columns, k+1)\n",
    "            # plt.title(class_names[k])\n",
    "            seg_show(cells_seg[i][k])\n",
    "        plt.show()  \n",
    "        \n",
    "        fig=plt.figure(figsize=(16,4))\n",
    "        columns = 9\n",
    "        rows = 2\n",
    "        \n",
    "        for k in range(len(cells_seg[i])):\n",
    "            fig.add_subplot(rows, columns, k+1)\n",
    "            # plt.title(channel_names[k])\n",
    "            # plt.imshow(real_list[k][-1], cmap='hot', interpolation='nearest')\n",
    "            plt.imshow(cells_real[i][k][-1], cmap='hot', interpolation='nearest')\n",
    "        plt.show()\n",
    "        "
   ]
  },
  {
   "cell_type": "code",
   "execution_count": null,
   "metadata": {
    "collapsed": true
   },
   "outputs": [],
   "source": []
  },
  {
   "cell_type": "code",
   "execution_count": null,
   "metadata": {
    "collapsed": true
   },
   "outputs": [],
   "source": []
  },
  {
   "cell_type": "code",
   "execution_count": null,
   "metadata": {
    "collapsed": true
   },
   "outputs": [],
   "source": []
  }
 ],
 "metadata": {
  "accelerator": "GPU",
  "colab": {
   "name": "warp_cell_17_unroll.ipynb",
   "provenance": [],
   "version": "0.3.2"
  },
  "kernelspec": {
   "display_name": "Python [conda env:pytorch_p36]",
   "language": "python",
   "name": "conda-env-pytorch_p36-py"
  },
  "language_info": {
   "codemirror_mode": {
    "name": "ipython",
    "version": 3
   },
   "file_extension": ".py",
   "mimetype": "text/x-python",
   "name": "python",
   "nbconvert_exporter": "python",
   "pygments_lexer": "ipython3",
   "version": "3.6.5"
  }
 },
 "nbformat": 4,
 "nbformat_minor": 1
}
