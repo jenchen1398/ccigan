{
 "cells": [
  {
   "cell_type": "markdown",
   "metadata": {},
   "source": [
    " "
   ]
  },
  {
   "cell_type": "markdown",
   "metadata": {},
   "source": [
    "# SPADE"
   ]
  },
  {
   "cell_type": "markdown",
   "metadata": {},
   "source": [
    " "
   ]
  },
  {
   "cell_type": "code",
   "execution_count": 1,
   "metadata": {
    "collapsed": true
   },
   "outputs": [],
   "source": [
    "import torch\n",
    "import torch.nn as nn\n",
    "import torch.optim as optim\n",
    "import torch.nn.utils\n",
    "from torch.nn.utils import spectral_norm\n",
    "import torch.nn.functional as F\n",
    "from torch.autograd import Variable\n",
    "import numpy as np\n",
    "import matplotlib.pyplot as plt\n",
    "import matplotlib\n",
    "import os\n",
    "from torch.utils.data import DataLoader\n",
    "from ds import MIBIDataset\n",
    "import torch.nn.utils.spectral_norm as spectral_norm\n",
    "\n",
    "from utilities import weights_init, seg_show"
   ]
  },
  {
   "cell_type": "code",
   "execution_count": 2,
   "metadata": {
    "collapsed": true
   },
   "outputs": [],
   "source": [
    "normalize = matplotlib.colors.Normalize(vmin=0, vmax=1)\n",
    "\n",
    "torch.cuda.set_device(0)\n",
    "gpu_available = True\n",
    "channel_names = [\"Pan-Keratin\", \"EGFR\", \"Beta catenin\", \"dsDNA\",\n",
    "                 \"Ki67\", \"CD3\", \"CD8\", \"CD4\", \"FoxP3\", \"MPO\", \"HLA-DR\", \n",
    "                 \"HLA_Class_1\", \"CD209\", \"CD11b\",  \"CD11c\", \"CD68\", \"CD63\",\n",
    "                 \"Lag3\", \"PD1\", \"PD-L1\", \"IDO\", \"Vimentin\", \"SMA\", \"CD31\"]"
   ]
  },
  {
   "cell_type": "markdown",
   "metadata": {},
   "source": [
    "# Parameters"
   ]
  },
  {
   "cell_type": "code",
   "execution_count": 3,
   "metadata": {
    "collapsed": true
   },
   "outputs": [],
   "source": [
    "# Learning rate for optimizers\n",
    "batch_size = 32\n",
    "nz = hidden_size = 128\n",
    "kernel = 3\n",
    "\n",
    "# Number of input channels (later to be number of classes)\n",
    "num_chan = 18\n",
    "\n",
    "# Size of feature maps in discriminator\n",
    "ndf = 32\n",
    "\n",
    "# Output dimension\n",
    "nc = 24\n",
    "\n",
    "# Beta1 hyperparam for Adam optimizers\n",
    "beta1 = 0.5\n",
    "\n",
    "c24_idx = np.array(range(25))\n",
    "c24_idx = np.delete(c24_idx, 4)"
   ]
  },
  {
   "cell_type": "markdown",
   "metadata": {},
   "source": [
    "# Read In Data"
   ]
  },
  {
   "cell_type": "code",
   "execution_count": 5,
   "metadata": {},
   "outputs": [
    {
     "name": "stdout",
     "output_type": "stream",
     "text": [
      "patient: 14, number of total cells: 5648\n"
     ]
    }
   ],
   "source": [
    "# train data\n",
    "cells_seg = []\n",
    "cells_real = []\n",
    "keys = []\n",
    "\n",
    "path = './data'\n",
    "filelist = os.listdir(path + '/train')\n",
    "\n",
    "for i in range(int(len(filelist[:]))): # have both counts and cells\n",
    "    patch = path + '/train/cell_' + str(i) + '.npy'\n",
    "    cells_seg.append(np.load(patch)[0])\n",
    "    cells_real.append(np.load(patch)[1][c24_idx])\n",
    "\n",
    "print('number of total cells: %d' % (len(cells_seg))) \n",
    "\n",
    "cells_seg = np.array(cells_seg)\n",
    "empty = np.less(np.sum(cells_seg, axis=1, keepdims=True), 0.5).astype(np.float32)\n",
    "cells_seg = np.concatenate([cells_seg, empty], axis=1)\n",
    "\n",
    "\n",
    "cells_real = np.array(cells_real) \n",
    "cells = np.array([[cells_seg[i], cells_real[i]] for i in range(len(cells_seg))])\n",
    "\n",
    "train_set_loader = DataLoader(MIBIDataset(cells), batch_size=batch_size, \n",
    "                       shuffle=True, num_workers=4, pin_memory=gpu_available)"
   ]
  },
  {
   "cell_type": "code",
   "execution_count": 5,
   "metadata": {},
   "outputs": [
    {
     "name": "stdout",
     "output_type": "stream",
     "text": [
      "patient: 14, number of total cells: 446\n"
     ]
    }
   ],
   "source": [
    "# test data\n",
    "\n",
    "cells_seg = []\n",
    "cells_real = []\n",
    "keys = []\n",
    "\n",
    "path = './data'\n",
    "filelist = os.listdir(path + '/test')\n",
    "\n",
    "for i in range(int(len(filelist[:]))): # have both counts and cells\n",
    "    patch = path + '/test/cell_' + str(i) + '.npy'\n",
    "    cells_seg.append(np.load(patch)[0])\n",
    "    cells_real.append(np.load(patch)[1][c24_idx])\n",
    "\n",
    "print('number of total cells: %d' % (len(cells_seg))) \n",
    "\n",
    "\n",
    "cells_seg = np.array(cells_seg)\n",
    "empty = np.less(np.sum(cells_seg, axis=1, keepdims=True), 0.5).astype(np.float32)\n",
    "cells_seg = np.concatenate([cells_seg, empty], axis=1)\n",
    "\n",
    "cells_real = np.array(cells_real)\n",
    "cells = np.array([[cells_seg[i], cells_real[i]] for i in range(len(cells_seg))])\n",
    "\n",
    "test_set_loader =  DataLoader(MIBIDataset(cells), batch_size=1, \n",
    "                       shuffle=True, num_workers=4, pin_memory=gpu_available)\n"
   ]
  },
  {
   "cell_type": "markdown",
   "metadata": {},
   "source": [
    "# Spade"
   ]
  },
  {
   "cell_type": "code",
   "execution_count": 6,
   "metadata": {
    "collapsed": true
   },
   "outputs": [],
   "source": [
    "# kind of batch normalization, k should have same size with input channels\n",
    "\n",
    "class SPADE(nn.Module):\n",
    "    def __init__(self, input_size, filters=128, kernel_size=3, num_chan=num_chan):\n",
    "        super().__init__()\n",
    "        output_size = input_size\n",
    "        self.conv = nn.Conv2d(num_chan, filters, kernel_size=(kernel_size, kernel_size), \n",
    "                              padding=1)\n",
    "        \n",
    "        self.conv_gamma = nn.Conv2d(filters, output_size, kernel_size=(kernel_size, kernel_size), \n",
    "                                    padding=1)\n",
    "        \n",
    "        self.conv_beta = nn.Conv2d(filters, output_size, kernel_size=(kernel_size, kernel_size), \n",
    "                                   padding=1)\n",
    "\n",
    "        self.norm = nn.InstanceNorm2d(output_size, affine=False)\n",
    "        \n",
    "    def forward(self, x, seg):\n",
    "        N, C, H, W = x.size()\n",
    "\n",
    "        x = self.norm(x)\n",
    "        \n",
    "        seg = F.interpolate(seg, size=(H,W), mode='nearest')\n",
    "        shared = F.relu(self.conv(seg))\n",
    "        \n",
    "        seg_gamma = self.conv_gamma(shared)\n",
    "        seg_beta = self.conv_beta(shared)\n",
    "        x = x * (1 + seg_gamma) + seg_beta\n",
    "\n",
    "        return x"
   ]
  },
  {
   "cell_type": "markdown",
   "metadata": {},
   "source": [
    "# Generator"
   ]
  },
  {
   "cell_type": "code",
   "execution_count": 7,
   "metadata": {
    "collapsed": true
   },
   "outputs": [],
   "source": [
    "class ResnetBlock(nn.Module):\n",
    "    def __init__(self, dim_in, dim_out, kernel_size=3):\n",
    "        super(ResnetBlock, self).__init__()\n",
    "        \n",
    "        self.if_shortcut = (dim_in != dim_out)\n",
    "        dim_middle = min(dim_in, dim_out)\n",
    "        \n",
    "        self.conv1 = spectral_norm(nn.Conv2d(in_channels=dim_in, out_channels=dim_middle,\n",
    "                                   kernel_size=kernel_size, padding=1))\n",
    "        self.conv2 = spectral_norm(nn.Conv2d(in_channels=dim_middle, out_channels=dim_out,\n",
    "                                   kernel_size=kernel_size, padding=1))\n",
    "        \n",
    "        if self.if_shortcut:\n",
    "            self.convs = spectral_norm(nn.Conv2d(dim_in, dim_out, kernel_size=1, bias=False))\n",
    "\n",
    "        self.norm1 = SPADE(dim_in)\n",
    "        self.norm2 = SPADE(dim_middle)\n",
    "        if self.if_shortcut:\n",
    "            self.norms = SPADE(dim_in)\n",
    "\n",
    "    def forward(self, x, seg):\n",
    "\n",
    "        xs = self.shortcut(x, seg)\n",
    "\n",
    "        dx = self.conv1(self.actvn(self.norm1(x, seg)))\n",
    "        dx = self.conv2(self.actvn(self.norm2(dx, seg)))\n",
    "\n",
    "        out = xs + dx\n",
    "\n",
    "        return out\n",
    "        \n",
    "        \n",
    "    def shortcut(self, x, seg):\n",
    "        if self.if_shortcut:\n",
    "            xs = self.convs(self.norms(x, seg))\n",
    "        else:\n",
    "            xs = x\n",
    "        return xs\n",
    "    \n",
    "    def actvn(self, x):\n",
    "        return F.leaky_relu(x, 0.2)     \n"
   ]
  },
  {
   "cell_type": "code",
   "execution_count": 8,
   "metadata": {
    "collapsed": true
   },
   "outputs": [],
   "source": [
    "class ChannelGenerator(nn.Module):\n",
    "    \n",
    "    def __init__(self,\n",
    "                num_chan = num_chan,\n",
    "                nc = nc):\n",
    "        super().__init__()\n",
    "        \n",
    "#         self.num_chan = num_chan\n",
    "        \n",
    "        self.ups = nn.Upsample(scale_factor=2, mode='nearest')\n",
    "        \n",
    "        self.linear = nn.Linear(128, 2048)\n",
    "        \n",
    "        self.resblk_1 = ResnetBlock(128,  128)   # (8,8)\n",
    "        self.resblk_2 = ResnetBlock(128,  128)   # (16,16)\n",
    "        self.resblk_3 = ResnetBlock(128,  64)   # (32,32)\n",
    "        self.resblk_4 = ResnetBlock(64,  32)   # (64,64)\n",
    "        \n",
    "        self.final = nn.Conv2d(32, nc, kernel_size=3, padding=1)\n",
    "        \n",
    "        \n",
    "    def forward(self, x, seg, n1=None, n2=None):\n",
    "\n",
    "        curr_size = x.size(0)\n",
    "    \n",
    "        x = self.linear(x)\n",
    "        x = x.view(-1, 128, 4 ,4)\n",
    "        \n",
    "        x = self.ups(x)\n",
    "        x = self.resblk_1(x,seg)\n",
    "        \n",
    "        x = self.ups(x)\n",
    "        x = self.resblk_2(x,seg)\n",
    "        \n",
    "        x = self.ups(x)\n",
    "        x = self.resblk_3(x,seg)\n",
    "        \n",
    "        x = self.ups(x)\n",
    "        x = self.resblk_4(x,seg)\n",
    "        \n",
    "        x = self.final(F.leaky_relu(x, 0.2))\n",
    "        \n",
    "        return nn.Sigmoid()(x)\n",
    "        # return x"
   ]
  },
  {
   "cell_type": "code",
   "execution_count": null,
   "metadata": {
    "collapsed": true
   },
   "outputs": [],
   "source": []
  },
  {
   "cell_type": "code",
   "execution_count": null,
   "metadata": {
    "collapsed": true
   },
   "outputs": [],
   "source": []
  },
  {
   "cell_type": "markdown",
   "metadata": {},
   "source": [
    "# Discriminator"
   ]
  },
  {
   "cell_type": "code",
   "execution_count": 9,
   "metadata": {
    "collapsed": true
   },
   "outputs": [],
   "source": [
    "class DiscriminatorBase(nn.Module):\n",
    "    def __init__(self,\n",
    "                 ndf=ndf,\n",
    "                 num_chan=num_chan, \n",
    "                 batch_size=batch_size,\n",
    "                 nz=nz,\n",
    "                 nc=nc):\n",
    "        super(DiscriminatorBase, self).__init__()\n",
    "\n",
    "        self.layer1 = nn.Sequential(\n",
    "            # input is (nc) x 64 x 64\n",
    "            nn.Conv2d(num_chan + nc, ndf, kernel_size=4, stride=2, padding=1),\n",
    "            nn.InstanceNorm2d(ndf),\n",
    "            nn.LeakyReLU(0.2, inplace=False))\n",
    "        \n",
    "        self.layer2 = nn.Sequential(\n",
    "            # state size. (ndf) x 32 x 32\n",
    "            nn.Conv2d(ndf, ndf * 2, kernel_size=4, stride=2, padding=1),\n",
    "            nn.InstanceNorm2d(ndf * 2),\n",
    "            nn.LeakyReLU(0.2, inplace=False))\n",
    "        \n",
    "        self.layer3 = nn.Sequential(\n",
    "            # state size. (ndf*2) x 16 x 16\n",
    "            nn.Conv2d(ndf * 2, ndf * 4, kernel_size=4, stride=2, padding=1),\n",
    "            nn.InstanceNorm2d(ndf * 4),\n",
    "            nn.LeakyReLU(0.2, inplace=False))\n",
    "        \n",
    "        self.layer4 = nn.Sequential(\n",
    "            # state size. (ndf*4) x 8 x 8\n",
    "            nn.Conv2d(ndf * 4, ndf * 8, kernel_size=4, stride=2, padding=1),\n",
    "            nn.InstanceNorm2d(ndf * 8),\n",
    "            nn.LeakyReLU(0.2, inplace=False))\n",
    "        \n",
    "        self.layer5 = nn.Sequential(\n",
    "            nn.Conv2d(ndf * 8, ndf * 16, kernel_size=4, stride=2, padding=1),\n",
    "            nn.InstanceNorm2d(ndf * 16),\n",
    "            nn.LeakyReLU(0.2, inplace=False))\n",
    "            \n",
    "        \n",
    "        self.layer6 = nn.Sequential(\n",
    "            # state size. (ndf*8) x 4 x 4\n",
    "            nn.Conv2d(ndf * 16, 1, kernel_size=3, stride=2, padding=1),\n",
    "            nn.Sigmoid()\n",
    "        )\n",
    "\n",
    "        self.feature_maps = []\n",
    "        \n",
    "    def forward(self, input, X_seg):\n",
    "        x = torch.cat([input, X_seg], dim=1)\n",
    "        \n",
    "        x = self.layer1(x)\n",
    "        self.feature_maps.append(x)\n",
    "        \n",
    "        x = self.layer2(x)\n",
    "        self.feature_maps.append(x)\n",
    "        \n",
    "        x = self.layer3(x)\n",
    "        self.feature_maps.append(x)\n",
    "        \n",
    "        x = self.layer4(x)\n",
    "        self.feature_maps.append(x)\n",
    "        \n",
    "        x = self.layer5(x)\n",
    "        self.feature_maps.append(x)\n",
    "        \n",
    "        x = self.layer6(x)\n",
    "        # self.feature_maps.append(x)\n",
    "        \n",
    "        return x\n",
    "    \n",
    "    def reset(self):\n",
    "        self.feature_maps = []\n"
   ]
  },
  {
   "cell_type": "code",
   "execution_count": null,
   "metadata": {
    "collapsed": true
   },
   "outputs": [],
   "source": []
  },
  {
   "cell_type": "markdown",
   "metadata": {},
   "source": [
    "# Training"
   ]
  },
  {
   "cell_type": "code",
   "execution_count": 11,
   "metadata": {},
   "outputs": [
    {
     "name": "stdout",
     "output_type": "stream",
     "text": [
      "Initialized\n"
     ]
    },
    {
     "name": "stderr",
     "output_type": "stream",
     "text": [
      "/home/ubuntu/MIBI/full/utilities.py:18: UserWarning: nn.init.xavier_uniform is now deprecated in favor of nn.init.xavier_uniform_.\n",
      "  nn.init.xavier_uniform(m.weight.data)\n"
     ]
    }
   ],
   "source": [
    "netG = ChannelGenerator().float().cuda()\n",
    "netD = DiscriminatorBase().float().cuda()\n",
    "\n",
    "optimizerG = optim.Adam(netG.parameters(), lr=0.0008)\n",
    "optimizerD = optim.Adam(netD.parameters(), lr=0.0001)\n",
    "\n",
    "netG.apply(weights_init)\n",
    "netD.apply(weights_init)\n",
    "\n",
    "# Initialize loss functions\n",
    "criterionG = nn.MSELoss()\n",
    "criterionD = nn.MSELoss()\n",
    "\n",
    "# Establish convention for real and fake labels during training\n",
    "real_label = 1\n",
    "fake_label = 0\n",
    "\n",
    "print(\"Initialized\")"
   ]
  },
  {
   "cell_type": "code",
   "execution_count": null,
   "metadata": {
    "collapsed": true,
    "scrolled": true
   },
   "outputs": [],
   "source": [
    "# Training Loop\n",
    "num_epochs = 120\n",
    "\n",
    "# Lists to keep track of progress\n",
    "img_list = []\n",
    "G_losses = []\n",
    "D_losses = []\n",
    "R_losses = []\n",
    "iters = 0\n",
    "\n",
    "d_iters = 1\n",
    "g_iters = 1\n",
    "\n",
    "print(\"Starting Training Loop...\")\n",
    "# For each epoch\n",
    "for epoch in range(1, num_epochs):\n",
    "    if epoch % 100 == 0:\n",
    "        for param_group in optimizerG.param_groups:\n",
    "                param_group['lr'] /= 2\n",
    "        for param_group in optimizerD.param_groups:\n",
    "                param_group['lr'] /= 2\n",
    "                \n",
    "                \n",
    "    for idx, data in enumerate(train_set_loader):\n",
    "        \n",
    "        X_seg, X_real = data\n",
    "        X_seg = torch.clamp(X_seg.transpose(2,1), 0, 1).float().cuda()\n",
    "        X_real = X_real.transpose(2,1).float().cuda()\n",
    "        \n",
    "        ## Train with all-real batch\n",
    "        for _ in range(d_iters):\n",
    "            netD.zero_grad()\n",
    "            \n",
    "            output = netD(X_real, X_seg)\n",
    "            label = torch.full(output.size(), real_label).cuda()\n",
    "            \n",
    "            errD_real = criterionD(output, label)\n",
    "            errD_real.backward()\n",
    "            \n",
    "            D_x = output.mean().item()\n",
    "            \n",
    "            noise = 0.5 * torch.randn(X_seg.size()[0], 128).cuda()\n",
    "            fake = netG(noise, X_seg.detach())\n",
    "            label.fill_(fake_label)\n",
    "            output = netD(fake.detach(), X_seg.detach())\n",
    "            errD_fake = criterionD(output, label)\n",
    "            errD_fake.backward()\n",
    "            \n",
    "            D_G_z1 = output.mean().item()\n",
    "\n",
    "            errD = errD_real + errD_fake \n",
    "            \n",
    "            optimizerD.step()\n",
    "                \n",
    "            netD.zero_grad()\n",
    "            netD.reset()\n",
    "            \n",
    "        for _ in range(g_iters):\n",
    "            netG.zero_grad()\n",
    "            \n",
    "            fake = netG(noise, X_seg.detach())\n",
    "            label.fill_(real_label)\n",
    "            \n",
    "            output = netD(fake, X_seg.detach())\n",
    "            errG = criterionD(output, label)\n",
    "            \n",
    "            # feature matching loss\n",
    "            D_fm_fake = netD.feature_maps   # fake feature map\n",
    "            netD.reset()\n",
    "            \n",
    "            output_real = netD(X_real.detach(), X_seg.detach()).view(-1)\n",
    "            D_fm_real = netD.feature_maps   # real feature map\n",
    "            netD.reset()\n",
    "            \n",
    "            D_fm_loss = 0\n",
    "            for i in range(len(D_fm_fake)):\n",
    "                D_fm_loss += nn.L1Loss()(D_fm_fake[i], D_fm_real[i])\n",
    "               \n",
    "            r_loss = D_fm_loss\n",
    "            Lambda = 10\n",
    "            errG += Lambda*D_fm_loss\n",
    "            \n",
    "            errG.backward()\n",
    "            D_G_z2 = output.mean().item()\n",
    "            optimizerG.step()\n",
    "            \n",
    "            \n",
    "            \n",
    "        if idx % 10 == 0:\n",
    "            print('[%d/%d][%d/%d]\\tLoss_D: %.4f\\tLoss_G: %.4f\\tLoss_R: %.4f\\tD(x): %.4f\\tD(G(z)): %.4f / %.4f'\n",
    "                  % (epoch, num_epochs, idx, len(train_set_loader),\n",
    "                     errD.item(), errG.item(), r_loss.item(), D_x, D_G_z1, D_G_z2))\n",
    "\n",
    "        # Save Losses for plotting later\n",
    "        G_losses.append(errG.item())\n",
    "        D_losses.append(errD.item())\n",
    "\n",
    "        \n",
    "    if epoch % 5 == 1:\n",
    "        \n",
    "        fig=plt.figure(figsize=(2.5, 2.5))\n",
    "        print(\"Segmentation: \")\n",
    "        plt.imshow(seg_show(X_seg.detach().cpu().numpy()[0]))\n",
    "        plt.show()\n",
    "        \n",
    "        \n",
    "        fig=plt.figure(figsize=(16, 10))\n",
    "        columns = 7\n",
    "        rows = 4\n",
    "        print(\"Fake: \")\n",
    "        for i in range(24):\n",
    "            fig.add_subplot(rows, columns, i+1)\n",
    "            plt.title(channel_names[i])\n",
    "            plt.imshow(fake.detach().cpu().numpy()[0][i],cmap='hot', interpolation='nearest')\n",
    "        plt.show()\n",
    "        \n",
    "        \n",
    "        fig=plt.figure(figsize=(16, 10))\n",
    "        columns = 7\n",
    "        rows = 4\n",
    "        print(\"Real: \")\n",
    "        for i in range(24):\n",
    "            fig.add_subplot(rows, columns, i+1)\n",
    "            plt.title(channel_names[i])\n",
    "            plt.imshow( X_real[0,i,:,:].detach().cpu().numpy(),cmap='hot', interpolation='nearest')\n",
    "        plt.show()\n",
    "        \n",
    "        \n",
    "        fig=plt.figure(figsize=(16, 10))\n",
    "        columns = 7\n",
    "        rows = 4\n",
    "        print(\"Scaled Fake: \")\n",
    "        for i in range(24):\n",
    "            fig.add_subplot(rows, columns, i+1)\n",
    "            plt.title(channel_names[i])\n",
    "            plt.imshow(fake.detach().cpu().numpy()[0][i],cmap='hot', interpolation='nearest', norm=normalize)\n",
    "        plt.show()\n",
    "        \n",
    "        \n",
    "        fig=plt.figure(figsize=(16, 10))\n",
    "        columns = 7\n",
    "        rows = 4\n",
    "        print(\"Scaled Real: \")\n",
    "        for i in range(24):\n",
    "            fig.add_subplot(rows, columns, i+1)\n",
    "            plt.title(channel_names[i])\n",
    "            plt.imshow(X_real[0,i,:,:].detach().cpu().numpy(),cmap='hot', interpolation='nearest', norm=normalize)\n",
    "        plt.show()\n",
    "\n",
    " \n",
    "\n",
    "    if epoch % 20 == 1:\n",
    "        print(\"============================\")\n",
    "        print(\"test cell\")\n",
    "        print(\"============================\")\n",
    "        \n",
    "        for idx, data in enumerate(test_set_loader):\n",
    "        \n",
    "            X_seg, X_real = data\n",
    "            X_seg = torch.clamp(X_seg.transpose(2,1), 0, 1).float().cuda()\n",
    "            X_real = X_real.transpose(2,1).float().cuda()\n",
    "            noise = 0.5 * torch.randn(X_seg.size()[0], 128).cuda()\n",
    "            break\n",
    "        \n",
    "        \n",
    "        fake = netG(noise, X_seg.detach())\n",
    "            \n",
    "        fig=plt.figure(figsize=(2.5, 2.5))\n",
    "        print(\"Segmentation: \")\n",
    "        plt.imshow(seg_show(X_seg.detach().cpu().numpy()[0]))\n",
    "        plt.show()\n",
    "        \n",
    "        fig=plt.figure(figsize=(16, 10))\n",
    "        columns = 7\n",
    "        rows = 4\n",
    "        print(\"Fake: \")\n",
    "        for i in range(24):\n",
    "            fig.add_subplot(rows, columns, i+1)\n",
    "            plt.title(channel_names[i])\n",
    "            plt.imshow(fake.detach().cpu().numpy()[0][i],cmap='hot', interpolation='nearest')\n",
    "        plt.show()\n",
    "        \n",
    "        \n",
    "        fig=plt.figure(figsize=(16, 10))\n",
    "        columns = 7\n",
    "        rows = 4\n",
    "        print(\"Real: \")\n",
    "        for i in range(24):\n",
    "            fig.add_subplot(rows, columns, i+1)\n",
    "            plt.title(channel_names[i])\n",
    "            plt.imshow( X_real[0,i,:,:].detach().cpu().numpy(),cmap='hot', interpolation='nearest')\n",
    "        plt.show()\n",
    "        \n",
    "        \n",
    "        fig=plt.figure(figsize=(16, 10))\n",
    "        columns = 7\n",
    "        rows = 4\n",
    "        print(\"Scaled Fake: \")\n",
    "        for i in range(24):\n",
    "            fig.add_subplot(rows, columns, i+1)\n",
    "            plt.title(channel_names[i])\n",
    "            plt.imshow(fake.detach().cpu().numpy()[0][i],cmap='hot', interpolation='nearest', norm=normalize)\n",
    "        plt.show()\n",
    "        \n",
    "        \n",
    "        fig=plt.figure(figsize=(16, 10))\n",
    "        columns = 7\n",
    "        rows = 4\n",
    "        print(\"Scaled Real: \")\n",
    "        for i in range(24):\n",
    "            fig.add_subplot(rows, columns, i+1)\n",
    "            plt.title(channel_names[i])\n",
    "            plt.imshow(X_real[0,i,:,:].detach().cpu().numpy(),cmap='hot', interpolation='nearest', norm=normalize)\n",
    "        plt.show()\n"
   ]
  },
  {
   "cell_type": "code",
   "execution_count": null,
   "metadata": {
    "collapsed": true
   },
   "outputs": [],
   "source": []
  },
  {
   "cell_type": "markdown",
   "metadata": {},
   "source": [
    "# Save & Load Model"
   ]
  },
  {
   "cell_type": "code",
   "execution_count": null,
   "metadata": {
    "collapsed": true,
    "scrolled": true
   },
   "outputs": [],
   "source": [
    "state = {\n",
    "    'epoch': epoch,\n",
    "    'G': netG.state_dict(),\n",
    "    'optimizerG': optimizerG.state_dict(),\n",
    "    'D' : netD.state_dict(),\n",
    "    'optimizerD' : optimizerD.state_dict()\n",
    "}\n",
    "torch.save(state, './model/baseline_spade')"
   ]
  },
  {
   "cell_type": "code",
   "execution_count": 10,
   "metadata": {},
   "outputs": [
    {
     "data": {
      "text/plain": [
       "IncompatibleKeys(missing_keys=[], unexpected_keys=[])"
      ]
     },
     "execution_count": 10,
     "metadata": {},
     "output_type": "execute_result"
    }
   ],
   "source": [
    "netG = ChannelGenerator().float().cuda()\n",
    "state = torch.load('./model/baseline_spade')\n",
    "netG.load_state_dict(state['G'])"
   ]
  },
  {
   "cell_type": "markdown",
   "metadata": {},
   "source": [
    "# Reconstruction Metrics"
   ]
  },
  {
   "cell_type": "markdown",
   "metadata": {},
   "source": [
    "# Adjusted L1"
   ]
  },
  {
   "cell_type": "code",
   "execution_count": null,
   "metadata": {},
   "outputs": [],
   "source": [
    "# Adjust L1\n",
    "\n",
    "Loss = 0\n",
    "AdjLoss  = 0\n",
    "for idx, data in enumerate(test_set_loader):\n",
    "\n",
    "    X_seg, X_real = data\n",
    "    X_seg = torch.clamp(X_seg.transpose(2,1), 0, 1).float().cuda()\n",
    "    X_real = X_real.transpose(2,1).float().cuda()\n",
    "    X_mask = (1 - X_seg[:,-1]).unsqueeze(1)\n",
    "    noise = 0.5 * torch.randn(X_seg.size()[0], 128).cuda()\n",
    "    fake = netG(noise, X_seg).detach()\n",
    "    outside = (1 - X_mask) * fake\n",
    "    \n",
    "    B,C = X_real.size()[:2]\n",
    "    real_data = (X_mask*X_real).view(B, C, -1)\n",
    "    fake_data = (X_mask*fake).view(B, C, -1)\n",
    "    # print(real_data.shape)\n",
    "    \n",
    "    real_rank, _ = torch.sort(real_data, dim=2)\n",
    "    fake_rank, _ = torch.sort(fake_data, dim=2)\n",
    "    \n",
    "    Loss += nn.L1Loss()(real_rank[:], fake_rank[:])\n",
    "    AdjLoss += nn.L1Loss()(real_rank[:], fake_rank[:])\n",
    "    AdjLoss += nn.L1Loss()(outside[:], torch.zeros_like(outside[:]))\n",
    "    \n",
    "print('spade Adjust L1 Metric:', AdjLoss.item())\n",
    "print('spade Pure L1 Metric:', Loss.item())"
   ]
  },
  {
   "cell_type": "markdown",
   "metadata": {},
   "source": [
    "# Adjusted MSE "
   ]
  },
  {
   "cell_type": "code",
   "execution_count": 18,
   "metadata": {},
   "outputs": [
    {
     "name": "stdout",
     "output_type": "stream",
     "text": [
      "spade Adjust L1 Metric: 0.030705349519848824\n",
      "spade Pure L1 Metric: 0.030625656247138977\n"
     ]
    }
   ],
   "source": [
    "# Adjust MSE\n",
    "\n",
    "Loss = 0\n",
    "AdjLoss  = 0\n",
    "for idx, data in enumerate(test_set_loader):\n",
    "\n",
    "    X_seg, X_real = data\n",
    "    X_seg = torch.clamp(X_seg.transpose(2,1), 0, 1).float().cuda()\n",
    "    X_real = X_real.transpose(2,1).float().cuda()\n",
    "    X_mask = (1 - X_seg[:,-1]).unsqueeze(1)\n",
    "    noise = 0.5 * torch.randn(X_seg.size()[0], 128).cuda()\n",
    "    fake = netG(noise, X_seg).detach()\n",
    "    outside = (1 - X_mask) * fake\n",
    "    \n",
    "    B,C = X_real.size()[:2]\n",
    "    real_data = (X_mask*X_real).view(B, C, -1)\n",
    "    fake_data = (X_mask*fake).view(B, C, -1)\n",
    "    # print(real_data.shape)\n",
    "    \n",
    "    real_rank, _ = torch.sort(real_data, dim=2)\n",
    "    fake_rank, _ = torch.sort(fake_data, dim=2)\n",
    "    \n",
    "    Loss += nn.MSELoss()(real_rank[:], fake_rank[:])\n",
    "    AdjLoss += nn.MSELoss()(real_rank[:], fake_rank[:])\n",
    "    AdjLoss += nn.MSELoss()(outside[:], torch.zeros_like(outside[:]))\n",
    "    \n",
    "print('spade Adjust MSE Metric:', AdjLoss.item())\n",
    "print('spade Pure MSE Metric:', Loss.item())"
   ]
  },
  {
   "cell_type": "code",
   "execution_count": null,
   "metadata": {
    "collapsed": true
   },
   "outputs": [],
   "source": []
  },
  {
   "cell_type": "markdown",
   "metadata": {},
   "source": [
    "# SSIM"
   ]
  },
  {
   "cell_type": "code",
   "execution_count": 12,
   "metadata": {
    "collapsed": true
   },
   "outputs": [],
   "source": [
    "cells_seg_list = []\n",
    "cells_real_list = []\n",
    "\n",
    "download_path = './data/benchmark'\n",
    "filelist = os.listdir(download_path)\n",
    "\n",
    "for i in range(len(filelist)):\n",
    "    patch = download_path + '/cell_' + str(i) + '.npy'\n",
    "    cells_seg_list.append(np.load(patch)[0])\n",
    "    cells_real_list.append(np.load(patch)[1])"
   ]
  },
  {
   "cell_type": "code",
   "execution_count": 32,
   "metadata": {
    "scrolled": false
   },
   "outputs": [
    {
     "name": "stderr",
     "output_type": "stream",
     "text": [
      "/home/ubuntu/anaconda3/lib/python3.6/site-packages/skimage/util/arraycrop.py:177: FutureWarning: Using a non-tuple sequence for multidimensional indexing is deprecated; use `arr[tuple(seq)]` instead of `arr[seq]`. In the future this will be interpreted as an array index, `arr[np.array(seq)]`, which will result either in an error or a different result.\n",
      "  cropped = ar[slices]\n"
     ]
    },
    {
     "name": "stdout",
     "output_type": "stream",
     "text": [
      "ssim score: 0.9533247637391726\n",
      "Pan-Keratin 0.8884157697420001\n",
      "EGFR 0.9959946974098162\n",
      "Beta catenin 0.7895202821761088\n",
      "dsDNA 0.8148255447081495\n",
      "Ki67 0.9924888667205016\n",
      "CD3 0.972576310411545\n",
      "CD8 0.9709910606581553\n",
      "CD4 0.9961643471596012\n",
      "FoxP3 0.9999483714801959\n",
      "MPO 0.9993480908794583\n",
      "HLA-DR 0.9792498604669935\n",
      "HLA_Class_1 0.7312995687115973\n",
      "CD209 0.9999686589392875\n",
      "CD11b 0.9990996766508632\n",
      "CD11c 0.9960643942418373\n",
      "CD68 0.9907117917485699\n",
      "CD63 0.9944712732944291\n",
      "Lag3 0.9980195748531716\n",
      "PD1 0.9791280682231944\n",
      "PD-L1 0.8755976465654229\n",
      "IDO 0.9989636828140451\n",
      "Vimentin 0.943145238918583\n",
      "SMA 0.974982341297089\n",
      "CD31 0.9988192116695163\n"
     ]
    }
   ],
   "source": [
    "from skimage.measure import compare_ssim\n",
    "\n",
    "ssim_score = 0\n",
    "ssim_channels = np.zeros(nc)\n",
    "\n",
    "for c in range(len(cells_seg_list)):\n",
    "    \n",
    "    seg_list = cells_seg_list[c]\n",
    "    real_list = cells_real_list[c]\n",
    "    n_cell = len(seg_list)\n",
    "    noise = 0.5 * torch.randn(1, 128).cuda()\n",
    "    \n",
    "    # seg_test = 0\n",
    "    seg_test = np.sum(seg_list, axis=0)\n",
    "    empty = np.less(np.sum(seg_test, axis=0, keepdims=True), 0.5).astype(np.float32)\n",
    "    seg_test_18 = np.concatenate([seg_test, empty], axis=0)\n",
    "    X_seg_0 = torch.Tensor(seg_test_18).unsqueeze(0).cuda()\n",
    "    \n",
    "    # fake = netG(noise, X_seg_0).detach().cpu().numpy()[0]\n",
    "    fake = netG(noise, X_seg_0).detach().cpu().numpy()[0]\n",
    "    \n",
    "    # fake = netF(fake, X_seg_0)\n",
    "    for j in range(nc):\n",
    "        fake_i = fake[j].astype(float)\n",
    "        real_i = np.sum(real_list, axis=0)[j].astype(float)  # i-th cell, j-th channel\n",
    "\n",
    "        # plt.imshow(fake_i)\n",
    "        # plt.show()\n",
    "        # plt.imshow(real_i)\n",
    "        # plt.show()\n",
    "        ssim_score += compare_ssim(fake_i, real_i)/nc\n",
    "        ssim_channels[j] += compare_ssim(fake_i, real_i)\n",
    "\n",
    "print('ssim score:', ssim_score/len(cells_seg_list))\n",
    "for j in range(nc):\n",
    "    print(channel_names[j], ssim_channels[j]/len(cells_seg_list))"
   ]
  },
  {
   "cell_type": "code",
   "execution_count": null,
   "metadata": {
    "collapsed": true
   },
   "outputs": [],
   "source": []
  },
  {
   "cell_type": "markdown",
   "metadata": {},
   "source": [
    "# Cell Based MI"
   ]
  },
  {
   "cell_type": "code",
   "execution_count": 23,
   "metadata": {
    "collapsed": true
   },
   "outputs": [],
   "source": [
    "def mutual_information(hgram):\n",
    "    \"\"\" Mutual information for joint histogram\n",
    "    \"\"\"\n",
    "    # Convert bins counts to probability values\n",
    "    pxy = hgram / float(np.sum(hgram))\n",
    "    px = np.sum(pxy, axis=1) # marginal for x over y\n",
    "    py = np.sum(pxy, axis=0) # marginal for y over x\n",
    "    px_py = px[:, None] * py[None, :] # Broadcast to multiply marginals\n",
    "    # Now we can do the calculation using the pxy, px_py 2D arrays\n",
    "    nzs = pxy > 0 # Only non-zero pxy values contribute to the sum\n",
    "    return np.sum(pxy[nzs] * np.log(pxy[nzs] / px_py[nzs]))"
   ]
  },
  {
   "cell_type": "code",
   "execution_count": null,
   "metadata": {
    "collapsed": true
   },
   "outputs": [],
   "source": [
    "total_mi = 0\n",
    "n_bin = 50\n",
    "mi_channels = np.zeros(nc)\n",
    "\n",
    "for c in range(len(cells_seg_list)):\n",
    "    \n",
    "    seg_list = cells_seg_list[c]\n",
    "    real_list = cells_real_list[c]\n",
    "    n_cell = len(seg_list)\n",
    "    noise = 0.5 * torch.randn(1, 128).cuda()\n",
    "    \n",
    "    # seg_test = 0\n",
    "    seg_test = np.sum(seg_list, axis=0)\n",
    "    empty = np.less(np.sum(seg_test, axis=0, keepdims=True), 0.5).astype(np.float32)\n",
    "    seg_test_18 = np.concatenate([seg_test, empty], axis=0)\n",
    "    X_seg_0 = torch.Tensor(seg_test_18).unsqueeze(0).cuda()\n",
    "    \n",
    "    fake = netG(noise, X_seg_0).detach().cpu().numpy()[0]\n",
    "    \n",
    "    for i in range(n_cell):\n",
    "        mask = seg_list[i].sum(axis=0)\n",
    "        \n",
    "        for j in range(nc):\n",
    "            fake_i = (fake*mask)[j].flatten()\n",
    "            real_i = real_list[i][j].flatten()   # i-th cell, j-th channel\n",
    "            \n",
    "            hist_2d, _, _ = np.histogram2d(fake_i, real_i, bins=n_bin)\n",
    "\n",
    "            mi = mutual_information(hist_2d)\n",
    "            mi_channels[j] += mi/n_cell/nc\n",
    "            total_mi += mi/n_cell/nc\n",
    "            \n",
    "print('mutual information:', total_mi)\n",
    "for j in range(nc):\n",
    "    print(channel_names[j], mi_channels[j])"
   ]
  },
  {
   "cell_type": "markdown",
   "metadata": {},
   "source": [
    "# Biological Significant"
   ]
  },
  {
   "cell_type": "markdown",
   "metadata": {},
   "source": [
    "# Center of Mass"
   ]
  },
  {
   "cell_type": "code",
   "execution_count": 10,
   "metadata": {
    "collapsed": true
   },
   "outputs": [],
   "source": [
    "cells_seg_list = []\n",
    "cells_real_list = []\n",
    "\n",
    "download_path = './data/cd8_test_c24'\n",
    "filelist = os.listdir(download_path)\n",
    "\n",
    "for i in range(len(filelist)):\n",
    "    patch = download_path + '/cell_' + str(i) + '.npy'\n",
    "    cells_seg_list.append(np.load(patch)[0])\n",
    "    cells_real_list.append(np.load(patch)[1])"
   ]
  },
  {
   "cell_type": "code",
   "execution_count": 41,
   "metadata": {},
   "outputs": [
    {
     "name": "stdout",
     "output_type": "stream",
     "text": [
      "center of mass score: 10.709831983085161\n"
     ]
    }
   ],
   "source": [
    "cm_score = 0\n",
    "\n",
    "for c in range(len(cells_seg_list)):\n",
    "    \n",
    "    seg_list = cells_seg_list[c]\n",
    "    real_list = cells_real_list[c]\n",
    "    n_cell = len(seg_list)\n",
    "    xy = np.mgrid[0:64,0:64]\n",
    "    noise = 0.5 * torch.randn(1, 128).cuda()\n",
    "    \n",
    "    # seg_test = 0\n",
    "    seg_test = np.sum(seg_list, axis=0)\n",
    "    empty = np.less(np.sum(seg_test, axis=0, keepdims=True), 0.5).astype(np.float32)\n",
    "    seg_test_18 = np.concatenate([seg_test, empty], axis=0)\n",
    "    X_seg_0 = torch.Tensor(seg_test_18).unsqueeze(0).cuda()\n",
    "    \n",
    "    \n",
    "    fake = netG(noise, X_seg_0).detach().cpu().numpy()[0]\n",
    "        \n",
    "    fake_tcell = fake * seg_list[0].sum(axis=0)    # only consider the expression in T cells\n",
    "    fake_tumor = fake * (seg_test-seg_list[0]).sum(axis=0)    # only consider the expression in tumor cells\n",
    "\n",
    "    cm_tumor_y = (xy[0]*fake_tumor).sum(axis=(1,2)) / (fake_tumor.sum(axis=(1,2))+1e-15)\n",
    "    cm_tumor_x = (xy[1]*fake_tumor).sum(axis=(1,2)) / (fake_tumor.sum(axis=(1,2))+1e-15)\n",
    "    cm_tumor = np.array([cm_tumor_x, cm_tumor_y])\n",
    "    \n",
    "    tcell_mask = seg_list[0].sum(axis=0)\n",
    "    tcell_seg = np.array(np.where(tcell_mask==1))\n",
    "    dist = np.linalg.norm(tcell_seg - cm_tumor[:, 19:20], axis=0)\n",
    "    cm_idx = np.argmin(dist)\n",
    "    cm_tumor_incell = tcell_seg[:, cm_idx]\n",
    "    \n",
    "    \n",
    "    cm_tcell_y = (xy[0]*fake_tcell).sum(axis=(1,2)) / (fake_tcell.sum(axis=(1,2))+1e-15)\n",
    "    cm_tcell_x = (xy[1]*fake_tcell).sum(axis=(1,2)) / (fake_tcell.sum(axis=(1,2))+1e-15)\n",
    "    cm_tcell = np.array([cm_tcell_x, cm_tcell_y])\n",
    "\n",
    "    \n",
    "    cm_score += np.linalg.norm(cm_tcell[:,18] - cm_tumor_incell[:], ord=2)\n",
    "    # cm_score += np.linalg.norm(cm_tcell[:,19] - cm_tumor[:,20], ord=2)\n",
    "    \n",
    "print('center of mass score:', cm_score / len(cells_seg_list))"
   ]
  },
  {
   "cell_type": "markdown",
   "metadata": {},
   "source": [
    "# EM Distance"
   ]
  },
  {
   "cell_type": "code",
   "execution_count": 12,
   "metadata": {
    "collapsed": true
   },
   "outputs": [],
   "source": [
    "from scipy.stats import wasserstein_distance\n",
    "\n",
    "def cart2pol(x, y):\n",
    "    rho = np.sqrt(x**2 + y**2)\n",
    "    phi = np.arctan2(y, x)\n",
    "    if phi < 0:\n",
    "        phi = 2*np.pi + phi\n",
    "        \n",
    "    return (rho, phi)\n",
    "\n",
    "\n",
    "def compute_histogram(img, divider=30, size = 64, offset=32):\n",
    "\n",
    "    histogram = np.zeros([divider])\n",
    "\n",
    "    for i in range(size):\n",
    "        for j in range(size):\n",
    "            x = j - offset\n",
    "            y = offset - i\n",
    "            \n",
    "            rho, phi = cart2pol(x,y)\n",
    "            # normalize to [0,divider]\n",
    "            degree = divider * phi/(2*np.pi) \n",
    "            index = int(np.floor(degree))\n",
    "            histogram[index] += img[i,j]\n",
    "            \n",
    "    return histogram"
   ]
  },
  {
   "cell_type": "code",
   "execution_count": null,
   "metadata": {
    "collapsed": true
   },
   "outputs": [],
   "source": [
    "# EM score threshold\n",
    "em_score = 0\n",
    "direct_right = 0\n",
    "direct_wrong = 0\n",
    "direct_all = 0\n",
    "\n",
    "for c in range(len(cells_seg_list)):\n",
    "\n",
    "    \n",
    "    seg_list = cells_seg_list[c]\n",
    "    real_list = cells_real_list[c]\n",
    "    n_cell = len(seg_list)\n",
    "    noise = 0.5 * torch.randn(1, 128).cuda()\n",
    "    \n",
    "    seg_test = 0\n",
    "    xy = np.mgrid[0:64,0:64]\n",
    "    centroids_seg = []\n",
    "    centroids_tcell = []\n",
    "    centroids_tumor = []\n",
    "    express_tcell = []\n",
    "    for i in range(n_cell):\n",
    "\n",
    "        # non-weighted centroid of segmentation\n",
    "        cy = np.where(seg_list[i]==1)[1].mean()\n",
    "        cx = np.where(seg_list[i]==1)[2].mean()\n",
    "        centroids_seg.append(np.array([cx, cy]))\n",
    "\n",
    "        # weighted centroid of T cells\n",
    "        seg_test += seg_list[i]\n",
    "        empty = np.less(np.sum(seg_test, axis=0, keepdims=True), 0.5).astype(np.float32)\n",
    "        seg_test_18 = np.concatenate([seg_test, empty], axis=0)\n",
    "        X_seg_0 = torch.Tensor(seg_test_18).unsqueeze(0).cuda()\n",
    "        \n",
    "        fake = netG(noise, X_seg_0).detach().cpu().numpy()[0]\n",
    "        \n",
    "        fake_tcell = fake * seg_list[0].sum(axis=0)    # only consider the expression in T cells\n",
    "        fake_tumor = fake * seg_list[i].sum(axis=0)    # only consider the expression in tumor cells\n",
    "        # fake_tumor = fake * (seg_test-seg_list[0]).sum(axis=0)\n",
    "        histo_cur = compute_histogram(fake_tcell[18])\n",
    "        \n",
    "        # weighted centroid of T cells\n",
    "        cy_all = (xy[0]*fake_tcell).sum(axis=(1,2)) / (fake_tcell.sum(axis=(1,2))+1e-15)\n",
    "        cx_all = (xy[1]*fake_tcell).sum(axis=(1,2)) / (fake_tcell.sum(axis=(1,2))+1e-15)\n",
    "        centroids_tcell.append(np.array([cx_all, cy_all]))\n",
    "\n",
    "        \n",
    "        # weighted centroid of tumor cells\n",
    "        cy_all = (xy[0]*fake_tumor).sum(axis=(1,2)) / (fake_tumor.sum(axis=(1,2))+1e-15)\n",
    "        cx_all = (xy[1]*fake_tumor).sum(axis=(1,2)) / (fake_tumor.sum(axis=(1,2))+1e-15)\n",
    "        centroids_tumor.append(np.array([cx_all, cy_all]))\n",
    "        \n",
    "        # print(fake_tumor[19].sum())\n",
    "        \n",
    "        if i > 0 and fake_tumor[19].sum() > 1e-4:\n",
    "            \n",
    "            direct_all += 1\n",
    "            # the previous angle\n",
    "            \n",
    "            v1 = (centroids_tumor[i][:,19] - centroids_seg[0])    # previous centroid of T cell            \n",
    "            v2 = (centroids_tcell[i][:,18] - centroids_tcell[i-1][:,18])    # current centroid of T cell\n",
    "            \n",
    "            if i == 1: # no work so much\n",
    "                v2 = (centroids_tcell[i][:,18] - centroids_seg[0])\n",
    "                \n",
    "            cos_theta = np.dot(v1,v2)/np.linalg.norm(v1)/np.linalg.norm(v2)\n",
    "            \n",
    "            em_dist = wasserstein_distance(histo_cur, histo_pre)\n",
    "            \n",
    "            \n",
    "            if cos_theta > 0:\n",
    "                direct_right += 1\n",
    "                \n",
    "            elif cos_theta < 0:\n",
    "                direct_wrong += 1\n",
    "                \n",
    "            if cos_theta > 0 and histo_cur.sum() > histo_pre.sum():   # threshold the theta / check the expression level\n",
    "                em_score +=  np.linalg.norm(v2) * em_dist\n",
    "                \n",
    "            elif cos_theta < 0:\n",
    "                em_score -= np.linalg.norm(v2) * em_dist\n",
    "        \n",
    "        histo_pre = histo_cur.copy()  \n",
    "        \n",
    "print(\"Direction: right:{}, wrong:{}, total:{}\".format(direct_right, direct_wrong, direct_all))\n",
    "\n",
    "print(\"em_score:{}\".format(em_score))"
   ]
  },
  {
   "cell_type": "code",
   "execution_count": null,
   "metadata": {
    "collapsed": true
   },
   "outputs": [],
   "source": []
  },
  {
   "cell_type": "markdown",
   "metadata": {},
   "source": [
    "# Pan-Keratin / CD8 Experiment"
   ]
  },
  {
   "cell_type": "code",
   "execution_count": 11,
   "metadata": {
    "collapsed": true
   },
   "outputs": [],
   "source": [
    "cells_seg_list = []\n",
    "cells_real_list = []\n",
    "\n",
    "download_path = './data/cd8_test_c24'\n",
    "filelist = os.listdir(download_path)\n",
    "\n",
    "for i in range(len(filelist)):\n",
    "    patch = download_path + '/cell_' + str(i) + '.npy'\n",
    "    cells_seg_list.append(np.load(patch)[0])\n",
    "    cells_real_list.append(np.load(patch)[1])"
   ]
  },
  {
   "cell_type": "code",
   "execution_count": 12,
   "metadata": {
    "collapsed": true
   },
   "outputs": [],
   "source": [
    "# CD8 Test\n",
    "noise = 0.5 * torch.randn(1, 128).cuda()\n",
    "total = 0\n",
    "decrease = 0\n",
    "\n",
    "\n",
    "surface_area = []\n",
    "tumor_expression = []\n",
    "\n",
    "for c in range(len(cells_seg_list)):\n",
    "    seg_list = cells_seg_list[c]\n",
    "    real_list = cells_real_list[c]\n",
    "    n_cell = len(seg_list)\n",
    "    \n",
    "    for k in range(1, n_cell):\n",
    "    \n",
    "        seg_tumor = np.sum(seg_list[0], axis=0)\n",
    "        seg_test = np.zeros([17, 64, 64])\n",
    "        seg_test[4] = seg_tumor    # tumor\n",
    "        \n",
    "        seg_cd8 = 0\n",
    "        if k == 0:\n",
    "            seg_test[7] =  0   # cd8\n",
    "        else:\n",
    "            seg_cd8 = np.sum(seg_list[1:k+1], axis=0).sum(0)\n",
    "            seg_test[7] = seg_cd8    # cd8\n",
    "         \n",
    "        \n",
    "        \n",
    "        empty = np.less(np.sum(seg_test, axis=0, keepdims=True), 0.5).astype(np.float32)\n",
    "        seg_test_18 = np.concatenate([seg_test, empty], axis=0)\n",
    "        X_seg_0 = torch.Tensor(seg_test_18).unsqueeze(0).cuda()\n",
    "\n",
    "        fake = netG(noise, X_seg_0).detach().cpu().numpy()[0]\n",
    "        \n",
    "        pk_cur = (fake[0]*seg_tumor).sum()/ seg_tumor.sum()\n",
    " \n",
    "        surface_area.append(seg_cd8.sum())\n",
    "        tumor_expression.append(pk_cur)\n",
    "        "
   ]
  },
  {
   "cell_type": "code",
   "execution_count": 13,
   "metadata": {},
   "outputs": [
    {
     "name": "stdout",
     "output_type": "stream",
     "text": [
      "slop after normalization: 0.003338708318154775\n"
     ]
    },
    {
     "data": {
      "image/png": "[encoded data removed]",
      "text/plain": [
       "<Figure size 432x288 with 1 Axes>"
      ]
     },
     "metadata": {},
     "output_type": "display_data"
    }
   ],
   "source": [
    "x = np.array(surface_area)\n",
    "y = np.array(tumor_expression)\n",
    "\n",
    "plt.xlabel('surface area')\n",
    "plt.ylabel('tumor expression')\n",
    "plt.scatter(x,y,s=1)\n",
    "\n",
    "\n",
    "from sklearn.linear_model import LinearRegression\n",
    "reg = LinearRegression().fit(x.reshape(-1,1), y.reshape(-1,1))\n",
    "t = np.arange(0,2500).reshape(-1,1)\n",
    "y_t = reg.predict(t)\n",
    "plt.plot(t,y_t,'r')\n",
    "print('slop after normalization:',reg.coef_[0][0]*(64*64))\n",
    "\n",
    "plt.show()"
   ]
  },
  {
   "cell_type": "code",
   "execution_count": 14,
   "metadata": {
    "collapsed": true
   },
   "outputs": [],
   "source": [
    "# CD8 Test: Tumor Controll\n",
    "noise = 0.5 * torch.randn(1, 128).cuda()\n",
    "total = 0\n",
    "decrease = 0\n",
    "\n",
    "\n",
    "surface_area = []\n",
    "tumor_expression = []\n",
    "\n",
    "for c in range(len(cells_seg_list)):\n",
    "    seg_list = cells_seg_list[c]\n",
    "    real_list = cells_real_list[c]\n",
    "    n_cell = len(seg_list)\n",
    "    \n",
    "    for k in range(1, n_cell):\n",
    "    \n",
    "        seg_tumor = np.sum(seg_list[0], axis=0)\n",
    "        seg_test = np.zeros([17, 64, 64])\n",
    "        seg_test[4] = seg_tumor    # tumor\n",
    "        \n",
    "        seg_cd3 = 0\n",
    "        if k>0:\n",
    "            seg_cd3 = np.sum(seg_list[1:k+1], axis=0).sum(0)\n",
    "            seg_test[4] += seg_cd3    # cd8\n",
    "        \n",
    "        \n",
    "        empty = np.less(np.sum(seg_test, axis=0, keepdims=True), 0.5).astype(np.float32)\n",
    "        seg_test_18 = np.concatenate([seg_test, empty], axis=0)\n",
    "        X_seg_0 = torch.Tensor(seg_test_18).unsqueeze(0).cuda()\n",
    "\n",
    "        fake = netG(noise, X_seg_0).detach().cpu().numpy()[0]\n",
    "        \n",
    "        pk_cur = (fake[0]*seg_tumor).sum() / seg_tumor.sum()\n",
    " \n",
    "        surface_area.append(seg_cd3.sum())\n",
    "        tumor_expression.append(pk_cur)\n",
    "        "
   ]
  },
  {
   "cell_type": "code",
   "execution_count": 15,
   "metadata": {},
   "outputs": [
    {
     "name": "stdout",
     "output_type": "stream",
     "text": [
      "slop after normalization: 0.003808254142054597\n"
     ]
    },
    {
     "data": {
      "image/png": "[encoded data removed]",
      "text/plain": [
       "<Figure size 432x288 with 1 Axes>"
      ]
     },
     "metadata": {},
     "output_type": "display_data"
    }
   ],
   "source": [
    "x = np.array(surface_area)\n",
    "y = np.array(tumor_expression)\n",
    "\n",
    "plt.xlabel('surface area')\n",
    "plt.ylabel('tumor expression')\n",
    "plt.scatter(x,y,s=1)\n",
    "\n",
    "\n",
    "from sklearn.linear_model import LinearRegression\n",
    "reg = LinearRegression().fit(x.reshape(-1,1), y.reshape(-1,1))\n",
    "t = np.arange(0,2500).reshape(-1,1)\n",
    "y_t = reg.predict(t)\n",
    "plt.plot(t,y_t,'r')\n",
    "print('slop after normalization:',reg.coef_[0][0]*(64*64))\n",
    "\n",
    "plt.show()"
   ]
  },
  {
   "cell_type": "code",
   "execution_count": 19,
   "metadata": {
    "collapsed": true
   },
   "outputs": [],
   "source": [
    "# CD8 Test\n",
    "noise = 0.5 * torch.randn(1, 128).cuda()\n",
    "total = 0\n",
    "decrease = 0\n",
    "\n",
    "\n",
    "cell_num = []\n",
    "tumor_expression = []\n",
    "\n",
    "for c in range(len(cells_seg_list)):\n",
    "    seg_list = cells_seg_list[c]\n",
    "    real_list = cells_real_list[c]\n",
    "    n_cell = len(seg_list)\n",
    "    \n",
    "    for k in range(1, n_cell):\n",
    "    \n",
    "        seg_tumor = np.sum(seg_list[0], axis=0)\n",
    "        seg_test = np.zeros([17, 64, 64])\n",
    "        seg_test[4] = seg_tumor    # tumor\n",
    "        \n",
    "        \n",
    "        if k == 0:\n",
    "            seg_test[7] =  0   # cd8\n",
    "        else:\n",
    "            seg_cd3 = np.sum(seg_list[1:k+1], axis=0).sum(0)\n",
    "            seg_test[7] = seg_cd3    # cd8\n",
    "\n",
    "        \n",
    "        empty = np.less(np.sum(seg_test, axis=0, keepdims=True), 0.5).astype(np.float32)\n",
    "        seg_test_18 = np.concatenate([seg_test, empty], axis=0)\n",
    "        X_seg_0 = torch.Tensor(seg_test_18).unsqueeze(0).cuda()\n",
    "\n",
    "        fake = netG(noise, X_seg_0).detach().cpu().numpy()[0]\n",
    "        \n",
    "        pk_cur = (fake[0]*seg_tumor).sum() / seg_tumor.sum()\n",
    "        \n",
    "        cell_num.append(k)\n",
    "        tumor_expression.append(pk_cur)\n",
    "        "
   ]
  },
  {
   "cell_type": "code",
   "execution_count": 20,
   "metadata": {
    "collapsed": true
   },
   "outputs": [],
   "source": [
    "n_max = np.max(cell_num)\n",
    "x_mean = np.zeros(n_max)\n",
    "x_std = np.zeros(n_max)\n",
    "for k in range(1, n_max+1):\n",
    "    exp_k = []\n",
    "    for i in range(len(cell_num)):\n",
    "        if cell_num[i]==k:\n",
    "            # print(k)\n",
    "            exp_k.append(tumor_expression[i])\n",
    "    x_mean[k-1] = np.mean(exp_k)\n",
    "    x_std[k-1] = np.std(exp_k)"
   ]
  },
  {
   "cell_type": "code",
   "execution_count": 21,
   "metadata": {},
   "outputs": [
    {
     "data": {
      "image/png": "[encoded data removed]",
      "text/plain": [
       "<Figure size 432x288 with 1 Axes>"
      ]
     },
     "metadata": {},
     "output_type": "display_data"
    }
   ],
   "source": [
    "t = np.arange(n_max)\n",
    "plt.xlabel('number of cells')\n",
    "plt.ylabel('tumor expression')\n",
    "plt.bar(t,x_mean, yerr=x_std, align='center', alpha=0.5, ecolor='black', capsize=5)\n",
    "plt.show()"
   ]
  },
  {
   "cell_type": "code",
   "execution_count": null,
   "metadata": {
    "collapsed": true
   },
   "outputs": [],
   "source": []
  }
 ],
 "metadata": {
  "kernelspec": {
   "display_name": "Python 3",
   "language": "python",
   "name": "python3"
  },
  "language_info": {
   "codemirror_mode": {
    "name": "ipython",
    "version": 3
   },
   "file_extension": ".py",
   "mimetype": "text/x-python",
   "name": "python",
   "nbconvert_exporter": "python",
   "pygments_lexer": "ipython3",
   "version": "3.7.3"
  }
 },
 "nbformat": 4,
 "nbformat_minor": 2
}
