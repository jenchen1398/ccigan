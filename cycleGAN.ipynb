{
 "cells": [
  {
   "cell_type": "markdown",
   "metadata": {},
   "source": [
    " "
   ]
  },
  {
   "cell_type": "markdown",
   "metadata": {},
   "source": [
    "# cycleGAN"
   ]
  },
  {
   "cell_type": "markdown",
   "metadata": {},
   "source": [
    "  "
   ]
  },
  {
   "cell_type": "code",
   "execution_count": 1,
   "metadata": {
    "collapsed": true
   },
   "outputs": [],
   "source": [
    "import torch\n",
    "import torch.nn as nn\n",
    "import torch.optim as optim\n",
    "import torch.nn.utils\n",
    "from torch.nn.utils import spectral_norm\n",
    "import torch.nn.functional as F\n",
    "from torch.autograd import Variable\n",
    "import numpy as np\n",
    "import matplotlib.pyplot as plt\n",
    "import matplotlib\n",
    "import os\n",
    "\n",
    "from torch.utils.data import DataLoader\n",
    "from ds import MIBIDataset\n",
    "import torch.nn.utils.spectral_norm as spectral_norm\n",
    "\n",
    "from utilities import weights_init, seg_show"
   ]
  },
  {
   "cell_type": "code",
   "execution_count": 2,
   "metadata": {
    "collapsed": true
   },
   "outputs": [],
   "source": [
    "normalize = matplotlib.colors.Normalize(vmin=0, vmax=1)\n",
    "\n",
    "torch.cuda.set_device(0)\n",
    "gpu_available = True\n",
    "channel_names = [\"Pan-Keratin\", \"EGFR\", \"Beta catenin\", \"dsDNA\",\n",
    "                 \"Ki67\", \"CD3\", \"CD8\", \"CD4\", \"FoxP3\", \"MPO\", \"HLA-DR\", \n",
    "                 \"HLA_Class_1\", \"CD209\", \"CD11b\",  \"CD11c\", \"CD68\", \"CD63\",\n",
    "                 \"Lag3\", \"PD1\", \"PD-L1\", \"IDO\", \"Vimentin\", \"SMA\", \"CD31\"]"
   ]
  },
  {
   "cell_type": "markdown",
   "metadata": {},
   "source": [
    "# Parameters"
   ]
  },
  {
   "cell_type": "code",
   "execution_count": 3,
   "metadata": {
    "collapsed": true
   },
   "outputs": [],
   "source": [
    "# Learning rate for optimizers\n",
    "batch_size = 32\n",
    "nz = hidden_size = 128\n",
    "kernel = 3\n",
    "\n",
    "# Number of input channels (later to be number of classes)\n",
    "num_chan = 18\n",
    "\n",
    "# Size of feature maps in discriminator\n",
    "ndf = 32\n",
    "\n",
    "# Output dimension\n",
    "nc = 24\n",
    "\n",
    "# Beta1 hyperparam for Adam optimizers\n",
    "beta1 = 0.5\n",
    "\n",
    "c24_idx = np.array(range(25))\n",
    "c24_idx = np.delete(c24_idx, 4)"
   ]
  },
  {
   "cell_type": "markdown",
   "metadata": {},
   "source": [
    "# Read In Data"
   ]
  },
  {
   "cell_type": "code",
   "execution_count": null,
   "metadata": {},
   "outputs": [],
   "source": [
    "# train data\n",
    "cells_seg = []\n",
    "cells_real = []\n",
    "keys = []\n",
    "\n",
    "path = './data'\n",
    "filelist = os.listdir(path + '/train')\n",
    "\n",
    "for i in range(int(len(filelist[:]))): # have both counts and cells\n",
    "    patch = path + '/train/cell_' + str(i) + '.npy'\n",
    "    cells_seg.append(np.load(patch)[0])\n",
    "    cells_real.append(np.load(patch)[1][c24_idx])\n",
    "\n",
    "print('number of total cells: %d' % (len(cells_seg))) \n",
    "\n",
    "cells_seg = np.array(cells_seg)\n",
    "empty = np.less(np.sum(cells_seg, axis=1, keepdims=True), 0.5).astype(np.float32)\n",
    "cells_seg = np.concatenate([cells_seg, empty], axis=1)\n",
    "\n",
    "\n",
    "cells_real = np.array(cells_real) \n",
    "cells = np.array([[cells_seg[i], cells_real[i]] for i in range(len(cells_seg))])\n",
    "\n",
    "train_set_loader = DataLoader(MIBIDataset(cells), batch_size=batch_size, \n",
    "                       shuffle=True, num_workers=4, pin_memory=gpu_available)"
   ]
  },
  {
   "cell_type": "code",
   "execution_count": null,
   "metadata": {},
   "outputs": [],
   "source": [
    "# test data\n",
    "\n",
    "cells_seg = []\n",
    "cells_real = []\n",
    "keys = []\n",
    "\n",
    "path = './data'\n",
    "filelist = os.listdir(path + '/test')\n",
    "\n",
    "for i in range(int(len(filelist[:]))): # have both counts and cells\n",
    "    patch = path + '/test/cell_' + str(i) + '.npy'\n",
    "    cells_seg.append(np.load(patch)[0])\n",
    "    cells_real.append(np.load(patch)[1][c24_idx])\n",
    "\n",
    "print('number of total cells: %d' % (len(cells_seg))) \n",
    "\n",
    "\n",
    "cells_seg = np.array(cells_seg)\n",
    "empty = np.less(np.sum(cells_seg, axis=1, keepdims=True), 0.5).astype(np.float32)\n",
    "cells_seg = np.concatenate([cells_seg, empty], axis=1)\n",
    "\n",
    "cells_real = np.array(cells_real)\n",
    "cells = np.array([[cells_seg[i], cells_real[i]] for i in range(len(cells_seg))])\n",
    "\n",
    "test_set_loader =  DataLoader(MIBIDataset(cells), batch_size=1, \n",
    "                       shuffle=True, num_workers=4, pin_memory=gpu_available)\n"
   ]
  },
  {
   "cell_type": "code",
   "execution_count": null,
   "metadata": {
    "collapsed": true
   },
   "outputs": [],
   "source": []
  },
  {
   "cell_type": "markdown",
   "metadata": {},
   "source": [
    "# Generator"
   ]
  },
  {
   "cell_type": "code",
   "execution_count": 5,
   "metadata": {
    "collapsed": true
   },
   "outputs": [],
   "source": [
    "class ResnetBlock(nn.Module):\n",
    "    \"\"\"Define a Resnet block\"\"\"\n",
    "\n",
    "    def __init__(self, dim, padding_type, norm_layer, use_dropout, use_bias):\n",
    "        \"\"\"Initialize the Resnet block\n",
    "        A resnet block is a conv block with skip connections\n",
    "        We construct a conv block with build_conv_block function,\n",
    "        and implement skip connections in <forward> function.\n",
    "        Original Resnet paper: https://arxiv.org/pdf/1512.03385.pdf\n",
    "        \"\"\"\n",
    "        super(ResnetBlock, self).__init__()\n",
    "        self.conv_block = self.build_conv_block(dim, padding_type, norm_layer, use_dropout, use_bias)\n",
    "\n",
    "    def build_conv_block(self, dim, padding_type, norm_layer, use_dropout, use_bias):\n",
    "        \"\"\"Construct a convolutional block.\n",
    "        Parameters:\n",
    "            dim (int)           -- the number of channels in the conv layer.\n",
    "            padding_type (str)  -- the name of padding layer: reflect | replicate | zero\n",
    "            norm_layer          -- normalization layer\n",
    "            use_dropout (bool)  -- if use dropout layers.\n",
    "            use_bias (bool)     -- if the conv layer uses bias or not\n",
    "        Returns a conv block (with a conv layer, a normalization layer, and a non-linearity layer (ReLU))\n",
    "        \"\"\"\n",
    "        conv_block = []\n",
    "        p = 0\n",
    "        if padding_type == 'reflect':\n",
    "            conv_block += [nn.ReflectionPad2d(1)]\n",
    "        elif padding_type == 'replicate':\n",
    "            conv_block += [nn.ReplicationPad2d(1)]\n",
    "        elif padding_type == 'zero':\n",
    "            p = 1\n",
    "        else:\n",
    "            raise NotImplementedError('padding [%s] is not implemented' % padding_type)\n",
    "\n",
    "        conv_block += [nn.Conv2d(dim, dim, kernel_size=3, padding=p, bias=use_bias), norm_layer(dim), nn.ReLU(True)]\n",
    "        if use_dropout:\n",
    "            conv_block += [nn.Dropout(0.5)]\n",
    "\n",
    "        p = 0\n",
    "        if padding_type == 'reflect':\n",
    "            conv_block += [nn.ReflectionPad2d(1)]\n",
    "        elif padding_type == 'replicate':\n",
    "            conv_block += [nn.ReplicationPad2d(1)]\n",
    "        elif padding_type == 'zero':\n",
    "            p = 1\n",
    "        else:\n",
    "            raise NotImplementedError('padding [%s] is not implemented' % padding_type)\n",
    "        conv_block += [nn.Conv2d(dim, dim, kernel_size=3, padding=p, bias=use_bias), norm_layer(dim)]\n",
    "\n",
    "        return nn.Sequential(*conv_block)\n",
    "\n",
    "    def forward(self, x):\n",
    "        \"\"\"Forward function (with skip connections)\"\"\"\n",
    "        out = x + self.conv_block(x)  # add skip connections\n",
    "        return out"
   ]
  },
  {
   "cell_type": "code",
   "execution_count": 6,
   "metadata": {
    "collapsed": true
   },
   "outputs": [],
   "source": [
    "class ResnetGenerator(nn.Module):\n",
    "    \"\"\"Resnet-based generator that consists of Resnet blocks between a few downsampling/upsampling operations.\n",
    "    We adapt Torch code and idea from Justin Johnson's neural style transfer project(https://github.com/jcjohnson/fast-neural-style)\n",
    "    \"\"\"\n",
    "\n",
    "    def __init__(self, input_nc, output_nc, ngf=64, norm_layer=nn.BatchNorm2d, use_dropout=False, n_blocks=4, padding_type='reflect'):\n",
    "        \"\"\"Construct a Resnet-based generator\n",
    "        Parameters:\n",
    "            input_nc (int)      -- the number of channels in input images\n",
    "            output_nc (int)     -- the number of channels in output images\n",
    "            ngf (int)           -- the number of filters in the last conv layer\n",
    "            norm_layer          -- normalization layer\n",
    "            use_dropout (bool)  -- if use dropout layers\n",
    "            n_blocks (int)      -- the number of ResNet blocks\n",
    "            padding_type (str)  -- the name of padding layer in conv layers: reflect | replicate | zero\n",
    "        \"\"\"\n",
    "        assert(n_blocks >= 0)\n",
    "        super(ResnetGenerator, self).__init__()\n",
    "\n",
    "        use_bias = norm_layer == nn.InstanceNorm2d\n",
    "\n",
    "        model = [nn.ReflectionPad2d(3),\n",
    "                 nn.Conv2d(input_nc, ngf, kernel_size=7, padding=0, bias=use_bias),\n",
    "                 norm_layer(ngf),\n",
    "                 nn.ReLU(True)]\n",
    "\n",
    "        n_downsampling = 2\n",
    "        for i in range(n_downsampling):  # add downsampling layers\n",
    "            mult = 2 ** i\n",
    "            model += [nn.Conv2d(ngf * mult, ngf * mult * 2, kernel_size=3, stride=2, padding=1, bias=use_bias),\n",
    "                      norm_layer(ngf * mult * 2),\n",
    "                      nn.ReLU(True)]\n",
    "\n",
    "        mult = 2 ** n_downsampling\n",
    "        for i in range(n_blocks):       # add ResNet blocks\n",
    "\n",
    "            model += [ResnetBlock(ngf * mult, padding_type=padding_type, norm_layer=norm_layer, use_dropout=use_dropout, use_bias=use_bias)]\n",
    "\n",
    "        for i in range(n_downsampling):  # add upsampling layers\n",
    "            mult = 2 ** (n_downsampling - i)\n",
    "            model += [nn.ConvTranspose2d(ngf * mult, int(ngf * mult / 2),\n",
    "                                         kernel_size=3, stride=2,\n",
    "                                         padding=1, output_padding=1,\n",
    "                                         bias=use_bias),\n",
    "                      norm_layer(int(ngf * mult / 2)),\n",
    "                      nn.ReLU(True)]\n",
    "        model += [nn.ReflectionPad2d(3)]\n",
    "        model += [nn.Conv2d(ngf, output_nc, kernel_size=7, padding=0)]\n",
    "        model += [nn.Sigmoid()]\n",
    "\n",
    "        self.model = nn.Sequential(*model)\n",
    "\n",
    "    def forward(self, input):\n",
    "        \"\"\"Standard forward\"\"\"\n",
    "        return self.model(input)\n",
    "\n",
    "\n"
   ]
  },
  {
   "cell_type": "code",
   "execution_count": 8,
   "metadata": {
    "collapsed": true
   },
   "outputs": [],
   "source": [
    "# netG.encoder"
   ]
  },
  {
   "cell_type": "markdown",
   "metadata": {},
   "source": [
    "# Discriminator"
   ]
  },
  {
   "cell_type": "code",
   "execution_count": 7,
   "metadata": {
    "collapsed": true
   },
   "outputs": [],
   "source": [
    "class DiscriminatorBase(nn.Module):\n",
    "    def __init__(self,\n",
    "                 ndf=ndf, \n",
    "                 num_chan=num_chan, \n",
    "                 batch_size=batch_size,\n",
    "                 nz=nz,\n",
    "                 nc=nc):\n",
    "        super(DiscriminatorBase, self).__init__()\n",
    "\n",
    "        self.layer1 = nn.Sequential(\n",
    "            # input is (nc) x 64 x 64\n",
    "            nn.Conv2d(num_chan, ndf, kernel_size=4, stride=2, padding=1),\n",
    "            nn.InstanceNorm2d(ndf),\n",
    "            nn.LeakyReLU(0.2, inplace=False))\n",
    "        \n",
    "        self.layer2 = nn.Sequential(\n",
    "            # state size. (ndf) x 32 x 32\n",
    "            nn.Conv2d(ndf, ndf * 2, kernel_size=4, stride=2, padding=1),\n",
    "            nn.InstanceNorm2d(ndf * 2),\n",
    "            nn.LeakyReLU(0.2, inplace=False))\n",
    "        \n",
    "        self.layer3 = nn.Sequential(\n",
    "            # state size. (ndf*2) x 16 x 16\n",
    "            nn.Conv2d(ndf * 2, ndf * 4, kernel_size=4, stride=2, padding=1),\n",
    "            nn.InstanceNorm2d(ndf * 4),\n",
    "            nn.LeakyReLU(0.2, inplace=False))\n",
    "        \n",
    "        self.layer4 = nn.Sequential(\n",
    "            # state size. (ndf*4) x 8 x 8\n",
    "            nn.Conv2d(ndf * 4, ndf * 8, kernel_size=4, stride=2, padding=1),\n",
    "            nn.InstanceNorm2d(ndf * 8),\n",
    "            nn.LeakyReLU(0.2, inplace=False))\n",
    "        \n",
    "        self.layer5 = nn.Sequential(\n",
    "            nn.Conv2d(ndf * 8, ndf * 16, kernel_size=4, stride=2, padding=1),\n",
    "            nn.InstanceNorm2d(ndf * 16),\n",
    "            nn.LeakyReLU(0.2, inplace=False))\n",
    "            \n",
    "        \n",
    "        self.layer6 = nn.Sequential(\n",
    "            # state size. (ndf*8) x 4 x 4\n",
    "            nn.Conv2d(ndf * 16, 1, kernel_size=3, stride=2, padding=1),\n",
    "            nn.Sigmoid()\n",
    "        )\n",
    "\n",
    "        # self.feature_maps = []\n",
    "        \n",
    "    def forward(self, input):\n",
    "        \n",
    "        x = input\n",
    "        \n",
    "        x = self.layer1(x)\n",
    "        # self.feature_maps.append(x)\n",
    "        \n",
    "        x = self.layer2(x)\n",
    "        # self.feature_maps.append(x)\n",
    "        \n",
    "        x = self.layer3(x)\n",
    "        # self.feature_maps.append(x)\n",
    "        \n",
    "        x = self.layer4(x)\n",
    "        # self.feature_maps.append(x)\n",
    "        \n",
    "        x = self.layer5(x)\n",
    "        # self.feature_maps.append(x)\n",
    "        \n",
    "        x = self.layer6(x)\n",
    "        # self.feature_maps.append(x)\n",
    "        \n",
    "        return x\n"
   ]
  },
  {
   "cell_type": "code",
   "execution_count": null,
   "metadata": {
    "collapsed": true
   },
   "outputs": [],
   "source": []
  },
  {
   "cell_type": "code",
   "execution_count": null,
   "metadata": {
    "collapsed": true
   },
   "outputs": [],
   "source": []
  },
  {
   "cell_type": "markdown",
   "metadata": {},
   "source": [
    "# Training Loop"
   ]
  },
  {
   "cell_type": "code",
   "execution_count": 11,
   "metadata": {},
   "outputs": [
    {
     "name": "stdout",
     "output_type": "stream",
     "text": [
      "Initialized\n"
     ]
    },
    {
     "name": "stderr",
     "output_type": "stream",
     "text": [
      "/home/ubuntu/MIBI/full/utilities.py:18: UserWarning: nn.init.xavier_uniform is now deprecated in favor of nn.init.xavier_uniform_.\n",
      "  nn.init.xavier_uniform(m.weight.data)\n"
     ]
    }
   ],
   "source": [
    "# net A for generate real image\n",
    "# net B for generate segmentation\n",
    "\n",
    "netG_A = ResnetGenerator(18,24,6).float().cuda()\n",
    "netG_B = ResnetGenerator(24,18,6).float().cuda()\n",
    "netD_A = DiscriminatorBase(num_chan=24).float().cuda()\n",
    "netD_B = DiscriminatorBase(num_chan=18).float().cuda()\n",
    "\n",
    "optimizerG_A = optim.Adam(netG_A.parameters(), lr=0.0002)\n",
    "optimizerD_A = optim.Adam(netD_A.parameters(), lr=0.0002)\n",
    "\n",
    "optimizerG_B = optim.Adam(netG_B.parameters(), lr=0.0002)\n",
    "optimizerD_B = optim.Adam(netD_B.parameters(), lr=0.0002)\n",
    "\n",
    "\n",
    "netG_A.apply(weights_init)\n",
    "netD_A.apply(weights_init)\n",
    "netG_B.apply(weights_init)\n",
    "netD_B.apply(weights_init)\n",
    "\n",
    "# Initialize loss functions\n",
    "criterionG = nn.MSELoss()\n",
    "criterionD = nn.BCELoss()\n",
    "\n",
    "# Establish convention for real and fake labels during training\n",
    "real_label = 1\n",
    "fake_label = 0\n",
    "\n",
    "print(\"Initialized\")"
   ]
  },
  {
   "cell_type": "code",
   "execution_count": null,
   "metadata": {
    "collapsed": true,
    "scrolled": false
   },
   "outputs": [],
   "source": [
    "# Training Loop\n",
    "num_epochs = 120\n",
    "\n",
    "# Lists to keep track of progress\n",
    "img_list = []\n",
    "G_losses = []\n",
    "D_losses = []\n",
    "R_losses = []\n",
    "iters = 0\n",
    "\n",
    "d_iters = 1\n",
    "g_iters = 1\n",
    "\n",
    "print(\"Starting Training Loop...\")\n",
    "# For each epoch\n",
    "for epoch in range(1, num_epochs):\n",
    "    if epoch % 100 == 0:\n",
    "        for param_group in optimizerG_A.param_groups:\n",
    "                param_group['lr'] /= 2\n",
    "        for param_group in optimizerD_A.param_groups:\n",
    "                param_group['lr'] /= 2\n",
    "        for param_group in optimizerG_B.param_groups:\n",
    "                param_group['lr'] /= 2\n",
    "        for param_group in optimizerD_B.param_groups:\n",
    "                param_group['lr'] /= 2        \n",
    "                \n",
    "    for idx, data in enumerate(train_set_loader):\n",
    "        \n",
    "        X_seg, X_real = data\n",
    "        X_seg = torch.clamp(X_seg.transpose(2,1), 0, 1).float().cuda()\n",
    "        X_real = X_real.transpose(2,1).float().cuda()\n",
    "\n",
    "        \n",
    "        ## Train with all-real batch\n",
    "        for _ in range(d_iters):\n",
    "            netD_A.zero_grad()\n",
    "            netD_B.zero_grad()\n",
    "            \n",
    "            output_A = netD_A(X_real)\n",
    "            output_B = netD_B(X_seg)\n",
    "            label = torch.full(output_A.size(), real_label).cuda()\n",
    "            \n",
    "            errD_real = criterionD(output_A, label) + criterionD(output_B, label)\n",
    "            errD_real.backward()\n",
    "            \n",
    "            D_x = (output_A + output_B).mean().item() / 2.0\n",
    "            \n",
    "            # noise = 0.5 * torch.randn(X_seg.size()[0], 128).cuda()\n",
    "            fake_A = netG_A(X_seg)     # from seg to real\n",
    "            fake_B = netG_B(X_real)     # from real to seg\n",
    "            \n",
    "            label.fill_(fake_label)\n",
    "            output_A = netD_A(fake_A.detach())    # reral\n",
    "            output_B = netD_B(fake_B.detach())    # seg\n",
    "            \n",
    "            \n",
    "            errD_fake = criterionD(output_A, label) + criterionD(output_B, label)\n",
    "            errD_fake.backward()\n",
    "            \n",
    "            D_G_z1 = (output_A + output_B).mean().item() / 2.0\n",
    "\n",
    "            errD = errD_real + errD_fake \n",
    "            \n",
    "            optimizerD_A.step()\n",
    "            optimizerD_B.step()\n",
    "        \n",
    "            netD_A.zero_grad()\n",
    "            netD_B.zero_grad()\n",
    "            \n",
    "        for _ in range(g_iters):\n",
    "            netG_A.zero_grad()\n",
    "            netG_B.zero_grad()\n",
    "            \n",
    "            fake_A = netG_A(X_seg)   # real\n",
    "            fake_B = netG_B(X_real)  # seg\n",
    "            label.fill_(real_label)\n",
    "            \n",
    "            output_A = netD_A(fake_A)    # real\n",
    "            output_B = netD_B(fake_B)    # seg\n",
    "            errG = criterionD(output_A, label) + criterionD(output_B, label)\n",
    "\n",
    "            cycle_loss = 0\n",
    "            # fake A is real data, netG_B(fake_A) is segmentation\n",
    "            cycle_loss += nn.L1Loss()(netG_B(fake_A), X_seg) \n",
    "            # fake B is seg data, netG_A(fake_B) is real\n",
    "            cycle_loss += nn.L1Loss()(netG_A(fake_B), X_real) # L1 loss for seg\n",
    "            \n",
    "            labmda = 10\n",
    "            errG += labmda * cycle_loss\n",
    "            \n",
    "            errG.backward()\n",
    "            D_G_z2 = (output_A + output_B).mean().item() / 2.0\n",
    "            \n",
    "            optimizerG_A.step()\n",
    "            optimizerG_B.step()\n",
    "            \n",
    "        if idx % 10 == 0:\n",
    "            print('[%d/%d][%d/%d]\\tLoss_D: %.4f\\tLoss_G: %.4f\\tLoss_R: %.4f\\tD(x): %.4f\\tD(G(z)): %.4f / %.4f'\n",
    "                  % (epoch, num_epochs, idx, len(train_set_loader),\n",
    "                     errD.item(), errG.item(), cycle_loss.item(), D_x, D_G_z1, D_G_z2))\n",
    "\n",
    "        # Save Losses for plotting later\n",
    "        G_losses.append(errG.item())\n",
    "        D_losses.append(errD.item())\n",
    "\n",
    "        \n",
    "    if epoch % 5 == 1:\n",
    "\n",
    "        fig=plt.figure(figsize=(2.5, 2.5))\n",
    "        print(\"Segmentation: \")\n",
    "        plt.imshow(seg_show(X_seg.detach().cpu().numpy()[0]))\n",
    "        plt.show()\n",
    "        \n",
    "        fig=plt.figure(figsize=(16, 10))\n",
    "        columns = 7\n",
    "        rows = 4\n",
    "        print(\"Fake: \")\n",
    "        for i in range(24):\n",
    "            fig.add_subplot(rows, columns, i+1)\n",
    "            plt.title(channel_names[i])\n",
    "            plt.imshow(fake_A.detach().cpu().numpy()[0][i],cmap='hot', interpolation='nearest')\n",
    "        plt.show()\n",
    "        \n",
    "        \n",
    "        fig=plt.figure(figsize=(16, 10))\n",
    "        columns = 7\n",
    "        rows = 4\n",
    "        print(\"Real: \")\n",
    "        for i in range(24):\n",
    "            fig.add_subplot(rows, columns, i+1)\n",
    "            plt.title(channel_names[i])\n",
    "            plt.imshow( X_real[0,i,:,:].detach().cpu().numpy(),cmap='hot', interpolation='nearest')\n",
    "        plt.show()\n",
    "        \n",
    "        \n",
    "        fig=plt.figure(figsize=(16, 10))\n",
    "        columns = 7\n",
    "        rows = 4\n",
    "        print(\"Scaled Fake: \")\n",
    "        for i in range(24):\n",
    "            fig.add_subplot(rows, columns, i+1)\n",
    "            plt.title(channel_names[i])\n",
    "            plt.imshow(fake_A.detach().cpu().numpy()[0][i],cmap='hot', interpolation='nearest', norm=normalize)\n",
    "        plt.show()\n",
    "        \n",
    "        \n",
    "        fig=plt.figure(figsize=(16, 10))\n",
    "        columns = 7\n",
    "        rows = 4\n",
    "        print(\"Scaled Real: \")\n",
    "        for i in range(24):\n",
    "            fig.add_subplot(rows, columns, i+1)\n",
    "            plt.title(channel_names[i])\n",
    "            plt.imshow(X_real[0,i,:,:].detach().cpu().numpy(),cmap='hot', interpolation='nearest', norm=normalize)\n",
    "        plt.show()\n",
    "        \n",
    "        \n",
    "        \n",
    "    if epoch % 20 == 1:\n",
    "        print(\"============================\")\n",
    "        print(\"test cell\")\n",
    "        print(\"============================\")\n",
    "        \n",
    "        for idx, data in enumerate(test_set_loader):\n",
    "        \n",
    "            X_seg, X_real = data\n",
    "            X_seg = torch.clamp(X_seg.transpose(2,1), 0, 1).float().cuda()\n",
    "            X_real = X_real.transpose(2,1).float().cuda()\n",
    "            \n",
    "            break\n",
    "        \n",
    "        \n",
    "        fake_A = netG_A(X_seg.detach())\n",
    "            \n",
    "        fig=plt.figure(figsize=(2.5, 2.5))\n",
    "        print(\"Segmentation: \")\n",
    "        plt.imshow(seg_show(X_seg.detach().cpu().numpy()[0]))\n",
    "        plt.show()\n",
    "        \n",
    "        fig=plt.figure(figsize=(16, 10))\n",
    "        columns = 7\n",
    "        rows = 4\n",
    "        print(\"Fake: \")\n",
    "        for i in range(24):\n",
    "            fig.add_subplot(rows, columns, i+1)\n",
    "            plt.title(channel_names[i])\n",
    "            plt.imshow(fake_A.detach().cpu().numpy()[0][i],cmap='hot', interpolation='nearest')\n",
    "        plt.show()\n",
    "        \n",
    "        \n",
    "        fig=plt.figure(figsize=(16, 10))\n",
    "        columns = 7\n",
    "        rows = 4\n",
    "        print(\"Real: \")\n",
    "        for i in range(24):\n",
    "            fig.add_subplot(rows, columns, i+1)\n",
    "            plt.title(channel_names[i])\n",
    "            plt.imshow(X_real[0,i,:,:].detach().cpu().numpy(),cmap='hot', interpolation='nearest')\n",
    "        plt.show()\n",
    "        \n",
    "        \n",
    "        fig=plt.figure(figsize=(16, 10))\n",
    "        columns = 7\n",
    "        rows = 4\n",
    "        print(\"Scaled Fake: \")\n",
    "        for i in range(24):\n",
    "            fig.add_subplot(rows, columns, i+1)\n",
    "            plt.title(channel_names[i])\n",
    "            plt.imshow(fake_A.detach().cpu().numpy()[0][i],cmap='hot', interpolation='nearest', norm=normalize)\n",
    "        plt.show()\n",
    "        \n",
    "        \n",
    "        fig=plt.figure(figsize=(16, 10))\n",
    "        columns = 7\n",
    "        rows = 4\n",
    "        print(\"Scaled Real: \")\n",
    "        for i in range(24):\n",
    "            fig.add_subplot(rows, columns, i+1)\n",
    "            plt.title(channel_names[i])\n",
    "            plt.imshow(X_real[0,i,:,:].detach().cpu().numpy(),cmap='hot', interpolation='nearest', norm=normalize)\n",
    "        plt.show()\n"
   ]
  },
  {
   "cell_type": "markdown",
   "metadata": {},
   "source": [
    "# Save & Load Model"
   ]
  },
  {
   "cell_type": "code",
   "execution_count": 15,
   "metadata": {
    "collapsed": true
   },
   "outputs": [],
   "source": [
    "state = {\n",
    "    'epoch': epoch,\n",
    "    'G': netG_A.state_dict(),\n",
    "    'optimizerG': optimizerG_A.state_dict(),\n",
    "    'D' : netD_A.state_dict(),\n",
    "    'optimizerD' : optimizerD_A.state_dict()\n",
    "}\n",
    "torch.save(state, './model/baseline_cycleGAN')"
   ]
  },
  {
   "cell_type": "code",
   "execution_count": 8,
   "metadata": {},
   "outputs": [
    {
     "data": {
      "text/plain": [
       "IncompatibleKeys(missing_keys=[], unexpected_keys=[])"
      ]
     },
     "execution_count": 8,
     "metadata": {},
     "output_type": "execute_result"
    }
   ],
   "source": [
    "netG_A = ResnetGenerator(18,24,6).float().cuda()\n",
    "state = torch.load('./model/baseline_cycleGAN')\n",
    "netG_A.load_state_dict(state['G'])"
   ]
  },
  {
   "cell_type": "markdown",
   "metadata": {},
   "source": [
    "# Reconstruction Metrics"
   ]
  },
  {
   "cell_type": "markdown",
   "metadata": {},
   "source": [
    "# Adjusted L1"
   ]
  },
  {
   "cell_type": "code",
   "execution_count": 19,
   "metadata": {},
   "outputs": [
    {
     "name": "stdout",
     "output_type": "stream",
     "text": [
      "Adjust L1 Metric: 4.74533748626709\n",
      "Pure L1 Metric: 3.959035873413086\n"
     ]
    }
   ],
   "source": [
    "# Adjust L1\n",
    "\n",
    "Loss = 0\n",
    "AdjLoss  = 0\n",
    "for idx, data in enumerate(test_set_loader):\n",
    "\n",
    "    X_seg, X_real = data\n",
    "    X_seg = torch.clamp(X_seg.transpose(2,1), 0, 1).float().cuda()\n",
    "    X_real = X_real.transpose(2,1).float().cuda()\n",
    "    X_mask = (1 - X_seg[:,-1]).unsqueeze(1)\n",
    "    noise = 0.5 * torch.randn(X_seg.size()[0], 128).cuda()\n",
    "    fake = netG_A(X_seg).detach()\n",
    "    outside = (1 - X_mask) * fake\n",
    "    \n",
    "    B,C = X_real.size()[:2]\n",
    "    real_data = (X_mask*X_real).view(B, C, -1)\n",
    "    fake_data = (X_mask*fake).view(B, C, -1)\n",
    "    # print(real_data.shape)\n",
    "    \n",
    "    real_rank, _ = torch.sort(real_data, dim=2)\n",
    "    fake_rank, _ = torch.sort(fake_data, dim=2)\n",
    "    \n",
    "    Loss += nn.L1Loss()(real_rank[:], fake_rank[:])\n",
    "    AdjLoss += nn.L1Loss()(real_rank[:], fake_rank[:])\n",
    "    AdjLoss += nn.L1Loss()(outside[:], torch.zeros_like(outside[:]))\n",
    "    \n",
    "print('Adjust L1 Metric:', AdjLoss.item())\n",
    "print('Pure L1 Metric:', Loss.item())"
   ]
  },
  {
   "cell_type": "markdown",
   "metadata": {},
   "source": [
    "# Adjusted MSE"
   ]
  },
  {
   "cell_type": "code",
   "execution_count": 20,
   "metadata": {},
   "outputs": [
    {
     "name": "stdout",
     "output_type": "stream",
     "text": [
      "Adjust L1 Metric: 1.8410778045654297\n",
      "Pure L1 Metric: 1.5232505798339844\n"
     ]
    }
   ],
   "source": [
    "# Adjust MSE\n",
    "\n",
    "Loss = 0\n",
    "AdjLoss  = 0\n",
    "for idx, data in enumerate(test_set_loader):\n",
    "\n",
    "    X_seg, X_real = data\n",
    "    X_seg = torch.clamp(X_seg.transpose(2,1), 0, 1).float().cuda()\n",
    "    X_real = X_real.transpose(2,1).float().cuda()\n",
    "    X_mask = (1 - X_seg[:,-1]).unsqueeze(1)\n",
    "    noise = 0.5 * torch.randn(X_seg.size()[0], 128).cuda()\n",
    "    fake = netG_A(X_seg).detach()\n",
    "    outside = (1 - X_mask) * fake\n",
    "    \n",
    "    B,C = X_real.size()[:2]\n",
    "    real_data = (X_mask*X_real).view(B, C, -1)\n",
    "    fake_data = (X_mask*fake).view(B, C, -1)\n",
    "    # print(real_data.shape)\n",
    "    \n",
    "    real_rank, _ = torch.sort(real_data, dim=2)\n",
    "    fake_rank, _ = torch.sort(fake_data, dim=2)\n",
    "    \n",
    "    Loss += nn.MSELoss()(real_rank[:], fake_rank[:])\n",
    "    AdjLoss += nn.MSELoss()(real_rank[:], fake_rank[:])\n",
    "    AdjLoss += nn.MSELoss()(outside[:], torch.zeros_like(outside[:]))\n",
    "    \n",
    "print('Adjust MSE Metric:', AdjLoss.item())\n",
    "print('Pure MSE Metric:', Loss.item())"
   ]
  },
  {
   "cell_type": "markdown",
   "metadata": {},
   "source": [
    "# SSIM"
   ]
  },
  {
   "cell_type": "code",
   "execution_count": 10,
   "metadata": {
    "collapsed": true
   },
   "outputs": [],
   "source": [
    "cells_seg_list = []\n",
    "cells_real_list = []\n",
    "\n",
    "download_path = './data/benchmark_p14'\n",
    "filelist = os.listdir(download_path)\n",
    "\n",
    "for i in range(len(filelist)):\n",
    "    patch = download_path + '/cell_' + str(i) + '.npy'\n",
    "    cells_seg_list.append(np.load(patch)[0])\n",
    "    cells_real_list.append(np.load(patch)[1])"
   ]
  },
  {
   "cell_type": "code",
   "execution_count": 23,
   "metadata": {},
   "outputs": [
    {
     "name": "stderr",
     "output_type": "stream",
     "text": [
      "/home/ubuntu/anaconda3/lib/python3.6/site-packages/skimage/util/arraycrop.py:177: FutureWarning: Using a non-tuple sequence for multidimensional indexing is deprecated; use `arr[tuple(seq)]` instead of `arr[seq]`. In the future this will be interpreted as an array index, `arr[np.array(seq)]`, which will result either in an error or a different result.\n",
      "  cropped = ar[slices]\n"
     ]
    },
    {
     "name": "stdout",
     "output_type": "stream",
     "text": [
      "ssim score: 0.8809145165387516\n",
      "Pan-Keratin 0.8187361092156094\n",
      "EGFR 0.9972809569975479\n",
      "Beta catenin 0.5168599206550522\n",
      "dsDNA 0.4973884389850895\n",
      "Ki67 0.9615287057821243\n",
      "CD3 0.9427756681144835\n",
      "CD8 0.9729569181960426\n",
      "CD4 0.9771394589641068\n",
      "FoxP3 0.9999999999999999\n",
      "MPO 0.9990111463146572\n",
      "HLA-DR 0.9022520843371044\n",
      "HLA_Class_1 0.2968819965200382\n",
      "CD209 0.9999999999999988\n",
      "CD11b 0.9895177895380284\n",
      "CD11c 0.9885190539072409\n",
      "CD68 0.9342855798832719\n",
      "CD63 0.981329827318071\n",
      "Lag3 0.9993878485578126\n",
      "PD1 0.9849182412554274\n",
      "PD-L1 0.6718834235438924\n",
      "IDO 0.9999279896906733\n",
      "Vimentin 0.7552882784345101\n",
      "SMA 0.9544897746071103\n",
      "CD31 0.9995891861116765\n"
     ]
    }
   ],
   "source": [
    "from skimage.measure import compare_ssim\n",
    "\n",
    "ssim_score = 0\n",
    "ssim_channels = np.zeros(nc)\n",
    "\n",
    "for c in range(len(cells_seg_list)):\n",
    "    \n",
    "    seg_list = cells_seg_list[c]\n",
    "    real_list = cells_real_list[c]\n",
    "    n_cell = len(seg_list)\n",
    "    noise = 0.5 * torch.randn(1, 128).cuda()\n",
    "    \n",
    "    # seg_test = 0\n",
    "    seg_test = np.sum(seg_list, axis=0)\n",
    "    empty = np.less(np.sum(seg_test, axis=0, keepdims=True), 0.5).astype(np.float32)\n",
    "    seg_test_18 = np.concatenate([seg_test, empty], axis=0)\n",
    "    X_seg_0 = torch.Tensor(seg_test_18).unsqueeze(0).cuda()\n",
    "    \n",
    "    # fake = netG(noise, X_seg_0).detach().cpu().numpy()[0]\n",
    "    fake = netG_A(X_seg_0).detach().cpu().numpy()[0]\n",
    "    \n",
    "    # fake = netF(fake, X_seg_0)\n",
    "    for j in range(nc):\n",
    "        fake_i = fake[j].astype(float)\n",
    "        real_i = np.sum(real_list, axis=0)[j].astype(float)  # i-th cell, j-th channel\n",
    "\n",
    "        # plt.imshow(fake_i)\n",
    "        # plt.show()\n",
    "        # plt.imshow(real_i)\n",
    "        # plt.show()\n",
    "        ssim_score += compare_ssim(fake_i, real_i)/nc\n",
    "        ssim_channels[j] += compare_ssim(fake_i, real_i)\n",
    "\n",
    "print('ssim score:', ssim_score/len(cells_seg_list))\n",
    "for j in range(nc):\n",
    "    print(channel_names[j], ssim_channels[j]/len(cells_seg_list))"
   ]
  },
  {
   "cell_type": "markdown",
   "metadata": {},
   "source": [
    "# Cell Based MI"
   ]
  },
  {
   "cell_type": "code",
   "execution_count": 12,
   "metadata": {
    "collapsed": true
   },
   "outputs": [],
   "source": [
    "def mutual_information(hgram):\n",
    "    \"\"\" Mutual information for joint histogram\n",
    "    \"\"\"\n",
    "    # Convert bins counts to probability values\n",
    "    pxy = hgram / float(np.sum(hgram))\n",
    "    px = np.sum(pxy, axis=1) # marginal for x over y\n",
    "    py = np.sum(pxy, axis=0) # marginal for y over x\n",
    "    px_py = px[:, None] * py[None, :] # Broadcast to multiply marginals\n",
    "    # Now we can do the calculation using the pxy, px_py 2D arrays\n",
    "    nzs = pxy > 0 # Only non-zero pxy values contribute to the sum\n",
    "    return np.sum(pxy[nzs] * np.log(pxy[nzs] / px_py[nzs]))"
   ]
  },
  {
   "cell_type": "code",
   "execution_count": 13,
   "metadata": {},
   "outputs": [
    {
     "name": "stdout",
     "output_type": "stream",
     "text": [
      "mutual information: 7.962268725455467\n",
      "Pan-Keratin 0.09598728365886473\n",
      "EGFR 0.0004033814936930686\n",
      "Beta catenin 0.21764999351860212\n",
      "dsDNA 4.532185998505819\n",
      "Ki67 0.0027855140136655433\n",
      "CD3 0.006730639724491686\n",
      "CD8 0.01842877363891995\n",
      "CD4 0.0003351307202396081\n",
      "FoxP3 0.0\n",
      "MPO 0.00014223763035030648\n",
      "HLA-DR 0.047998670974978355\n",
      "HLA_Class_1 2.9357379081836465\n",
      "CD209 0.0\n",
      "CD11b 0.0\n",
      "CD11c 0.0014969859348597653\n",
      "CD68 0.004467774200231014\n",
      "CD63 0.0022695621196041522\n",
      "Lag3 0.0003805918689853457\n",
      "PD1 0.003701402192228282\n",
      "PD-L1 0.010546187327635147\n",
      "IDO 6.15683278729268e-05\n",
      "Vimentin 0.06562881497626911\n",
      "SMA 0.015199585719006098\n",
      "CD31 0.00013072072545850544\n"
     ]
    }
   ],
   "source": [
    "total_mi = 0\n",
    "n_bin = 50\n",
    "mi_channels = np.zeros(nc)\n",
    "\n",
    "for c in range(len(cells_seg_list)):\n",
    "    \n",
    "    seg_list = cells_seg_list[c]\n",
    "    real_list = cells_real_list[c]\n",
    "    n_cell = len(seg_list)\n",
    "    noise = 0.5 * torch.randn(1, 128).cuda()\n",
    "    \n",
    "    # seg_test = 0\n",
    "    seg_test = np.sum(seg_list, axis=0)\n",
    "    empty = np.less(np.sum(seg_test, axis=0, keepdims=True), 0.5).astype(np.float32)\n",
    "    seg_test_18 = np.concatenate([seg_test, empty], axis=0)\n",
    "    X_seg_0 = torch.Tensor(seg_test_18).unsqueeze(0).cuda()\n",
    "    \n",
    "    fake = netG_A(X_seg_0).detach().cpu().numpy()[0]\n",
    "    \n",
    "    for i in range(n_cell):\n",
    "        mask = seg_list[i].sum(axis=0)\n",
    "        \n",
    "        for j in range(nc):\n",
    "            fake_i = (fake*mask)[j].flatten()\n",
    "            real_i = real_list[i][j].flatten()   # i-th cell, j-th channel\n",
    "\n",
    "            hist_2d, _, _ = np.histogram2d(fake_i, real_i, bins=n_bin)\n",
    "\n",
    "            mi = mutual_information(hist_2d)\n",
    "            mi_channels[j] += mi/n_cell/nc\n",
    "            total_mi += mi/n_cell/nc\n",
    "            \n",
    "print('mutual information:', total_mi)\n",
    "for j in range(nc):\n",
    "    print(channel_names[j], mi_channels[j])"
   ]
  },
  {
   "cell_type": "markdown",
   "metadata": {},
   "source": [
    "# Biological Significance"
   ]
  },
  {
   "cell_type": "markdown",
   "metadata": {},
   "source": [
    "# Center of Mass"
   ]
  },
  {
   "cell_type": "code",
   "execution_count": 9,
   "metadata": {
    "collapsed": true
   },
   "outputs": [],
   "source": [
    "cells_seg_list = []\n",
    "cells_real_list = []\n",
    "\n",
    "download_path = './data/cd8_test_c24'\n",
    "filelist = os.listdir(download_path)\n",
    "\n",
    "for i in range(len(filelist)):\n",
    "    patch = download_path + '/cell_' + str(i) + '.npy'\n",
    "    cells_seg_list.append(np.load(patch)[0])\n",
    "    cells_real_list.append(np.load(patch)[1])"
   ]
  },
  {
   "cell_type": "code",
   "execution_count": 27,
   "metadata": {},
   "outputs": [
    {
     "name": "stdout",
     "output_type": "stream",
     "text": [
      "center of mass score: 13.38275225931152\n"
     ]
    }
   ],
   "source": [
    "cm_score = 0\n",
    "\n",
    "for c in range(len(cells_seg_list)):\n",
    "    \n",
    "    seg_list = cells_seg_list[c]\n",
    "    real_list = cells_real_list[c]\n",
    "    n_cell = len(seg_list)\n",
    "    xy = np.mgrid[0:64,0:64]\n",
    "    noise = 0.5 * torch.randn(1, 128).cuda()\n",
    "    \n",
    "    # seg_test = 0\n",
    "    seg_test = np.sum(seg_list, axis=0)\n",
    "    empty = np.less(np.sum(seg_test, axis=0, keepdims=True), 0.5).astype(np.float32)\n",
    "    seg_test_18 = np.concatenate([seg_test, empty], axis=0)\n",
    "    X_seg_0 = torch.Tensor(seg_test_18).unsqueeze(0).cuda()\n",
    "    \n",
    "    \n",
    "    fake = netG_A(X_seg_0).detach().cpu().numpy()[0]\n",
    "        \n",
    "    fake_tcell = fake * seg_list[0].sum(axis=0)    # only consider the expression in T cells\n",
    "    fake_tumor = fake * (seg_test-seg_list[0]).sum(axis=0)    # only consider the expression in tumor cells\n",
    "\n",
    "    cm_tumor_y = (xy[0]*fake_tumor).sum(axis=(1,2)) / (fake_tumor.sum(axis=(1,2))+1e-15)\n",
    "    cm_tumor_x = (xy[1]*fake_tumor).sum(axis=(1,2)) / (fake_tumor.sum(axis=(1,2))+1e-15)\n",
    "    cm_tumor = np.array([cm_tumor_x, cm_tumor_y])\n",
    "    \n",
    "    tcell_mask = seg_list[0].sum(axis=0)\n",
    "    tcell_seg = np.array(np.where(tcell_mask==1))\n",
    "    dist = np.linalg.norm(tcell_seg - cm_tumor[:, 19:20], axis=0)\n",
    "    cm_idx = np.argmin(dist)\n",
    "    cm_tumor_incell = tcell_seg[:, cm_idx]\n",
    "    \n",
    "    cm_tcell_y = (xy[0]*fake_tcell).sum(axis=(1,2)) / (fake_tcell.sum(axis=(1,2))+1e-15)\n",
    "    cm_tcell_x = (xy[1]*fake_tcell).sum(axis=(1,2)) / (fake_tcell.sum(axis=(1,2))+1e-15)\n",
    "    cm_tcell = np.array([cm_tcell_x, cm_tcell_y])\n",
    "\n",
    "    \n",
    "    cm_score += np.linalg.norm(cm_tcell[:,18] - cm_tumor_incell[:], ord=2)\n",
    "    # cm_score += np.linalg.norm(cm_tcell[:,19] - cm_tumor[:,20], ord=2)\n",
    "    \n",
    "print('center of mass score:', cm_score / len(cells_seg_list))"
   ]
  },
  {
   "cell_type": "code",
   "execution_count": null,
   "metadata": {
    "collapsed": true
   },
   "outputs": [],
   "source": []
  },
  {
   "cell_type": "markdown",
   "metadata": {},
   "source": [
    "# EMD Score"
   ]
  },
  {
   "cell_type": "code",
   "execution_count": 12,
   "metadata": {
    "collapsed": true
   },
   "outputs": [],
   "source": [
    "from scipy.stats import wasserstein_distance\n",
    "\n",
    "def cart2pol(x, y):\n",
    "    rho = np.sqrt(x**2 + y**2)\n",
    "    phi = np.arctan2(y, x)\n",
    "    if phi < 0:\n",
    "        phi = 2*np.pi + phi\n",
    "        \n",
    "    return (rho, phi)\n",
    "\n",
    "\n",
    "def compute_histogram(img, divider=30, size = 64, offset=32):\n",
    "\n",
    "    histogram = np.zeros([divider])\n",
    "\n",
    "    for i in range(size):\n",
    "        for j in range(size):\n",
    "            x = j - offset\n",
    "            y = offset - i\n",
    "            \n",
    "            rho, phi = cart2pol(x,y)\n",
    "            # normalize to [0,divider]\n",
    "            degree = divider * phi/(2*np.pi) \n",
    "            index = int(np.floor(degree))\n",
    "            histogram[index] += img[i,j]\n",
    "            \n",
    "    return histogram"
   ]
  },
  {
   "cell_type": "code",
   "execution_count": 14,
   "metadata": {},
   "outputs": [
    {
     "name": "stdout",
     "output_type": "stream",
     "text": [
      "Direction: right:643, wrong:810, total:1453\n",
      "em_score:-0.014658566962307237\n"
     ]
    }
   ],
   "source": [
    "# EM score threshold\n",
    "em_score = 0\n",
    "direct_right = 0\n",
    "direct_wrong = 0\n",
    "direct_all = 0\n",
    "\n",
    "for c in range(len(cells_seg_list)):\n",
    "\n",
    "    \n",
    "    seg_list = cells_seg_list[c]\n",
    "    real_list = cells_real_list[c]\n",
    "    n_cell = len(seg_list)\n",
    "    noise = 0.5 * torch.randn(1, 128).cuda()\n",
    "    \n",
    "    seg_test = 0\n",
    "    xy = np.mgrid[0:64,0:64]\n",
    "    centroids_seg = []\n",
    "    centroids_tcell = []\n",
    "    centroids_tumor = []\n",
    "    express_tcell = []\n",
    "    for i in range(n_cell):\n",
    "\n",
    "        # non-weighted centroid of segmentation\n",
    "        cy = np.where(seg_list[i]==1)[1].mean()\n",
    "        cx = np.where(seg_list[i]==1)[2].mean()\n",
    "        centroids_seg.append(np.array([cx, cy]))\n",
    "\n",
    "        # weighted centroid of T cells\n",
    "        seg_test += seg_list[i]\n",
    "        empty = np.less(np.sum(seg_test, axis=0, keepdims=True), 0.5).astype(np.float32)\n",
    "        seg_test_18 = np.concatenate([seg_test, empty], axis=0)\n",
    "        X_seg_0 = torch.Tensor(seg_test_18).unsqueeze(0).cuda()\n",
    "        \n",
    "        fake = netG_A(X_seg_0).detach().cpu().numpy()[0]\n",
    "        \n",
    "        fake_tcell = fake * seg_list[0].sum(axis=0)    # only consider the expression in T cells\n",
    "        fake_tumor = fake * seg_list[i].sum(axis=0)    # only consider the expression in tumor cells\n",
    "        # fake_tumor = fake * (seg_test-seg_list[0]).sum(axis=0)\n",
    "        histo_cur = compute_histogram(fake_tcell[18])\n",
    "        \n",
    "        # weighted centroid of T cells\n",
    "        cy_all = (xy[0]*fake_tcell).sum(axis=(1,2)) / (fake_tcell.sum(axis=(1,2))+1e-15)\n",
    "        cx_all = (xy[1]*fake_tcell).sum(axis=(1,2)) / (fake_tcell.sum(axis=(1,2))+1e-15)\n",
    "        centroids_tcell.append(np.array([cx_all, cy_all]))\n",
    "\n",
    "        \n",
    "        # weighted centroid of tumor cells\n",
    "        cy_all = (xy[0]*fake_tumor).sum(axis=(1,2)) / (fake_tumor.sum(axis=(1,2))+1e-15)\n",
    "        cx_all = (xy[1]*fake_tumor).sum(axis=(1,2)) / (fake_tumor.sum(axis=(1,2))+1e-15)\n",
    "        centroids_tumor.append(np.array([cx_all, cy_all]))\n",
    "        \n",
    "        # print(fake_tumor[19].sum())\n",
    "        \n",
    "        if i > 0 and fake_tumor[19].sum() > 1e-4:\n",
    "            \n",
    "            direct_all += 1\n",
    "            # the previous angle\n",
    "            \n",
    "            v1 = (centroids_tumor[i][:,19] - centroids_seg[0])    # previous centroid of T cell            \n",
    "            v2 = (centroids_tcell[i][:,18] - centroids_tcell[i-1][:,18])    # current centroid of T cell\n",
    "            \n",
    "            if i == 1: # no work so much\n",
    "                v2 = (centroids_tcell[i][:,18] - centroids_seg[0])\n",
    "                \n",
    "            cos_theta = np.dot(v1,v2)/np.linalg.norm(v1)/np.linalg.norm(v2)\n",
    "            \n",
    "            em_dist = wasserstein_distance(histo_cur, histo_pre)\n",
    "            \n",
    "            \n",
    "            if cos_theta > 0:\n",
    "                direct_right += 1\n",
    "                \n",
    "            elif cos_theta < 0:\n",
    "                direct_wrong += 1\n",
    "                \n",
    "            if cos_theta > 0 and histo_cur.sum() > histo_pre.sum():   # threshold the theta / check the expression level\n",
    "                em_score += np.linalg.norm(v2) * em_dist\n",
    "                \n",
    "            elif cos_theta < 0:\n",
    "                em_score -= np.linalg.norm(v2) * em_dist\n",
    "        \n",
    "        histo_pre = histo_cur.copy()  \n",
    "        \n",
    "print(\"Direction: right:{}, wrong:{}, total:{}\".format(direct_right, direct_wrong, direct_all))\n",
    "\n",
    "print(\"em_score:{}\".format(em_score))"
   ]
  },
  {
   "cell_type": "code",
   "execution_count": null,
   "metadata": {
    "collapsed": true
   },
   "outputs": [],
   "source": []
  },
  {
   "cell_type": "code",
   "execution_count": null,
   "metadata": {
    "collapsed": true
   },
   "outputs": [],
   "source": []
  },
  {
   "cell_type": "code",
   "execution_count": null,
   "metadata": {
    "collapsed": true
   },
   "outputs": [],
   "source": []
  },
  {
   "cell_type": "code",
   "execution_count": null,
   "metadata": {
    "collapsed": true
   },
   "outputs": [],
   "source": []
  },
  {
   "cell_type": "markdown",
   "metadata": {},
   "source": [
    "# Pan-Keratin / CD8 Experiment"
   ]
  },
  {
   "cell_type": "code",
   "execution_count": 10,
   "metadata": {
    "collapsed": true
   },
   "outputs": [],
   "source": [
    "# CD8 Test\n",
    "noise = 0.5 * torch.randn(1, 128).cuda()\n",
    "total = 0\n",
    "decrease = 0\n",
    "\n",
    "\n",
    "surface_area = []\n",
    "tumor_expression = []\n",
    "\n",
    "for c in range(len(cells_seg_list)):\n",
    "    seg_list = cells_seg_list[c]\n",
    "    real_list = cells_real_list[c]\n",
    "    n_cell = len(seg_list)\n",
    "    \n",
    "\n",
    "    for k in range(1, n_cell):\n",
    "    \n",
    "        seg_tumor = np.sum(seg_list[0], axis=0)\n",
    "        seg_test = np.zeros([17, 64, 64])\n",
    "        seg_test[4] = seg_tumor    # tumor\n",
    "        \n",
    "        seg_cd8 = 0\n",
    "        if k == 0:\n",
    "            seg_test[7] =  0   # cd8\n",
    "        else:\n",
    "            seg_cd8 = np.sum(seg_list[1:k+1], axis=0).sum(0)\n",
    "            seg_test[7] = seg_cd8    # cd8\n",
    "\n",
    "        empty = np.less(np.sum(seg_test, axis=0, keepdims=True), 0.5).astype(np.float32)\n",
    "        seg_test_18 = np.concatenate([seg_test, empty], axis=0)\n",
    "        X_seg_0 = torch.Tensor(seg_test_18).unsqueeze(0).cuda()\n",
    "\n",
    "        fake = netG_A(X_seg_0).detach().cpu().numpy()[0]\n",
    "        \n",
    "        pk_cur = (fake[0]*seg_tumor).sum()/ seg_tumor.sum()\n",
    " \n",
    "        surface_area.append(seg_cd8.sum())\n",
    "        tumor_expression.append(pk_cur)\n",
    "   #  print(surface_area)#"
   ]
  },
  {
   "cell_type": "code",
   "execution_count": 12,
   "metadata": {},
   "outputs": [
    {
     "name": "stdout",
     "output_type": "stream",
     "text": [
      "slope: 3.2714532322573592e-06\n",
      "r-square 0.12054332487326173\n",
      "t-test 14.27163608480445\n",
      "p-value 2.1111452592844882e-43\n"
     ]
    },
    {
     "data": {
      "image/png": "[encoded data removed]",
      "text/plain": [
       "<Figure size 432x288 with 1 Axes>"
      ]
     },
     "metadata": {},
     "output_type": "display_data"
    }
   ],
   "source": [
    "x = np.array(surface_area)\n",
    "y = np.array(tumor_expression)\n",
    "\n",
    "plt.xlabel('Area of Cells')\n",
    "plt.ylabel('Pan-Keratin Expression')\n",
    "plt.scatter(x,y,s=1)\n",
    "\n",
    "\n",
    "from scipy.stats import linregress\n",
    "slope, intercept, r_value, p_value, std_err = linregress(x,y)\n",
    "t = np.arange(0,2500)\n",
    "y_t = slope*t + intercept\n",
    "\n",
    "\n",
    "t_test = r_value*np.sqrt(x.shape[0]-2)/np.sqrt(1-r_value**2)\n",
    "plt.plot(t,y_t,'r')\n",
    "print('slope:', slope)\n",
    "print('r-square', r_value**2)\n",
    "print('t-test', t_test)\n",
    "print('p-value', p_value)\n",
    "plt.xlim(0)\n",
    "plt.ylim(0)\n",
    "plt.show()"
   ]
  },
  {
   "cell_type": "code",
   "execution_count": 13,
   "metadata": {
    "collapsed": true
   },
   "outputs": [],
   "source": [
    "# CD8 Test: Tumor Controll\n",
    "noise = 0.5 * torch.randn(1, 128).cuda()\n",
    "total = 0\n",
    "decrease = 0\n",
    "\n",
    "\n",
    "surface_area = []\n",
    "tumor_expression = []\n",
    "\n",
    "for c in range(len(cells_seg_list)):\n",
    "    seg_list = cells_seg_list[c]\n",
    "    real_list = cells_real_list[c]\n",
    "    n_cell = len(seg_list)\n",
    "    \n",
    "    for k in range(1, n_cell):\n",
    "    \n",
    "        seg_tumor = np.sum(seg_list[0], axis=0)\n",
    "        seg_test = np.zeros([17, 64, 64])\n",
    "        seg_test[4] = seg_tumor    # tumor\n",
    "        \n",
    "        seg_cd3 = 0\n",
    "        if k>0:\n",
    "            seg_cd3 = np.sum(seg_list[1:k+1], axis=0).sum(0)\n",
    "            seg_test[4] += seg_cd3    # cd8\n",
    "        \n",
    "        \n",
    "        empty = np.less(np.sum(seg_test, axis=0, keepdims=True), 0.5).astype(np.float32)\n",
    "        seg_test_18 = np.concatenate([seg_test, empty], axis=0)\n",
    "        X_seg_0 = torch.Tensor(seg_test_18).unsqueeze(0).cuda()\n",
    "\n",
    "        fake = netG_A(X_seg_0).detach().cpu().numpy()[0]\n",
    "        \n",
    "        pk_cur = (fake[0]*seg_tumor).sum() / seg_tumor.sum()\n",
    " \n",
    "        surface_area.append(seg_cd3.sum())\n",
    "        tumor_expression.append(pk_cur)\n",
    "        "
   ]
  },
  {
   "cell_type": "code",
   "execution_count": 14,
   "metadata": {},
   "outputs": [
    {
     "name": "stdout",
     "output_type": "stream",
     "text": [
      "slope: 2.2724450590605803e-06\n",
      "r-square 0.028447061906126895\n",
      "t-test 6.596216156134398\n",
      "p-value 5.84753713392044e-11\n"
     ]
    },
    {
     "data": {
      "image/png": "[encoded data removed]",
      "text/plain": [
       "<Figure size 432x288 with 1 Axes>"
      ]
     },
     "metadata": {},
     "output_type": "display_data"
    }
   ],
   "source": [
    "x = np.array(surface_area)\n",
    "y = np.array(tumor_expression)\n",
    "\n",
    "plt.xlabel('Area of Cells')\n",
    "plt.ylabel('Pan-Keratin Expression')\n",
    "plt.scatter(x,y,s=1)\n",
    "\n",
    "\n",
    "from scipy.stats import linregress\n",
    "slope, intercept, r_value, p_value, std_err = linregress(x,y)\n",
    "t = np.arange(0,2500)\n",
    "y_t = slope*t + intercept\n",
    "\n",
    "\n",
    "t_test = r_value*np.sqrt(x.shape[0]-2)/np.sqrt(1-r_value**2)\n",
    "plt.plot(t,y_t,'r')\n",
    "print('slope:', slope)\n",
    "print('r-square', r_value**2)\n",
    "print('t-test', t_test)\n",
    "print('p-value', p_value)\n",
    "plt.xlim(0)\n",
    "plt.ylim(0)\n",
    "plt.show()"
   ]
  },
  {
   "cell_type": "code",
   "execution_count": 14,
   "metadata": {
    "collapsed": true
   },
   "outputs": [],
   "source": [
    "# CD8 Test\n",
    "noise = 0.5 * torch.randn(1, 128).cuda()\n",
    "total = 0\n",
    "decrease = 0\n",
    "\n",
    "\n",
    "cell_num = []\n",
    "tumor_expression = []\n",
    "\n",
    "for c in range(len(cells_seg_list)):\n",
    "    seg_list = cells_seg_list[c]\n",
    "    real_list = cells_real_list[c]\n",
    "    n_cell = len(seg_list)\n",
    "    \n",
    "    for k in range(1, n_cell):\n",
    "    \n",
    "        seg_tumor = np.sum(seg_list[0], axis=0)\n",
    "        seg_test = np.zeros([17, 64, 64])\n",
    "        seg_test[4] = seg_tumor    # tumor\n",
    "        \n",
    "        \n",
    "        if k == 0:\n",
    "            seg_test[7] =  0   # cd8\n",
    "        else:\n",
    "            seg_cd3 = np.sum(seg_list[1:k+1], axis=0).sum(0)\n",
    "            seg_test[7] = seg_cd3    # cd8\n",
    "\n",
    "        \n",
    "        empty = np.less(np.sum(seg_test, axis=0, keepdims=True), 0.5).astype(np.float32)\n",
    "        seg_test_18 = np.concatenate([seg_test, empty], axis=0)\n",
    "        X_seg_0 = torch.Tensor(seg_test_18).unsqueeze(0).cuda()\n",
    "\n",
    "        fake = netG_A(X_seg_0).detach().cpu().numpy()[0]\n",
    "        \n",
    "        pk_cur = (fake[0]*seg_tumor).sum() / seg_tumor.sum()\n",
    "        \n",
    "        cell_num.append(k)\n",
    "        tumor_expression.append(pk_cur)\n",
    "        "
   ]
  },
  {
   "cell_type": "code",
   "execution_count": 15,
   "metadata": {},
   "outputs": [
    {
     "data": {
      "image/png": "[encoded data removed]",
      "text/plain": [
       "<Figure size 432x288 with 1 Axes>"
      ]
     },
     "metadata": {},
     "output_type": "display_data"
    }
   ],
   "source": [
    "n_max = np.max(cell_num)\n",
    "x_mean = np.zeros(n_max)\n",
    "x_std = np.zeros(n_max)\n",
    "for k in range(1, n_max+1):\n",
    "    exp_k = []\n",
    "    for i in range(len(cell_num)):\n",
    "        if cell_num[i]==k:\n",
    "            # print(k)\n",
    "            exp_k.append(tumor_expression[i])\n",
    "    x_mean[k-1] = np.mean(exp_k)\n",
    "    x_std[k-1] = np.std(exp_k)\n",
    "\n",
    "\n",
    "t = np.arange(n_max)\n",
    "plt.xlabel('Number of Cells')\n",
    "plt.ylabel('Pan-Keratin Expression')\n",
    "plt.bar(t,x_mean, yerr=x_std, align='center', alpha=0.5, ecolor='black', capsize=5)\n",
    "plt.xlim(-0.5, 7.5)\n",
    "plt.show()"
   ]
  },
  {
   "cell_type": "code",
   "execution_count": 16,
   "metadata": {
    "collapsed": true
   },
   "outputs": [],
   "source": [
    "# CD8 Test\n",
    "noise = 0.5 * torch.randn(1, 128).cuda()\n",
    "total = 0\n",
    "decrease = 0\n",
    "\n",
    "\n",
    "cell_num = []\n",
    "tumor_expression = []\n",
    "\n",
    "for c in range(len(cells_seg_list)):\n",
    "    seg_list = cells_seg_list[c]\n",
    "    real_list = cells_real_list[c]\n",
    "    n_cell = len(seg_list)\n",
    "    \n",
    "    for k in range(1, n_cell):\n",
    "    \n",
    "        seg_tumor = np.sum(seg_list[0], axis=0)\n",
    "        seg_test = np.zeros([17, 64, 64])\n",
    "        seg_test[4] = seg_tumor    # tumor\n",
    "        \n",
    "        seg_cd3 = 0\n",
    "        if k>0:\n",
    "            seg_cd3 = np.sum(seg_list[1:k+1], axis=0).sum(0)\n",
    "            seg_test[4] += seg_cd3    # cd8\n",
    "        \n",
    "        \n",
    "        \n",
    "        empty = np.less(np.sum(seg_test, axis=0, keepdims=True), 0.5).astype(np.float32)\n",
    "        seg_test_18 = np.concatenate([seg_test, empty], axis=0)\n",
    "        X_seg_0 = torch.Tensor(seg_test_18).unsqueeze(0).cuda()\n",
    "\n",
    "        fake = netG_A(X_seg_0).detach().cpu().numpy()[0]\n",
    "        \n",
    "        pk_cur = (fake[0]*seg_tumor).sum()/seg_tumor.sum()\n",
    "        \n",
    "        cell_num.append(k)\n",
    "        tumor_expression.append(pk_cur)\n",
    "        "
   ]
  },
  {
   "cell_type": "code",
   "execution_count": 17,
   "metadata": {},
   "outputs": [
    {
     "data": {
      "image/png": "[encoded data removed]",
      "text/plain": [
       "<Figure size 432x288 with 1 Axes>"
      ]
     },
     "metadata": {},
     "output_type": "display_data"
    }
   ],
   "source": [
    "n_max = np.max(cell_num)\n",
    "x_mean = np.zeros(n_max)\n",
    "x_std = np.zeros(n_max)\n",
    "for k in range(1, n_max+1):\n",
    "    exp_k = []\n",
    "    for i in range(len(cell_num)):\n",
    "        if cell_num[i]==k:\n",
    "            # print(k)\n",
    "            exp_k.append(tumor_expression[i])\n",
    "    x_mean[k-1] = np.mean(exp_k)\n",
    "    x_std[k-1] = np.std(exp_k)\n",
    "\n",
    "\n",
    "t = np.arange(n_max)\n",
    "plt.xlabel('Number of Cells')\n",
    "plt.ylabel('Pan-Keratin Expression')\n",
    "plt.bar(t,x_mean, yerr=x_std, align='center', alpha=0.5, ecolor='black', capsize=5)\n",
    "plt.xlim(-0.5, 7.5)\n",
    "plt.ylim(0)\n",
    "plt.show()"
   ]
  },
  {
   "cell_type": "code",
   "execution_count": null,
   "metadata": {
    "collapsed": true
   },
   "outputs": [],
   "source": []
  }
 ],
 "metadata": {
  "kernelspec": {
   "display_name": "Python 3",
   "language": "python",
   "name": "python3"
  },
  "language_info": {
   "codemirror_mode": {
    "name": "ipython",
    "version": 3
   },
   "file_extension": ".py",
   "mimetype": "text/x-python",
   "name": "python",
   "nbconvert_exporter": "python",
   "pygments_lexer": "ipython3",
   "version": "3.7.3"
  }
 },
 "nbformat": 4,
 "nbformat_minor": 2
}
