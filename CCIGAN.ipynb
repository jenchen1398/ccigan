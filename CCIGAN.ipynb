{
 "cells": [
  {
   "cell_type": "markdown",
   "metadata": {},
   "source": [
    " "
   ]
  },
  {
   "cell_type": "markdown",
   "metadata": {},
   "source": [
    "# Exploring Cellular Protein Localization Through Semantic Image Synthesis"
   ]
  },
  {
   "cell_type": "markdown",
   "metadata": {},
   "source": [
    " "
   ]
  },
  {
   "cell_type": "code",
   "execution_count": 1,
   "metadata": {
    "collapsed": true
   },
   "outputs": [],
   "source": [
    "import torch\n",
    "import torch.nn as nn\n",
    "import torch.optim as optim\n",
    "import torch.nn.utils\n",
    "from torch.nn.utils import spectral_norm\n",
    "import torch.nn.functional as F\n",
    "from torch.autograd import Variable\n",
    "\n",
    "import numpy as np\n",
    "import matplotlib.pyplot as plt\n",
    "import matplotlib\n",
    "import os\n",
    "from torch.utils.data import DataLoader\n",
    "\n",
    "from ds import MIBIDataset\n",
    "import torch.nn.utils.spectral_norm as spectral_norm\n",
    "from torch.nn.functional import normalize\n",
    "\n",
    "\n",
    "from utilities import weights_init, seg_show"
   ]
  },
  {
   "cell_type": "code",
   "execution_count": 2,
   "metadata": {
    "collapsed": true
   },
   "outputs": [],
   "source": [
    "normalize = matplotlib.colors.Normalize(vmin=0, vmax=1)\n",
    "\n",
    "torch.cuda.set_device(0)\n",
    "gpu_available = True\n",
    "channel_names = [\"Pan-Keratin\", \"EGFR\", \"Beta catenin\", \"dsDNA\",\n",
    "                 \"Ki67\", \"CD3\", \"CD8\", \"CD4\", \"FoxP3\", \"MPO\", \"HLA-DR\", \n",
    "                 \"HLA_Class_1\", \"CD209\", \"CD11b\",  \"CD11c\", \"CD68\", \"CD63\",\n",
    "                 \"Lag3\", \"PD1\", \"PD-L1\", \"IDO\", \"Vimentin\", \"SMA\", \"CD31\"]"
   ]
  },
  {
   "cell_type": "markdown",
   "metadata": {},
   "source": [
    "# Parameters"
   ]
  },
  {
   "cell_type": "code",
   "execution_count": 3,
   "metadata": {
    "collapsed": true
   },
   "outputs": [],
   "source": [
    "# Learning rate for optimizers\n",
    "batch_size = 32\n",
    "nz = hidden_size = 128\n",
    "kernel = 3\n",
    "\n",
    "# Number of input channels (later to be number of classes)\n",
    "num_chan = 18\n",
    "\n",
    "# Size of feature maps in discriminator\n",
    "ndf = 32\n",
    "\n",
    "# Output dimension\n",
    "nc = 24\n",
    "\n",
    "# Beta1 hyperparam for Adam optimizers\n",
    "beta1 = 0.5\n",
    "\n",
    "c24_idx = np.array(range(25))\n",
    "c24_idx = np.delete(c24_idx, 4)"
   ]
  },
  {
   "cell_type": "markdown",
   "metadata": {},
   "source": [
    "# Read In Data"
   ]
  },
  {
   "cell_type": "code",
   "execution_count": null,
   "metadata": {
    "collapsed": true
   },
   "outputs": [],
   "source": [
    "# train data\n",
    "cells_seg = []\n",
    "cells_real = []\n",
    "keys = []\n",
    "\n",
    "path = './data'\n",
    "filelist = os.listdir(path + '/train')\n",
    "\n",
    "for i in range(int(len(filelist[:]))): # have both counts and cells\n",
    "    patch = path + '/train/cell_' + str(i) + '.npy'\n",
    "    cells_seg.append(np.load(patch)[0])\n",
    "    cells_real.append(np.load(patch)[1][c24_idx])\n",
    "\n",
    "print('number of total cells: %d' % (len(cells_seg))) \n",
    "\n",
    "cells_seg = np.array(cells_seg)\n",
    "empty = np.less(np.sum(cells_seg, axis=1, keepdims=True), 0.5).astype(np.float32)\n",
    "cells_seg = np.concatenate([cells_seg, empty], axis=1)\n",
    "\n",
    "\n",
    "cells_real = np.array(cells_real) \n",
    "cells = np.array([[cells_seg[i], cells_real[i]] for i in range(len(cells_seg))])\n",
    "\n",
    "train_set_loader = DataLoader(MIBIDataset(cells), batch_size=batch_size, \n",
    "                       shuffle=True, num_workers=4, pin_memory=gpu_available)"
   ]
  },
  {
   "cell_type": "code",
   "execution_count": null,
   "metadata": {
    "collapsed": true
   },
   "outputs": [],
   "source": [
    "# test data\n",
    "\n",
    "cells_seg = []\n",
    "cells_real = []\n",
    "keys = []\n",
    "\n",
    "path = './data'\n",
    "filelist = os.listdir(path + '/test')\n",
    "\n",
    "for i in range(int(len(filelist[:]))): # have both counts and cells\n",
    "    patch = path + '/test/cell_' + str(i) + '.npy'\n",
    "    cells_seg.append(np.load(patch)[0])\n",
    "    cells_real.append(np.load(patch)[1][c24_idx])\n",
    "\n",
    "print('number of total cells: %d' % (len(cells_seg))) \n",
    "\n",
    "\n",
    "cells_seg = np.array(cells_seg)\n",
    "empty = np.less(np.sum(cells_seg, axis=1, keepdims=True), 0.5).astype(np.float32)\n",
    "cells_seg = np.concatenate([cells_seg, empty], axis=1)\n",
    "\n",
    "cells_real = np.array(cells_real)\n",
    "cells = np.array([[cells_seg[i], cells_real[i]] for i in range(len(cells_seg))])\n",
    "\n",
    "test_set_loader =  DataLoader(MIBIDataset(cells), batch_size=1, \n",
    "                       shuffle=True, num_workers=4, pin_memory=gpu_available)\n"
   ]
  },
  {
   "cell_type": "markdown",
   "metadata": {},
   "source": [
    "# Spade"
   ]
  },
  {
   "cell_type": "code",
   "execution_count": 5,
   "metadata": {
    "collapsed": true
   },
   "outputs": [],
   "source": [
    "# kind of batch normalization, k should have same size with input channels\n",
    "\n",
    "class SPADE(nn.Module):\n",
    "    def __init__(self, input_size, filters=128, kernel_size=3, num_chan=num_chan):\n",
    "        super().__init__()\n",
    "        \n",
    "        output_size = input_size\n",
    "        self.conv = nn.Conv2d(num_chan, filters, kernel_size=(kernel_size, kernel_size), \n",
    "                                padding=1)\n",
    "        self.conv_gamma = nn.Conv2d(filters, output_size, kernel_size=(kernel_size, kernel_size), \n",
    "                                padding=1)\n",
    "        self.conv_beta = nn.Conv2d(filters, output_size, kernel_size=(kernel_size, kernel_size), \n",
    "                                padding=1)\n",
    "        self.norm = nn.InstanceNorm2d(output_size, affine=False)\n",
    "        \n",
    "    def forward(self, x, seg):\n",
    "\n",
    "        N, C, H, W = x.size()\n",
    "        x = self.norm(x)\n",
    "        seg = F.interpolate(seg, size=(H,W), mode='nearest')\n",
    "        shared = F.relu(self.conv(seg))\n",
    "        seg_gamma = self.conv_gamma(shared)\n",
    "        seg_beta = self.conv_beta(shared)\n",
    "        self.plot = seg_gamma\n",
    "        x = x * (1 + seg_gamma) + seg_beta\n",
    "        return x"
   ]
  },
  {
   "cell_type": "markdown",
   "metadata": {},
   "source": [
    "# Generator"
   ]
  },
  {
   "cell_type": "code",
   "execution_count": 6,
   "metadata": {
    "collapsed": true
   },
   "outputs": [],
   "source": [
    "class ResnetBlock(nn.Module):\n",
    "    def __init__(self, dim_in, dim_out, kernel_size=3):\n",
    "        super(ResnetBlock, self).__init__()\n",
    "        \n",
    "        self.if_shortcut = (dim_in != dim_out)\n",
    "        dim_middle = min(dim_in, dim_out)\n",
    "        \n",
    "        self.conv1 = spectral_norm(nn.Conv2d(in_channels=dim_in, out_channels=dim_middle,\n",
    "                                   kernel_size=kernel_size, padding=1))\n",
    "        self.conv2 = spectral_norm(nn.Conv2d(in_channels=dim_middle, out_channels=dim_out,\n",
    "                                   kernel_size=kernel_size, padding=1))\n",
    "        \n",
    "        if self.if_shortcut:\n",
    "            self.convs = spectral_norm(nn.Conv2d(dim_in, dim_out, kernel_size=1, bias=False))\n",
    "\n",
    "        self.norm1 = SPADE(dim_in)\n",
    "        self.norm2 = SPADE(dim_middle)\n",
    "        if self.if_shortcut:\n",
    "            self.norms = SPADE(dim_in)\n",
    "\n",
    "    def forward(self, x, seg):\n",
    "\n",
    "        xs = self.shortcut(x, seg)\n",
    "\n",
    "        dx = self.conv1(self.actvn(self.norm1(x, seg)))\n",
    "        dx = self.conv2(self.actvn(self.norm2(dx, seg)))\n",
    "\n",
    "        out = xs + dx\n",
    "\n",
    "        return out\n",
    "        \n",
    "        \n",
    "    def shortcut(self, x, seg):\n",
    "        if self.if_shortcut:\n",
    "            xs = self.convs(self.norms(x, seg))\n",
    "        else:\n",
    "            xs = x\n",
    "        return xs\n",
    "    \n",
    "    def actvn(self, x):\n",
    "        return F.leaky_relu(x, 0.2)     \n"
   ]
  },
  {
   "cell_type": "code",
   "execution_count": 7,
   "metadata": {
    "collapsed": true
   },
   "outputs": [],
   "source": [
    "class Modulation(nn.Module):\n",
    "    def __init__(self, num_chan=num_chan,\n",
    "                    nc=nc):\n",
    "        super().__init__()\n",
    "        self.K = 8\n",
    "        self.num_chan = num_chan\n",
    "        self.nc = nc # output channels\n",
    "        self.states = nn.ParameterList([nn.Parameter(torch.FloatTensor(\n",
    "                            0.02 * torch.rand(1, self.K))) for _ in range(self.nc)])\n",
    "        self.f = nn.Conv2d(8*self.K, 1, kernel_size=1, stride=1, padding=0, bias=False)\n",
    "        self.act = nn.LeakyReLU()\n",
    "        \n",
    "    \n",
    "    def forward(self, wspade, nc, seg):\n",
    "\n",
    "        curr_batch_size = wspade.size(0)\n",
    "        c_state = self.states[nc].expand([curr_batch_size, self.K])\n",
    "        out = torch.einsum('bchw,bk->bckhw', wspade, c_state)\n",
    "        out = torch.reshape(out, [curr_batch_size, self.K * 8, 64, 64])\n",
    "        out = nn.Sigmoid()(self.f(out)) # 32, 1, 64, 64\n",
    "        return out\n",
    "        "
   ]
  },
  {
   "cell_type": "code",
   "execution_count": 9,
   "metadata": {
    "collapsed": true
   },
   "outputs": [],
   "source": [
    "class ChannelGenerator(nn.Module):\n",
    "    def __init__(self,\n",
    "                num_chan = num_chan,\n",
    "                nc = nc, n_attmap=3):\n",
    "        super().__init__()\n",
    "                \n",
    "        self.n_attmap = n_attmap\n",
    "        self.nc = nc\n",
    "        self.ups = nn.Upsample(scale_factor=2, mode='nearest')\n",
    "        self.modulation = Modulation()\n",
    "        \n",
    "        self.linear = nn.Linear(128, 2048)\n",
    "        self.resblk_1 = ResnetBlock(128,  128)   # (8,8)\n",
    "        self.resblk_2 = ResnetBlock(128,  128)   # (16,16)\n",
    "        self.resblk_3 = ResnetBlock(128,  64)    # (32,32)\n",
    "        self.resblk_4 = ResnetBlock(64,  64)     # (64,64)\n",
    "        \n",
    "        self.conv = spectral_norm(nn.Conv2d(64, nc, kernel_size=5, \n",
    "                                            padding=2, padding_mode=\"reflect\"))\n",
    "        \n",
    "        self.conv_group = spectral_norm(nn.Conv2d(64, nc * 8, kernel_size=5, \n",
    "                                             padding=2, padding_mode=\"reflect\"))\n",
    "        \n",
    "        self.spade_group = []\n",
    "        self.residuals = 0\n",
    "        \n",
    "        for i in range(nc):\n",
    "            self.spade_group.append(SPADE(8, filters=64).cuda())\n",
    "        \n",
    "    def forward(self, x, seg):\n",
    "\n",
    "        curr_size = x.size(0)\n",
    "\n",
    "        x = self.linear(x)\n",
    "        x = x.view(-1, 128, 4 ,4)\n",
    "        \n",
    "        x = self.ups(x)\n",
    "        x = self.resblk_1(x,seg)\n",
    "        \n",
    "        x = self.ups(x)\n",
    "        x = self.resblk_2(x,seg)\n",
    "        \n",
    "        x = self.ups(x)\n",
    "        x = self.resblk_3(x,seg)\n",
    "        \n",
    "        x = self.ups(x)\n",
    "        x = self.resblk_4(x,seg)\n",
    "        \n",
    "        self.px = self.conv(F.leaky_relu(x, 0.2))\n",
    "        x =  self.conv_group(F.leaky_relu(x, 0.2))\n",
    "        out = x.clone()\n",
    "        ret = []\n",
    "        \n",
    "        for i in range(nc):\n",
    "            modded = self.spade_group[i](x[:,i*8:(i+1)*8], seg)\n",
    "            ret.append(self.modulation(modded, i, seg))\n",
    "            \n",
    "        ret = torch.stack(ret, dim=1).squeeze()\n",
    "        self.residuals = ret\n",
    "        ret = ret + self.px\n",
    "        return nn.Sigmoid()(ret)"
   ]
  },
  {
   "cell_type": "markdown",
   "metadata": {},
   "source": [
    "# Discriminator"
   ]
  },
  {
   "cell_type": "code",
   "execution_count": 10,
   "metadata": {
    "collapsed": true
   },
   "outputs": [],
   "source": [
    "class DiscriminatorBase(nn.Module):\n",
    "    def __init__(self,\n",
    "                 ndf=ndf, \n",
    "                 num_chan=num_chan, \n",
    "                 batch_size=batch_size,\n",
    "                 nz=nz,\n",
    "                 nc=nc):\n",
    "        super(DiscriminatorBase, self).__init__()\n",
    "\n",
    "        self.layer1 = nn.Sequential(\n",
    "            # input is (nc) x 64 x 64\n",
    "            nn.Conv2d(num_chan + nc, ndf, kernel_size=4, stride=2, padding=1),\n",
    "            nn.InstanceNorm2d(ndf),\n",
    "            nn.LeakyReLU(0.2, inplace=False))\n",
    "        \n",
    "        self.layer2 = nn.Sequential(\n",
    "            # state size. (ndf) x 32 x 32\n",
    "            nn.Conv2d(ndf, ndf * 2, kernel_size=4, stride=2, padding=1),\n",
    "            nn.InstanceNorm2d(ndf * 2),\n",
    "            nn.LeakyReLU(0.2, inplace=False))\n",
    "        \n",
    "        self.layer3 = nn.Sequential(\n",
    "            # state size. (ndf*2) x 16 x 16\n",
    "            nn.Conv2d(ndf * 2, ndf * 4, kernel_size=4, stride=2, padding=1),\n",
    "            nn.InstanceNorm2d(ndf * 4),\n",
    "            nn.LeakyReLU(0.2, inplace=False))\n",
    "        \n",
    "        self.layer4 = nn.Sequential(\n",
    "            # state size. (ndf*4) x 8 x 8\n",
    "            nn.Conv2d(ndf * 4, ndf * 8, kernel_size=4, stride=2, padding=1),\n",
    "            nn.InstanceNorm2d(ndf * 8),\n",
    "            nn.LeakyReLU(0.2, inplace=False))\n",
    "        \n",
    "        self.layer5 = nn.Sequential(\n",
    "            # state size. (ndf*8) x 4 x 4\n",
    "            nn.Conv2d(ndf * 8, ndf * 16, kernel_size=4, stride=2, padding=1),\n",
    "            nn.InstanceNorm2d(ndf * 16),\n",
    "            nn.LeakyReLU(0.2, inplace=False))\n",
    "            \n",
    "        \n",
    "        self.layer6 = nn.Sequential(\n",
    "            # state size. (ndf*16) x 2 x 2\n",
    "            nn.Conv2d(ndf * 16, 1, kernel_size=3, stride=2, padding=1),\n",
    "            nn.Sigmoid()\n",
    "        )\n",
    "\n",
    "        self.feature_maps = []\n",
    "        \n",
    "    def forward(self, input, X_seg):\n",
    "        \n",
    "        x = torch.cat([input, X_seg], dim=1)\n",
    "        \n",
    "        x = self.layer1(x)\n",
    "        self.feature_maps.append(x)\n",
    "        \n",
    "        x = self.layer2(x)\n",
    "        self.feature_maps.append(x)\n",
    "        \n",
    "        x = self.layer3(x)\n",
    "        self.feature_maps.append(x)\n",
    "        \n",
    "        x = self.layer4(x)\n",
    "        self.feature_maps.append(x)\n",
    "        \n",
    "        x = self.layer5(x)\n",
    "        self.feature_maps.append(x)\n",
    "        \n",
    "        x = self.layer6(x)\n",
    "        \n",
    "        return x\n",
    "    \n",
    "    def reset(self):\n",
    "        self.feature_maps = []\n"
   ]
  },
  {
   "cell_type": "code",
   "execution_count": null,
   "metadata": {
    "collapsed": true
   },
   "outputs": [],
   "source": []
  },
  {
   "cell_type": "markdown",
   "metadata": {},
   "source": [
    "# Training"
   ]
  },
  {
   "cell_type": "code",
   "execution_count": null,
   "metadata": {
    "collapsed": true
   },
   "outputs": [],
   "source": [
    "netG = ChannelGenerator().float().cuda()\n",
    "netD = DiscriminatorBase().float().cuda()\n",
    "\n",
    "optimizerG = optim.Adam(netG.parameters(), lr=0.0004)\n",
    "optimizerD = optim.Adam(netD.parameters(), lr=0.0001)\n",
    "\n",
    "netG.apply(weights_init)\n",
    "netD.apply(weights_init)\n",
    "\n",
    "# Initialize loss functions\n",
    "criterionG = nn.MSELoss()\n",
    "criterionD = nn.MSELoss()\n",
    "\n",
    "# Establish convention for real and fake labels during training\n",
    "real_label = 1\n",
    "fake_label = 0\n",
    "\n",
    "print(\"Initialized\")"
   ]
  },
  {
   "cell_type": "code",
   "execution_count": null,
   "metadata": {
    "collapsed": true
   },
   "outputs": [],
   "source": [
    "# Training Loop\n",
    "num_epochs = 120\n",
    "\n",
    "# Lists to keep track of progress\n",
    "img_list = []\n",
    "G_losses = []\n",
    "D_losses = []\n",
    "R_losses = []\n",
    "iters = 0\n",
    "\n",
    "d_iters = 1\n",
    "g_iters = 1\n",
    "\n",
    "print(\"Starting Training Loop...\")\n",
    "# For each epoch\n",
    "for epoch in range(1, num_epochs):\n",
    "    if epoch % 100 == 0:\n",
    "        for param_group in optimizerG.param_groups:\n",
    "                param_group['lr'] /= 2\n",
    "        for param_group in optimizerD.param_groups:\n",
    "                param_group['lr'] /= 2\n",
    "                \n",
    "                \n",
    "    for idx, data in enumerate(train_set_loader):\n",
    "        \n",
    "        X_seg, X_real = data\n",
    "        X_seg = torch.clamp(X_seg.transpose(2,1), 0, 1).float().cuda()\n",
    "        X_real = X_real.transpose(2,1).float().cuda()\n",
    "\n",
    "        \n",
    "        ############################\n",
    "        # (1) Update D network: maximize log(D(x)) + log(1 - D(G(z)))\n",
    "        ###########################\n",
    "        ## Train with all-real batch\n",
    "        for _ in range(d_iters):\n",
    "            netD.zero_grad()\n",
    "            \n",
    "            output = netD(X_real, X_seg)\n",
    "            label = torch.full(output.size(), real_label).cuda()\n",
    "            \n",
    "            errD_real = criterionD(output, label)\n",
    "            errD_real.backward()\n",
    "            \n",
    "            D_x = output.mean().item()\n",
    "            \n",
    "            noise = 0.5 * torch.randn(X_seg.size()[0], 128).cuda()\n",
    "            fake = netG(noise, X_seg.detach())\n",
    "            label.fill_(fake_label)\n",
    "            output = netD(fake.detach(), X_seg.detach())\n",
    "            errD_fake = criterionD(output, label)\n",
    "            errD_fake.backward()\n",
    "            \n",
    "            D_G_z1 = output.mean().item()\n",
    "\n",
    "            errD = errD_real + errD_fake \n",
    "            \n",
    "            optimizerD.step()\n",
    "                \n",
    "            netD.zero_grad()\n",
    "            netD.reset()\n",
    "            \n",
    "        for _ in range(g_iters):\n",
    "            netG.zero_grad()\n",
    "            \n",
    "            fake = netG(noise, X_seg.detach())\n",
    "            label.fill_(real_label)\n",
    "            \n",
    "            output = netD(fake, X_seg.detach())\n",
    "            errG = criterionD(output, label)\n",
    "            D_fm_fake = netD.feature_maps   # fake feature map\n",
    "            netD.reset()\n",
    "            \n",
    "            output_real = netD(X_real.detach(), X_seg.detach()).view(-1)\n",
    "            D_fm_real = netD.feature_maps   # real feature map\n",
    "            netD.reset()\n",
    "            \n",
    "            D_fm_loss = 0\n",
    "            for i in range(len(D_fm_fake)):\n",
    "                D_fm_loss += nn.L1Loss()(D_fm_fake[i], D_fm_real[i])\n",
    "               \n",
    "            r_loss = D_fm_loss\n",
    "            Lambda = 10\n",
    "            errG += Lambda*D_fm_loss\n",
    "            \n",
    "            errG.backward()\n",
    "            D_G_z2 = output.mean().item()\n",
    "            optimizerG.step()\n",
    "            \n",
    "            \n",
    "            \n",
    "        if idx % 10 == 0:\n",
    "            print('[%d/%d][%d/%d]\\tLoss_D: %.4f\\tLoss_G: %.4f\\tLoss_R: %.4f\\tD(x): %.4f\\tD(G(z)): %.4f / %.4f'\n",
    "                  % (epoch, num_epochs, idx, len(train_set_loader),\n",
    "                     errD.item(), errG.item(), r_loss.item(), D_x, D_G_z1, D_G_z2))\n",
    "\n",
    "        # Save Losses for plotting later\n",
    "        G_losses.append(errG.item())\n",
    "        D_losses.append(errD.item())\n",
    "\n",
    "        \n",
    "    if epoch % 5 == 1:\n",
    "\n",
    "        fig=plt.figure(figsize=(16, 10))\n",
    "        columns = 7\n",
    "        rows = 4\n",
    "        print(\"residuals: \")\n",
    "        for i in range(24):\n",
    "            fig.add_subplot(rows, columns, i+1)\n",
    "            plt.title(channel_names[i])\n",
    "            plt.imshow(netG.residuals.detach().cpu().numpy()[0][i],cmap='hot', interpolation='nearest',\n",
    "                      norm=normalize)\n",
    "        plt.show()\n",
    "        \n",
    "        fig=plt.figure(figsize=(16, 10))\n",
    "        columns = 7\n",
    "        rows = 4\n",
    "        print(\"px: \")\n",
    "        for i in range(24):\n",
    "            fig.add_subplot(rows, columns, i+1)\n",
    "            plt.title(channel_names[i])\n",
    "            plt.imshow(netG.px.detach().cpu().numpy()[0][i],cmap='hot', interpolation='nearest')\n",
    "        plt.show()\n",
    "        \n",
    "        \n",
    "        fig=plt.figure(figsize=(2.5, 2.5))\n",
    "        print(\"Segmentation: \")\n",
    "        plt.imshow(seg_show(X_seg.detach().cpu().numpy()[0]))\n",
    "        plt.show()\n",
    "        \n",
    "        \n",
    "        fig=plt.figure(figsize=(16, 10))\n",
    "        columns = 7\n",
    "        rows = 4\n",
    "        print(\"Fake: \")\n",
    "        for i in range(24):\n",
    "            fig.add_subplot(rows, columns, i+1)\n",
    "            plt.title(channel_names[i])\n",
    "            plt.imshow(fake.detach().cpu().numpy()[0][i],cmap='hot', interpolation='nearest')\n",
    "        plt.show()\n",
    "        \n",
    "        \n",
    "        fig=plt.figure(figsize=(16, 10))\n",
    "        columns = 7\n",
    "        rows = 4\n",
    "        print(\"Real: \")\n",
    "        for i in range(24):\n",
    "            fig.add_subplot(rows, columns, i+1)\n",
    "            plt.title(channel_names[i])\n",
    "            plt.imshow( X_real[0,i,:,:].detach().cpu().numpy(),cmap='hot', interpolation='nearest')\n",
    "        plt.show()\n",
    "        \n",
    "        \n",
    "        fig=plt.figure(figsize=(16, 10))\n",
    "        columns = 7\n",
    "        rows = 4\n",
    "        print(\"Fake Scaled: \")\n",
    "        for i in range(24):\n",
    "            fig.add_subplot(rows, columns, i+1)\n",
    "            plt.title(channel_names[i])\n",
    "            plt.imshow(fake.detach().cpu().numpy()[0][i],cmap='hot', interpolation='nearest', norm=normalize)\n",
    "        plt.show()\n",
    "        \n",
    "        \n",
    "        fig=plt.figure(figsize=(16, 10))\n",
    "        columns = 7\n",
    "        rows = 4\n",
    "        print(\"Real Scaled: \")\n",
    "        for i in range(24):\n",
    "            fig.add_subplot(rows, columns, i+1)\n",
    "            plt.title(channel_names[i])\n",
    "            plt.imshow(X_real[0,i,:,:].detach().cpu().numpy(),cmap='hot', interpolation='nearest', norm=normalize)\n",
    "        plt.show()\n",
    "\n",
    "\n",
    "    if epoch % 20 == 1:\n",
    "        print(\"============================\")\n",
    "        print(\"test cell\")\n",
    "        print(\"============================\")\n",
    "        \n",
    "        for idx, data in enumerate(test_set_loader):\n",
    "        \n",
    "            X_seg, X_real = data\n",
    "            X_seg = torch.clamp(X_seg.transpose(2,1), 0, 1).float().cuda()\n",
    "            X_real = X_real.transpose(2,1).float().cuda()\n",
    "            noise = 0.5 * torch.randn(X_seg.size()[0], 128).cuda()\n",
    "            break\n",
    "        \n",
    "        \n",
    "        fake = netG(noise, X_seg.detach())\n",
    "        \n",
    "        fig=plt.figure(figsize=(2.5, 2.5))\n",
    "        print(\"Segmentation: \")\n",
    "        plt.imshow(seg_show(X_seg.detach().cpu().numpy()[0]))\n",
    "        plt.show()\n",
    "        \n",
    "        fig=plt.figure(figsize=(16, 10))\n",
    "        columns = 7\n",
    "        rows = 4\n",
    "        print(\"Fake: \")\n",
    "        for i in range(24):\n",
    "            fig.add_subplot(rows, columns, i+1)\n",
    "            plt.title(channel_names[i])\n",
    "            plt.imshow(fake.detach().cpu().numpy()[0][i],cmap='hot', interpolation='nearest')\n",
    "        plt.show()\n",
    "        \n",
    "        \n",
    "        fig=plt.figure(figsize=(16, 10))\n",
    "        columns = 7\n",
    "        rows = 4\n",
    "        print(\"Real: \")\n",
    "        for i in range(24):\n",
    "            fig.add_subplot(rows, columns, i+1)\n",
    "            plt.title(channel_names[i])\n",
    "            plt.imshow( X_real[0,i,:,:].detach().cpu().numpy(),cmap='hot', interpolation='nearest')\n",
    "        plt.show()\n",
    "        \n",
    "        \n",
    "        fig=plt.figure(figsize=(16, 10))\n",
    "        columns = 7\n",
    "        rows = 4\n",
    "        print(\"Fake Scaled: \")\n",
    "        for i in range(24):\n",
    "            fig.add_subplot(rows, columns, i+1)\n",
    "            plt.title(channel_names[i])\n",
    "            plt.imshow(fake.detach().cpu().numpy()[0][i],cmap='hot', interpolation='nearest', norm=normalize)\n",
    "        plt.show()\n",
    "        \n",
    "        \n",
    "        fig=plt.figure(figsize=(16, 10))\n",
    "        columns = 7\n",
    "        rows = 4\n",
    "        print(\"Real Scaled: \")\n",
    "        for i in range(24):\n",
    "            fig.add_subplot(rows, columns, i+1)\n",
    "            plt.title(channel_names[i])\n",
    "            plt.imshow(X_real[0,i,:,:].detach().cpu().numpy(),cmap='hot', interpolation='nearest', norm=normalize)\n",
    "        plt.show()\n"
   ]
  },
  {
   "cell_type": "code",
   "execution_count": null,
   "metadata": {
    "collapsed": true
   },
   "outputs": [],
   "source": []
  },
  {
   "cell_type": "markdown",
   "metadata": {},
   "source": [
    "# Save & Load Model"
   ]
  },
  {
   "cell_type": "code",
   "execution_count": null,
   "metadata": {
    "collapsed": true
   },
   "outputs": [],
   "source": [
    "state = {\n",
    "    'epoch': epoch,\n",
    "    'G': netG.state_dict(),\n",
    "    'optimizerG': optimizerG.state_dict(),\n",
    "    'D' : netD.state_dict(),\n",
    "    'optimizerD' : optimizerD.state_dict()\n",
    "}\n",
    "torch.save(state, './model/ccigan')"
   ]
  },
  {
   "cell_type": "code",
   "execution_count": null,
   "metadata": {
    "collapsed": true
   },
   "outputs": [],
   "source": [
    "netG = ChannelGenerator().float().cuda()\n",
    "state = torch.load('./model/ccigan')\n",
    "netG.load_state_dict(state['G'])"
   ]
  },
  {
   "cell_type": "markdown",
   "metadata": {},
   "source": [
    "# Uncertainty Map"
   ]
  },
  {
   "cell_type": "code",
   "execution_count": null,
   "metadata": {
    "collapsed": true
   },
   "outputs": [],
   "source": [
    "for idx, data in enumerate(test_set_loader):\n",
    "    \n",
    "    X_seg, X_real = data\n",
    "    X_seg = torch.clamp(X_seg.transpose(2,1), 0, 1).float().cuda()\n",
    "    X_real = X_real.transpose(2,1).float().cuda()\n",
    "    noise = 0.5 * torch.randn(X_seg.size()[0], 128).cuda()\n",
    "\n",
    "    if idx == 54:\n",
    "        break\n",
    "    \n",
    "print(\"cell \",idx)\n",
    "plt.imshow(seg_show(X_seg.detach().cpu().numpy()[0]))\n",
    "plt.axis('off')\n",
    "plt.show()"
   ]
  },
  {
   "cell_type": "code",
   "execution_count": 32,
   "metadata": {
    "collapsed": true
   },
   "outputs": [],
   "source": [
    "K = 100\n",
    "uncertainty = np.zeros([K, nc, 64, 64])\n",
    "for k in range(K):\n",
    "    noise = 0.5 * torch.randn(X_seg.size()[0], 128).cuda()\n",
    "    fake = netG(noise, X_seg.detach()).detach().cpu().numpy()[0]\n",
    "    uncertainty[k] = fake\n",
    "    \n",
    "uncert_map = uncertainty.var(axis=0)"
   ]
  },
  {
   "cell_type": "code",
   "execution_count": null,
   "metadata": {},
   "outputs": [],
   "source": [
    "fig=plt.figure(figsize=(2.5, 2.5))\n",
    "print(\"Segmentation: \")\n",
    "plt.imshow(seg_show(X_seg.detach().cpu().numpy()[0]))\n",
    "plt.show()\n",
    "\n",
    "\n",
    "fig=plt.figure(figsize=(16, 10))\n",
    "columns = 7\n",
    "rows = 4\n",
    "print(\"Fake: \")\n",
    "for i in range(24):\n",
    "    fig.add_subplot(rows, columns, i+1)\n",
    "    plt.title(channel_names[i])\n",
    "    plt.imshow(uncert_map[i],cmap='hot', interpolation='nearest')\n",
    "    # plt.imshow(uncert_map[i])\n",
    "plt.show()\n"
   ]
  },
  {
   "cell_type": "code",
   "execution_count": null,
   "metadata": {
    "collapsed": true
   },
   "outputs": [],
   "source": []
  },
  {
   "cell_type": "code",
   "execution_count": null,
   "metadata": {
    "collapsed": true
   },
   "outputs": [],
   "source": []
  },
  {
   "cell_type": "markdown",
   "metadata": {},
   "source": [
    "# Interpretablity: Pan-Keratin/ CD8"
   ]
  },
  {
   "cell_type": "code",
   "execution_count": null,
   "metadata": {
    "scrolled": false
   },
   "outputs": [],
   "source": [
    "noise = 0.5 * torch.randn(X_seg.size()[0], 128).cuda()\n",
    "\n",
    "for idx, data in enumerate(test_set_loader):\n",
    "    \n",
    "    X_seg, X_real = data\n",
    "    X_seg = torch.clamp(X_seg.transpose(2,1), 0, 1).float().cuda()\n",
    "    X_real = X_real.transpose(2,1).float().cuda()\n",
    "\n",
    "    fake = netG(noise, X_seg.detach())\n",
    "\n",
    "    if idx == 295:\n",
    "        break\n",
    "\n",
    "plt.imshow(seg_show(X_seg.detach().cpu().numpy()[0]))\n",
    "plt.axis('off')\n",
    "plt.show()\n",
    "\n",
    "plt.imshow(fake.detach().cpu().numpy()[0][0], cmap='hot', interpolation='nearest')\n",
    "plt.axis('off')\n",
    "plt.show()\n",
    "\n",
    "plt.imshow(fake.detach().cpu().numpy()[0][6], cmap='hot', interpolation='nearest')\n",
    "plt.axis('off')\n",
    "plt.show()\n",
    "\n",
    "\n",
    "print('PK:', fake.detach().cpu().numpy()[0][0].sum())\n",
    "print('cd8:', fake.detach().cpu().numpy()[0][6].sum())"
   ]
  },
  {
   "cell_type": "code",
   "execution_count": 20,
   "metadata": {},
   "outputs": [
    {
     "name": "stdout",
     "output_type": "stream",
     "text": [
      "Parameter containing:\n",
      "tensor([[-0.8693,  0.8468, -0.1405,  0.8943,  0.7820,  0.3603, -0.7522, -0.6806]],\n",
      "       device='cuda:0', requires_grad=True)\n",
      "Parameter containing:\n",
      "tensor([[-0.6901, -0.7656,  1.1423, -0.8633,  0.7656, -1.1322,  0.8298,  1.0251]],\n",
      "       device='cuda:0', requires_grad=True)\n"
     ]
    }
   ],
   "source": [
    "print(netG.modulation.states[0])\n",
    "print(netG.modulation.states[6])\n",
    "dsdna = netG.modulation.states[0]\n",
    "netG.modulation.states[0] = netG.modulation.states[6]\n",
    "netG.modulation.states[6] = dsdna"
   ]
  },
  {
   "cell_type": "code",
   "execution_count": 21,
   "metadata": {},
   "outputs": [
    {
     "name": "stdout",
     "output_type": "stream",
     "text": [
      "Parameter containing:\n",
      "tensor([[-0.6901, -0.7656,  1.1423, -0.8633,  0.7656, -1.1322,  0.8298,  1.0251]],\n",
      "       device='cuda:0', requires_grad=True)\n",
      "Parameter containing:\n",
      "tensor([[-0.8693,  0.8468, -0.1405,  0.8943,  0.7820,  0.3603, -0.7522, -0.6806]],\n",
      "       device='cuda:0', requires_grad=True)\n"
     ]
    }
   ],
   "source": [
    "print(netG.modulation.states[0])\n",
    "print(netG.modulation.states[6])"
   ]
  },
  {
   "cell_type": "code",
   "execution_count": null,
   "metadata": {
    "scrolled": false
   },
   "outputs": [],
   "source": [
    "noise = 0.5 * torch.randn(X_seg.size()[0], 128).cuda()\n",
    "\n",
    "for idx, data in enumerate(test_set_loader):\n",
    "    \n",
    "    X_seg, X_real = data\n",
    "    X_seg = torch.clamp(X_seg.transpose(2,1), 0, 1).float().cuda()\n",
    "    X_real = X_real.transpose(2,1).float().cuda()\n",
    "\n",
    "    fake = netG(noise, X_seg.detach())\n",
    "\n",
    "    if idx == 295:\n",
    "        break\n",
    "\n",
    "plt.imshow(seg_show(X_seg.detach().cpu().numpy()[0]))\n",
    "plt.axis('off')\n",
    "plt.show()\n",
    "\n",
    "plt.imshow(fake.detach().cpu().numpy()[0][0], cmap='hot', interpolation='nearest')\n",
    "plt.axis('off')\n",
    "plt.show()\n",
    "\n",
    "plt.imshow(fake.detach().cpu().numpy()[0][6], cmap='hot', interpolation='nearest')\n",
    "plt.axis('off')\n",
    "plt.show()\n",
    "\n",
    "print('PK:', fake.detach().cpu().numpy()[0][0].sum())\n",
    "print('cd8:', fake.detach().cpu().numpy()[0][6].sum())"
   ]
  },
  {
   "cell_type": "markdown",
   "metadata": {},
   "source": [
    "# Interpretablity: dsDNA / HLA"
   ]
  },
  {
   "cell_type": "code",
   "execution_count": null,
   "metadata": {
    "collapsed": true,
    "scrolled": true
   },
   "outputs": [],
   "source": [
    "for idx, data in enumerate(test_set_loader):\n",
    "    \n",
    "    X_seg, X_real = data\n",
    "    X_seg = torch.clamp(X_seg.transpose(2,1), 0, 1).float().cuda()\n",
    "    X_real = X_real.transpose(2,1).float().cuda()\n",
    "\n",
    "    fake = netG(noise, X_seg.detach())\n",
    "\n",
    "    if idx == 125:\n",
    "        break\n",
    "\n",
    "plt.imshow(seg_show(X_seg.detach().cpu().numpy()[0]))\n",
    "plt.axis('off')\n",
    "plt.show()\n",
    "\n",
    "plt.imshow(fake.detach().cpu().numpy()[0][3], cmap='hot', interpolation='nearest')\n",
    "plt.axis('off')\n",
    "plt.show()\n",
    "\n",
    "plt.imshow(fake.detach().cpu().numpy()[0][11], cmap='hot', interpolation='nearest')\n",
    "plt.axis('off')\n",
    "plt.show()\n",
    "print('dsDNA:', fake.detach().cpu().numpy()[0][3].sum())\n",
    "print('HLA:', fake.detach().cpu().numpy()[0][11].sum())"
   ]
  },
  {
   "cell_type": "code",
   "execution_count": null,
   "metadata": {
    "collapsed": true
   },
   "outputs": [],
   "source": [
    "dsdna = netG.modulation.states[3]\n",
    "netG.modulation.states[3] = netG.modulation.states[11]\n",
    "netG.modulation.states[11] = dsdna"
   ]
  },
  {
   "cell_type": "code",
   "execution_count": null,
   "metadata": {
    "collapsed": true,
    "scrolled": true
   },
   "outputs": [],
   "source": [
    "for idx, data in enumerate(test_set_loader):\n",
    "    \n",
    "    X_seg, X_real = data\n",
    "    X_seg = torch.clamp(X_seg.transpose(2,1), 0, 1).float().cuda()\n",
    "    X_real = X_real.transpose(2,1).float().cuda()\n",
    "\n",
    "    fake = netG(noise, X_seg.detach())\n",
    "\n",
    "    if idx == 125:\n",
    "        break\n",
    "\n",
    "plt.imshow(seg_show(X_seg.detach().cpu().numpy()[0]))\n",
    "plt.axis('off')\n",
    "plt.show()\n",
    "\n",
    "plt.imshow(fake.detach().cpu().numpy()[0][3], cmap='hot', interpolation='nearest')\n",
    "plt.axis('off')\n",
    "plt.show()\n",
    "\n",
    "plt.imshow(fake.detach().cpu().numpy()[0][11], cmap='hot', interpolation='nearest')\n",
    "plt.axis('off')\n",
    "plt.show()\n",
    "\n",
    "\n",
    "print('dsDNA:', fake.detach().cpu().numpy()[0][3].sum())\n",
    "print('HLA:', fake.detach().cpu().numpy()[0][11].sum())"
   ]
  },
  {
   "cell_type": "code",
   "execution_count": null,
   "metadata": {
    "collapsed": true
   },
   "outputs": [],
   "source": []
  },
  {
   "cell_type": "markdown",
   "metadata": {},
   "source": [
    "# Persistent Vectors Visualization"
   ]
  },
  {
   "cell_type": "code",
   "execution_count": 18,
   "metadata": {},
   "outputs": [
    {
     "name": "stderr",
     "output_type": "stream",
     "text": [
      "/home/ubuntu/anaconda3/lib/python3.6/site-packages/torch/nn/functional.py:1386: UserWarning: nn.functional.sigmoid is deprecated. Use torch.sigmoid instead.\n",
      "  warnings.warn(\"nn.functional.sigmoid is deprecated. Use torch.sigmoid instead.\")\n"
     ]
    },
    {
     "data": {
      "image/png": "[encoded data removed]",
      "text/plain": [
       "<Figure size 936x576 with 24 Axes>"
      ]
     },
     "metadata": {},
     "output_type": "display_data"
    }
   ],
   "source": [
    "normalize2 = matplotlib.colors.Normalize(vmin=0, vmax=1)\n",
    "\n",
    "fig=plt.figure(figsize=(13, 8))\n",
    "columns = 12\n",
    "rows = 2\n",
    "for i in range(nc):\n",
    "    fig.add_subplot(rows, columns, i+1)\n",
    "    plt.title(channel_names[i])\n",
    "    plt.imshow(F.sigmoid(netG.modulation.states[i]).cpu().detach().numpy().T, cmap='hot', norm=normalize2)\n",
    "    plt.axis('off')\n",
    "plt.show()"
   ]
  },
  {
   "cell_type": "code",
   "execution_count": null,
   "metadata": {
    "collapsed": true
   },
   "outputs": [],
   "source": []
  },
  {
   "cell_type": "markdown",
   "metadata": {},
   "source": [
    "# Search Algorithm"
   ]
  },
  {
   "cell_type": "code",
   "execution_count": 12,
   "metadata": {
    "collapsed": true
   },
   "outputs": [],
   "source": [
    "# Load segmentation\n",
    "\n",
    "cells_seg_list = []\n",
    "cells_real_list = []\n",
    "\n",
    "download_path = './data/benchmark'\n",
    "filelist = os.listdir(download_path)\n",
    "\n",
    "for i in range(len(filelist)):\n",
    "    patch = download_path + '/cell_' + str(i) + '.npy'\n",
    "    cells_seg_list.append(np.load(patch)[0])\n",
    "    cells_real_list.append(np.load(patch)[1])"
   ]
  },
  {
   "cell_type": "code",
   "execution_count": 13,
   "metadata": {
    "collapsed": true
   },
   "outputs": [],
   "source": [
    "from scipy.stats import wasserstein_distance\n",
    "\n",
    "def cart2pol(x, y):\n",
    "    rho = np.sqrt(x**2 + y**2)\n",
    "    phi = np.arctan2(y, x)\n",
    "    if phi < 0:\n",
    "        phi = 2*np.pi + phi\n",
    "        \n",
    "    return (rho, phi)\n",
    "\n",
    "\n",
    "def compute_histogram(img, divider=30, size = 64, offset=32):\n",
    "\n",
    "    histogram = np.zeros([divider])\n",
    "\n",
    "    for i in range(size):\n",
    "        for j in range(size):\n",
    "            x = j - offset\n",
    "            y = offset - i\n",
    "            \n",
    "            rho, phi = cart2pol(x,y)\n",
    "            # normalize to [0,divider]\n",
    "            degree = divider * phi/(2*np.pi) \n",
    "            index = int(np.floor(degree))\n",
    "            histogram[index] += img[i,j]\n",
    "            \n",
    "    return histogram"
   ]
  },
  {
   "cell_type": "code",
   "execution_count": 14,
   "metadata": {
    "collapsed": true
   },
   "outputs": [],
   "source": [
    "# Search Algorithm\n",
    "def search_cell(seg_list, main_id, channel_id, noise, bar=0.0002):\n",
    "    n_cell = len(seg_list)\n",
    "    \n",
    "    rand_idx = list(range(n_cell))\n",
    "    \n",
    "    main_id = np.random.randint(n_cell)\n",
    "    rand_idx.remove(main_id)\n",
    "    rand_idx = np.random.permutation(rand_idx)\n",
    "    seg = 0\n",
    "    # the beginning central cell\n",
    "    seg += seg_list[main_id]\n",
    "    empty = np.less(np.sum(seg, axis=0, keepdims=True), 0.5).astype(np.float32)\n",
    "    seg_18= np.concatenate([seg, empty], axis=0)\n",
    "    X_seg = torch.Tensor(seg_18).unsqueeze(0).cuda()\n",
    "    fake = netG(noise, X_seg).detach().cpu().numpy()[0][channel_id]\n",
    "    fake = fake*(seg_list[main_id].sum(0))\n",
    "    \n",
    "    fake_pre = fake.copy()\n",
    "    fake_cur = fake.copy()\n",
    "    seg_18_pre = seg_18\n",
    "    histo_cur = compute_histogram(fake_cur)\n",
    "    histo_pre = compute_histogram(fake_pre)\n",
    "    area = seg_list[main_id].sum()\n",
    "    significant_bar = bar*area\n",
    "    \n",
    "    for k in range(1, n_cell):\n",
    "        i = rand_idx[k-1]\n",
    "        seg += seg_list[i]\n",
    "        empty = np.less(np.sum(seg, axis=0, keepdims=True), 0.5).astype(np.float32)\n",
    "        seg_18= np.concatenate([seg, empty], axis=0)\n",
    "        X_seg = torch.Tensor(seg_18).unsqueeze(0).cuda()\n",
    "        fake = netG(noise, X_seg).detach().cpu().numpy()[0][channel_id]\n",
    "        fake = fake*(seg_list[main_id].sum(0))\n",
    "        \n",
    "        fake_cur = fake.copy()\n",
    "        histo_cur = compute_histogram(fake_cur)\n",
    "        \n",
    "\n",
    "        emd = wasserstein_distance(histo_pre, histo_cur)\n",
    "\n",
    "        if emd > significant_bar:\n",
    "            if fake_pre.sum() < fake_cur.sum():\n",
    "                print('Significant Increase')\n",
    "            else:\n",
    "                print('Significant Decrease')\n",
    "            fig=plt.figure(figsize=(9,3))\n",
    "            columns = 4\n",
    "            rows = 1\n",
    "            \n",
    "            fig.add_subplot(rows, columns, 1)\n",
    "            plt.imshow(seg_show(seg_18_pre))\n",
    "            plt.axis('off')\n",
    "            \n",
    "            fig.add_subplot(rows, columns, 2)\n",
    "            plt.imshow(seg_show(seg_18))\n",
    "            plt.axis('off')\n",
    "            \n",
    "            fig.add_subplot(rows, columns, 3)\n",
    "            plt.title(channel_names[channel_id])\n",
    "            plt.imshow(fake_pre, cmap='hot', interpolation='nearest')\n",
    "            plt.axis('off')\n",
    "            \n",
    "            fig.add_subplot(rows, columns, 4)\n",
    "            plt.title(channel_names[channel_id])\n",
    "            plt.imshow(fake_cur, cmap='hot', interpolation='nearest')\n",
    "            plt.axis('off')\n",
    "            plt.show()\n",
    "            \n",
    "            \n",
    "        fake_pre = fake.copy()\n",
    "        # significant_bar = 0.01*fake_pre.sum()\n",
    "        histo_pre = compute_histogram(fake_pre)\n",
    "        seg_18_pre = seg_18"
   ]
  },
  {
   "cell_type": "code",
   "execution_count": 15,
   "metadata": {
    "collapsed": true
   },
   "outputs": [],
   "source": [
    "noise = 0.5 * torch.randn(1, 128).cuda()"
   ]
  },
  {
   "cell_type": "code",
   "execution_count": 17,
   "metadata": {},
   "outputs": [
    {
     "name": "stdout",
     "output_type": "stream",
     "text": [
      "Significant Decrease\n"
     ]
    },
    {
     "data": {
      "image/png": "[encoded data removed]",
      "text/plain": [
       "<Figure size 648x216 with 4 Axes>"
      ]
     },
     "metadata": {},
     "output_type": "display_data"
    },
    {
     "name": "stdout",
     "output_type": "stream",
     "text": [
      "Significant Increase\n"
     ]
    },
    {
     "data": {
      "image/png": "[encoded data removed]",
      "text/plain": [
       "<Figure size 648x216 with 4 Axes>"
      ]
     },
     "metadata": {},
     "output_type": "display_data"
    },
    {
     "name": "stdout",
     "output_type": "stream",
     "text": [
      "Significant Decrease\n"
     ]
    },
    {
     "data": {
      "image/png": "[encoded data removed]",
      "text/plain": [
       "<Figure size 648x216 with 4 Axes>"
      ]
     },
     "metadata": {},
     "output_type": "display_data"
    },
    {
     "name": "stdout",
     "output_type": "stream",
     "text": [
      "Significant Increase\n"
     ]
    },
    {
     "data": {
      "image/png": "[encoded data removed]",
      "text/plain": [
       "<Figure size 648x216 with 4 Axes>"
      ]
     },
     "metadata": {},
     "output_type": "display_data"
    },
    {
     "name": "stdout",
     "output_type": "stream",
     "text": [
      "Significant Increase\n"
     ]
    },
    {
     "data": {
      "image/png": "[encoded data removed]",
      "text/plain": [
       "<Figure size 648x216 with 4 Axes>"
      ]
     },
     "metadata": {},
     "output_type": "display_data"
    },
    {
     "name": "stdout",
     "output_type": "stream",
     "text": [
      "Significant Decrease\n"
     ]
    },
    {
     "data": {
      "image/png": "[encoded data removed]",
      "text/plain": [
       "<Figure size 648x216 with 4 Axes>"
      ]
     },
     "metadata": {},
     "output_type": "display_data"
    },
    {
     "name": "stdout",
     "output_type": "stream",
     "text": [
      "Significant Increase\n"
     ]
    },
    {
     "data": {
      "image/png": "[encoded data removed]",
      "text/plain": [
       "<Figure size 648x216 with 4 Axes>"
      ]
     },
     "metadata": {},
     "output_type": "display_data"
    },
    {
     "name": "stdout",
     "output_type": "stream",
     "text": [
      "Significant Decrease\n"
     ]
    },
    {
     "data": {
      "image/png": "[encoded data removed]",
      "text/plain": [
       "<Figure size 648x216 with 4 Axes>"
      ]
     },
     "metadata": {},
     "output_type": "display_data"
    },
    {
     "name": "stdout",
     "output_type": "stream",
     "text": [
      "Significant Increase\n"
     ]
    },
    {
     "data": {
      "image/png": "[encoded data removed]",
      "text/plain": [
       "<Figure size 648x216 with 4 Axes>"
      ]
     },
     "metadata": {},
     "output_type": "display_data"
    },
    {
     "name": "stdout",
     "output_type": "stream",
     "text": [
      "Significant Decrease\n"
     ]
    },
    {
     "data": {
      "image/png": "[encoded data removed]",
      "text/plain": [
       "<Figure size 648x216 with 4 Axes>"
      ]
     },
     "metadata": {},
     "output_type": "display_data"
    },
    {
     "name": "stdout",
     "output_type": "stream",
     "text": [
      "Significant Increase\n"
     ]
    },
    {
     "data": {
      "image/png": "[encoded data removed]",
      "text/plain": [
       "<Figure size 648x216 with 4 Axes>"
      ]
     },
     "metadata": {},
     "output_type": "display_data"
    },
    {
     "name": "stdout",
     "output_type": "stream",
     "text": [
      "Significant Increase\n"
     ]
    },
    {
     "data": {
      "image/png": "[encoded data removed]",
      "text/plain": [
       "<Figure size 648x216 with 4 Axes>"
      ]
     },
     "metadata": {},
     "output_type": "display_data"
    },
    {
     "name": "stdout",
     "output_type": "stream",
     "text": [
      "Significant Decrease\n"
     ]
    },
    {
     "data": {
      "image/png": "[encoded data removed]",
      "text/plain": [
       "<Figure size 648x216 with 4 Axes>"
      ]
     },
     "metadata": {},
     "output_type": "display_data"
    },
    {
     "name": "stdout",
     "output_type": "stream",
     "text": [
      "Significant Increase\n"
     ]
    },
    {
     "data": {
      "image/png": "[encoded data removed]",
      "text/plain": [
       "<Figure size 648x216 with 4 Axes>"
      ]
     },
     "metadata": {},
     "output_type": "display_data"
    },
    {
     "name": "stdout",
     "output_type": "stream",
     "text": [
      "Significant Decrease\n"
     ]
    },
    {
     "data": {
      "image/png": "[encoded data removed]",
      "text/plain": [
       "<Figure size 648x216 with 4 Axes>"
      ]
     },
     "metadata": {},
     "output_type": "display_data"
    },
    {
     "name": "stdout",
     "output_type": "stream",
     "text": [
      "Significant Increase\n"
     ]
    },
    {
     "data": {
      "image/png": "[encoded data removed]",
      "text/plain": [
       "<Figure size 648x216 with 4 Axes>"
      ]
     },
     "metadata": {},
     "output_type": "display_data"
    },
    {
     "name": "stdout",
     "output_type": "stream",
     "text": [
      "Significant Increase\n"
     ]
    },
    {
     "data": {
      "image/png": "[encoded data removed]",
      "text/plain": [
       "<Figure size 648x216 with 4 Axes>"
      ]
     },
     "metadata": {},
     "output_type": "display_data"
    },
    {
     "name": "stdout",
     "output_type": "stream",
     "text": [
      "Significant Decrease\n"
     ]
    },
    {
     "data": {
      "image/png": "[encoded data removed]",
      "text/plain": [
       "<Figure size 648x216 with 4 Axes>"
      ]
     },
     "metadata": {},
     "output_type": "display_data"
    },
    {
     "name": "stdout",
     "output_type": "stream",
     "text": [
      "Significant Increase\n"
     ]
    },
    {
     "data": {
      "image/png": "[encoded data removed]",
      "text/plain": [
       "<Figure size 648x216 with 4 Axes>"
      ]
     },
     "metadata": {},
     "output_type": "display_data"
    },
    {
     "name": "stdout",
     "output_type": "stream",
     "text": [
      "Significant Increase\n"
     ]
    },
    {
     "data": {
      "image/png": "[encoded data removed]",
      "text/plain": [
       "<Figure size 648x216 with 4 Axes>"
      ]
     },
     "metadata": {},
     "output_type": "display_data"
    },
    {
     "name": "stdout",
     "output_type": "stream",
     "text": [
      "Significant Increase\n"
     ]
    },
    {
     "data": {
      "image/png": "[encoded data removed]",
      "text/plain": [
       "<Figure size 648x216 with 4 Axes>"
      ]
     },
     "metadata": {},
     "output_type": "display_data"
    },
    {
     "name": "stdout",
     "output_type": "stream",
     "text": [
      "Significant Increase\n"
     ]
    },
    {
     "data": {
      "image/png": "[encoded data removed]",
      "text/plain": [
       "<Figure size 648x216 with 4 Axes>"
      ]
     },
     "metadata": {},
     "output_type": "display_data"
    },
    {
     "name": "stdout",
     "output_type": "stream",
     "text": [
      "Significant Decrease\n"
     ]
    },
    {
     "data": {
      "image/png": "[encoded data removed]",
      "text/plain": [
       "<Figure size 648x216 with 4 Axes>"
      ]
     },
     "metadata": {},
     "output_type": "display_data"
    },
    {
     "name": "stdout",
     "output_type": "stream",
     "text": [
      "Significant Decrease\n"
     ]
    },
    {
     "data": {
      "image/png": "[encoded data removed]",
      "text/plain": [
       "<Figure size 648x216 with 4 Axes>"
      ]
     },
     "metadata": {},
     "output_type": "display_data"
    }
   ],
   "source": [
    "'''\n",
    "Begin Search\n",
    "\n",
    "specify: (channel_id, bar)\n",
    "\n",
    "'''\n",
    "\n",
    "channel_id =18\n",
    "main_id = 0\n",
    "for r in range(1):\n",
    "    for i in range(len(cells_seg_list)):\n",
    "        seg_list = cells_seg_list[i]\n",
    "        search_cell(seg_list, main_id, channel_id, noise,  bar=0.0005)"
   ]
  },
  {
   "cell_type": "code",
   "execution_count": null,
   "metadata": {
    "collapsed": true
   },
   "outputs": [],
   "source": []
  },
  {
   "cell_type": "code",
   "execution_count": null,
   "metadata": {
    "collapsed": true
   },
   "outputs": [],
   "source": []
  },
  {
   "cell_type": "code",
   "execution_count": null,
   "metadata": {
    "collapsed": true
   },
   "outputs": [],
   "source": []
  },
  {
   "cell_type": "markdown",
   "metadata": {},
   "source": [
    "# Reconstruction Metrics"
   ]
  },
  {
   "cell_type": "markdown",
   "metadata": {},
   "source": [
    "# Adjust L1"
   ]
  },
  {
   "cell_type": "code",
   "execution_count": null,
   "metadata": {},
   "outputs": [],
   "source": [
    "# Adjust L1\n",
    "\n",
    "Loss = 0\n",
    "AdjLoss  = 0\n",
    "for idx, data in enumerate(test_set_loader):\n",
    "\n",
    "    X_seg, X_real = data\n",
    "    X_seg = torch.clamp(X_seg.transpose(2,1), 0, 1).float().cuda()\n",
    "    X_real = X_real.transpose(2,1).float().cuda()\n",
    "    X_mask = (1 - X_seg[:,-1]).unsqueeze(1)\n",
    "    noise = 0.5 * torch.randn(X_seg.size()[0], 128).cuda()\n",
    "    fake = netG(noise, X_seg).detach()\n",
    "    outside = (1 - X_mask) * fake\n",
    "    \n",
    "    B,C = X_real.size()[:2]\n",
    "    real_data = (X_mask*X_real).view(B, C, -1)\n",
    "    fake_data = (X_mask*fake).view(B, C, -1)\n",
    "    # print(real_data.shape)\n",
    "    \n",
    "    real_rank, _ = torch.sort(real_data, dim=2)\n",
    "    fake_rank, _ = torch.sort(fake_data, dim=2)\n",
    "    \n",
    "    Loss += nn.L1Loss()(real_rank[:], fake_rank[:])\n",
    "    AdjLoss += nn.L1Loss()(real_rank[:], fake_rank[:])\n",
    "    AdjLoss += nn.L1Loss()(outside[:], torch.zeros_like(outside[:]))\n",
    "    \n",
    "print('Adjust L1 Metric:', AdjLoss.item())\n",
    "print('Pure L1 Metric:', Loss.item())"
   ]
  },
  {
   "cell_type": "markdown",
   "metadata": {},
   "source": [
    "# Adjusted MSE"
   ]
  },
  {
   "cell_type": "code",
   "execution_count": 18,
   "metadata": {},
   "outputs": [
    {
     "name": "stdout",
     "output_type": "stream",
     "text": [
      "Adjust MSE Metric: 0.026254907250404358\n",
      "Pure MSE Metric: 0.02616511844098568\n"
     ]
    }
   ],
   "source": [
    "# Adjust MSE\n",
    "\n",
    "Loss = 0\n",
    "AdjLoss  = 0\n",
    "for idx, data in enumerate(test_set_loader):\n",
    "\n",
    "    X_seg, X_real = data\n",
    "    X_seg = torch.clamp(X_seg.transpose(2,1), 0, 1).float().cuda()\n",
    "    X_real = X_real.transpose(2,1).float().cuda()\n",
    "    X_mask = (1 - X_seg[:,-1]).unsqueeze(1)\n",
    "    noise = 0.5 * torch.randn(X_seg.size()[0], 128).cuda()\n",
    "    fake = netG(noise, X_seg).detach()\n",
    "    outside = (1 - X_mask) * fake\n",
    "    \n",
    "    B,C = X_real.size()[:2]\n",
    "    real_data = (X_mask*X_real).view(B, C, -1)\n",
    "    fake_data = (X_mask*fake).view(B, C, -1)\n",
    "    # print(real_data.shape)\n",
    "    \n",
    "    real_rank, _ = torch.sort(real_data, dim=2)\n",
    "    fake_rank, _ = torch.sort(fake_data, dim=2)\n",
    "    \n",
    "    Loss += nn.MSELoss()(real_rank[:], fake_rank[:])\n",
    "    AdjLoss += nn.MSELoss()(real_rank[:], fake_rank[:])\n",
    "    AdjLoss += nn.MSELoss()(outside[:], torch.zeros_like(outside[:]))\n",
    "    \n",
    "print('Adjust MSE Metric:', AdjLoss.item())\n",
    "print('Pure MSE Metric:', Loss.item())"
   ]
  },
  {
   "cell_type": "markdown",
   "metadata": {},
   "source": [
    "# SSIM"
   ]
  },
  {
   "cell_type": "code",
   "execution_count": 22,
   "metadata": {
    "collapsed": true
   },
   "outputs": [],
   "source": [
    "cells_seg_list = []\n",
    "cells_real_list = []\n",
    "\n",
    "download_path = './data/benchmark_p14'\n",
    "filelist = os.listdir(download_path)\n",
    "\n",
    "for i in range(len(filelist)):\n",
    "    patch = download_path + '/cell_' + str(i) + '.npy'\n",
    "    cells_seg_list.append(np.load(patch)[0])\n",
    "    cells_real_list.append(np.load(patch)[1])"
   ]
  },
  {
   "cell_type": "code",
   "execution_count": 21,
   "metadata": {
    "scrolled": false
   },
   "outputs": [
    {
     "name": "stderr",
     "output_type": "stream",
     "text": [
      "/home/ubuntu/anaconda3/lib/python3.6/site-packages/skimage/util/arraycrop.py:177: FutureWarning: Using a non-tuple sequence for multidimensional indexing is deprecated; use `arr[tuple(seq)]` instead of `arr[seq]`. In the future this will be interpreted as an array index, `arr[np.array(seq)]`, which will result either in an error or a different result.\n",
      "  cropped = ar[slices]\n"
     ]
    },
    {
     "name": "stdout",
     "output_type": "stream",
     "text": [
      "ssim score: 0.955164218665233\n",
      "Pan-Keratin 0.8906516966066818\n",
      "EGFR 0.9959004254633308\n",
      "Beta catenin 0.8005639840229877\n",
      "dsDNA 0.8202061395964431\n",
      "Ki67 0.9916264602857635\n",
      "CD3 0.9722234465039303\n",
      "CD8 0.9696326452576417\n",
      "CD4 0.9965524587838172\n",
      "FoxP3 0.9998054709294971\n",
      "MPO 0.9992360507609312\n",
      "HLA-DR 0.979642540216024\n",
      "HLA_Class_1 0.7451917381770891\n",
      "CD209 0.9997566506324919\n",
      "CD11b 0.9998261155502693\n",
      "CD11c 0.9982090633205644\n",
      "CD68 0.9921558403868845\n",
      "CD63 0.9940159200014695\n",
      "Lag3 0.9984667804721604\n",
      "PD1 0.9789132390846947\n",
      "PD-L1 0.8836419165946395\n",
      "IDO 0.9991512470399059\n",
      "Vimentin 0.9443916314822404\n",
      "SMA 0.9754305818817104\n",
      "CD31 0.9987492049143821\n"
     ]
    }
   ],
   "source": [
    "from skimage.measure import compare_ssim\n",
    "\n",
    "ssim_score = 0\n",
    "ssim_channels = np.zeros(nc)\n",
    "\n",
    "for c in range(len(cells_seg_list)):\n",
    "    \n",
    "    seg_list = cells_seg_list[c]\n",
    "    real_list = cells_real_list[c]\n",
    "    n_cell = len(seg_list)\n",
    "    noise = 0.5 * torch.randn(1, 128).cuda()\n",
    "    \n",
    "    # seg_test = 0\n",
    "    seg_test = np.sum(seg_list, axis=0)\n",
    "    empty = np.less(np.sum(seg_test, axis=0, keepdims=True), 0.5).astype(np.float32)\n",
    "    seg_test_18 = np.concatenate([seg_test, empty], axis=0)\n",
    "    X_seg_0 = torch.Tensor(seg_test_18).unsqueeze(0).cuda()\n",
    "    \n",
    "    # fake = netG(noise, X_seg_0).detach().cpu().numpy()[0]\n",
    "    fake = netG(noise, X_seg_0).detach().cpu().numpy()[0]\n",
    "    \n",
    "    # fake = netF(fake, X_seg_0)\n",
    "    for j in range(nc):\n",
    "        fake_i = fake[j].astype(float)\n",
    "        real_i = np.sum(real_list, axis=0)[j].astype(float)  # i-th cell, j-th channel\n",
    "\n",
    "        # plt.imshow(fake_i)\n",
    "        # plt.show()\n",
    "        # plt.imshow(real_i)\n",
    "        # plt.show()\n",
    "        ssim_score += compare_ssim(fake_i, real_i)/nc\n",
    "        ssim_channels[j] += compare_ssim(fake_i, real_i)\n",
    "\n",
    "print('ssim score:', ssim_score/len(cells_seg_list))\n",
    "for j in range(nc):\n",
    "    print(channel_names[j], ssim_channels[j]/len(cells_seg_list))"
   ]
  },
  {
   "cell_type": "markdown",
   "metadata": {},
   "source": [
    "# Cell Based Mutual Information"
   ]
  },
  {
   "cell_type": "code",
   "execution_count": 15,
   "metadata": {
    "collapsed": true
   },
   "outputs": [],
   "source": [
    "def mutual_information(hgram):\n",
    "    \"\"\" Mutual information for joint histogram\n",
    "    \"\"\"\n",
    "    # Convert bins counts to probability values\n",
    "    pxy = hgram / float(np.sum(hgram))\n",
    "    px = np.sum(pxy, axis=1) # marginal for x over y\n",
    "    py = np.sum(pxy, axis=0) # marginal for y over x\n",
    "    px_py = px[:, None] * py[None, :] # Broadcast to multiply marginals\n",
    "    # Now we can do the calculation using the pxy, px_py 2D arrays\n",
    "    nzs = pxy > 0 # Only non-zero pxy values contribute to the sum\n",
    "    return np.sum(pxy[nzs] * np.log(pxy[nzs] / px_py[nzs]))"
   ]
  },
  {
   "cell_type": "code",
   "execution_count": 17,
   "metadata": {},
   "outputs": [
    {
     "name": "stdout",
     "output_type": "stream",
     "text": [
      "mutual information: 10.45644743685693\n",
      "Pan-Keratin 0.36098346920957985\n",
      "EGFR 0.0007223936619312186\n",
      "Beta catenin 0.46689492117368486\n",
      "dsDNA 5.367115317604401\n",
      "Ki67 0.009195963056598833\n",
      "CD3 0.02721147291060109\n",
      "CD8 0.08147430451170382\n",
      "CD4 0.0022049578513495816\n",
      "FoxP3 0.0\n",
      "MPO 0.0016845337208012566\n",
      "HLA-DR 0.14701313752069453\n",
      "HLA_Class_1 3.6701828972184383\n",
      "CD209 0.0\n",
      "CD11b 0.0\n",
      "CD11c 0.0032101154690480143\n",
      "CD68 0.018388642458249106\n",
      "CD63 0.012797257643545045\n",
      "Lag3 0.0010277557953313132\n",
      "PD1 0.013430568906299527\n",
      "PD-L1 0.020205005356982268\n",
      "IDO 0.0001632735784445872\n",
      "Vimentin 0.2083809663633403\n",
      "SMA 0.043834128630253995\n",
      "CD31 0.0003263542157011176\n"
     ]
    }
   ],
   "source": [
    "total_mi = 0\n",
    "n_bin = 50\n",
    "mi_channels = np.zeros(nc)\n",
    "\n",
    "for c in range(len(cells_seg_list)):\n",
    "    \n",
    "    seg_list = cells_seg_list[c]\n",
    "    real_list = cells_real_list[c]\n",
    "    n_cell = len(seg_list)\n",
    "    noise = 0.5 * torch.randn(1, 128).cuda()\n",
    "    \n",
    "    # seg_test = 0\n",
    "    seg_test = np.sum(seg_list, axis=0)\n",
    "    empty = np.less(np.sum(seg_test, axis=0, keepdims=True), 0.5).astype(np.float32)\n",
    "    seg_test_18 = np.concatenate([seg_test, empty], axis=0)\n",
    "    X_seg_0 = torch.Tensor(seg_test_18).unsqueeze(0).cuda()\n",
    "    \n",
    "    fake = netG(noise, X_seg_0).detach().cpu().numpy()[0]\n",
    "    \n",
    "    for i in range(n_cell):\n",
    "        mask = seg_list[i].sum(axis=0)\n",
    "        \n",
    "        for j in range(nc):\n",
    "            fake_i = (fake*mask)[j].flatten()\n",
    "            real_i = real_list[i][j].flatten()   # i-th cell, j-th channel\n",
    "\n",
    "            hist_2d, _, _ = np.histogram2d(fake_i, real_i, bins=n_bin)\n",
    "\n",
    "            mi = mutual_information(hist_2d)\n",
    "            mi_channels[j] += mi/n_cell/nc\n",
    "            total_mi += mi/n_cell/nc\n",
    "            \n",
    "print('mutual information:', total_mi)\n",
    "for j in range(nc):\n",
    "    print(channel_names[j], mi_channels[j])"
   ]
  },
  {
   "cell_type": "markdown",
   "metadata": {},
   "source": [
    "# BIOLOGICAL SIGNIFICANCE"
   ]
  },
  {
   "cell_type": "markdown",
   "metadata": {},
   "source": [
    "# Pan-Keratin/CD8 Experiment"
   ]
  },
  {
   "cell_type": "code",
   "execution_count": null,
   "metadata": {
    "collapsed": true
   },
   "outputs": [],
   "source": [
    "cells_seg_list = []\n",
    "cells_real_list = []\n",
    "\n",
    "download_path = './data/cd8_test_c24'\n",
    "filelist = os.listdir(download_path)\n",
    "\n",
    "for i in range(len(filelist)):\n",
    "    patch = download_path + '/cell_' + str(i) + '.npy'\n",
    "    cells_seg_list.append(np.load(patch)[0])\n",
    "    cells_real_list.append(np.load(patch)[1])"
   ]
  },
  {
   "cell_type": "code",
   "execution_count": 54,
   "metadata": {
    "collapsed": true
   },
   "outputs": [],
   "source": [
    "# CD8 Test\n",
    "noise = 0.5 * torch.randn(1, 128).cuda()\n",
    "total = 0\n",
    "decrease = 0\n",
    "\n",
    "\n",
    "surface_area = []\n",
    "tumor_expression = []\n",
    "\n",
    "for c in range(len(cells_seg_list)):\n",
    "    seg_list = cells_seg_list[c]\n",
    "    real_list = cells_real_list[c]\n",
    "    n_cell = len(seg_list)\n",
    "    \n",
    "\n",
    "    for k in range(1, n_cell):\n",
    "    \n",
    "        seg_tumor = np.sum(seg_list[0], axis=0)\n",
    "        seg_test = np.zeros([17, 64, 64])\n",
    "        seg_test[4] = seg_tumor    # tumor\n",
    "        \n",
    "        seg_cd8 = 0\n",
    "        if k == 0:\n",
    "            seg_test[7] =  0   # cd8\n",
    "        else:\n",
    "            seg_cd8 = np.sum(seg_list[1:k+1], axis=0).sum(0)\n",
    "            seg_test[7] = seg_cd8    # cd8\n",
    "\n",
    "        empty = np.less(np.sum(seg_test, axis=0, keepdims=True), 0.5).astype(np.float32)\n",
    "        seg_test_18 = np.concatenate([seg_test, empty], axis=0)\n",
    "        X_seg_0 = torch.Tensor(seg_test_18).unsqueeze(0).cuda()\n",
    "\n",
    "        fake = netG(noise, X_seg_0).detach().cpu().numpy()[0]\n",
    "        \n",
    "        pk_cur = (fake[0]*seg_tumor).sum()/ seg_tumor.sum()\n",
    " \n",
    "        surface_area.append(seg_cd8.sum())\n",
    "        tumor_expression.append(pk_cur)\n",
    "   #  print(surface_area)#"
   ]
  },
  {
   "cell_type": "code",
   "execution_count": 56,
   "metadata": {},
   "outputs": [
    {
     "name": "stdout",
     "output_type": "stream",
     "text": [
      "slope: -2.898325909410821e-06\n",
      "r-square 0.10972895143658237\n",
      "t-test -13.53346157037662\n",
      "p-value 1.9426405182465423e-39\n"
     ]
    },
    {
     "data": {
      "image/png": "[encoded data removed]",
      "text/plain": [
       "<Figure size 432x288 with 1 Axes>"
      ]
     },
     "metadata": {},
     "output_type": "display_data"
    }
   ],
   "source": [
    "x = np.array(surface_area)\n",
    "y = np.array(tumor_expression)\n",
    "\n",
    "plt.xlabel('Area of Cells')\n",
    "plt.ylabel('Pan-Keratin Expression')\n",
    "plt.scatter(x,y,s=1)\n",
    "\n",
    "\n",
    "from scipy.stats import linregress\n",
    "slope, intercept, r_value, p_value, std_err = linregress(x,y)\n",
    "t = np.arange(0,2500)\n",
    "y_t = slope*t + intercept\n",
    "\n",
    "\n",
    "t_test = r_value*np.sqrt(x.shape[0]-2)/np.sqrt(1-r_value**2)\n",
    "plt.plot(t,y_t,'r')\n",
    "print('slope:', slope)\n",
    "print('r-square', r_value**2)\n",
    "print('t-test', t_test)\n",
    "print('p-value', p_value)\n",
    "plt.xlim(0)\n",
    "plt.ylim(0)\n",
    "plt.show()"
   ]
  },
  {
   "cell_type": "code",
   "execution_count": 57,
   "metadata": {
    "collapsed": true
   },
   "outputs": [],
   "source": [
    "# CD8 Test: Tumor Control\n",
    "noise = 0.5 * torch.randn(1, 128).cuda()\n",
    "total = 0\n",
    "decrease = 0\n",
    "\n",
    "\n",
    "surface_area = []\n",
    "tumor_expression = []\n",
    "\n",
    "for c in range(len(cells_seg_list)):\n",
    "    seg_list = cells_seg_list[c]\n",
    "    real_list = cells_real_list[c]\n",
    "    n_cell = len(seg_list)\n",
    "    \n",
    "    for k in range(1, n_cell):\n",
    "    \n",
    "        seg_tumor = np.sum(seg_list[0], axis=0)\n",
    "        seg_test = np.zeros([17, 64, 64])\n",
    "        seg_test[4] = seg_tumor    # tumor\n",
    "        \n",
    "        seg_cd3 = 0\n",
    "        if k>0:\n",
    "            seg_cd3 = np.sum(seg_list[1:k+1], axis=0).sum(0)\n",
    "            seg_test[4] += seg_cd3    # cd8\n",
    "        \n",
    "        \n",
    "        empty = np.less(np.sum(seg_test, axis=0, keepdims=True), 0.5).astype(np.float32)\n",
    "        seg_test_18 = np.concatenate([seg_test, empty], axis=0)\n",
    "        X_seg_0 = torch.Tensor(seg_test_18).unsqueeze(0).cuda()\n",
    "\n",
    "        fake = netG(noise, X_seg_0).detach().cpu().numpy()[0]\n",
    "        \n",
    "        pk_cur = (fake[0]*seg_tumor).sum() / seg_tumor.sum()\n",
    " \n",
    "        surface_area.append(seg_cd3.sum())\n",
    "        tumor_expression.append(pk_cur)\n",
    "        "
   ]
  },
  {
   "cell_type": "code",
   "execution_count": 58,
   "metadata": {},
   "outputs": [
    {
     "name": "stdout",
     "output_type": "stream",
     "text": [
      "slope: 3.6847662257152924e-07\n",
      "r-square 0.0007456412232028974\n",
      "t-test 1.0530193073717127\n",
      "p-value 0.29250333555170804\n"
     ]
    },
    {
     "data": {
      "image/png": "[encoded data removed]",
      "text/plain": [
       "<Figure size 432x288 with 1 Axes>"
      ]
     },
     "metadata": {},
     "output_type": "display_data"
    }
   ],
   "source": [
    "x = np.array(surface_area)\n",
    "y = np.array(tumor_expression)\n",
    "\n",
    "plt.xlabel('Area of Cells')\n",
    "plt.ylabel('Pan-Keratin Expression')\n",
    "plt.scatter(x,y,s=1)\n",
    "\n",
    "\n",
    "from scipy.stats import linregress\n",
    "slope, intercept, r_value, p_value, std_err = linregress(x,y)\n",
    "t = np.arange(0,2500)\n",
    "y_t = slope*t + intercept\n",
    "\n",
    "\n",
    "t_test = r_value*np.sqrt(x.shape[0]-2)/np.sqrt(1-r_value**2)\n",
    "plt.plot(t,y_t,'r')\n",
    "print('slope:', slope)\n",
    "print('r-square', r_value**2)\n",
    "print('t-test', t_test)\n",
    "print('p-value', p_value)\n",
    "plt.xlim(0)\n",
    "plt.ylim(0)\n",
    "plt.show()"
   ]
  },
  {
   "cell_type": "code",
   "execution_count": 23,
   "metadata": {
    "collapsed": true
   },
   "outputs": [],
   "source": [
    "# CD8 Test\n",
    "noise = 0.5 * torch.randn(1, 128).cuda()\n",
    "total = 0\n",
    "decrease = 0\n",
    "\n",
    "\n",
    "cell_num = []\n",
    "tumor_expression = []\n",
    "\n",
    "for c in range(len(cells_seg_list)):\n",
    "    seg_list = cells_seg_list[c]\n",
    "    real_list = cells_real_list[c]\n",
    "    n_cell = len(seg_list)\n",
    "    \n",
    "    for k in range(1, n_cell):\n",
    "    \n",
    "        seg_tumor = np.sum(seg_list[0], axis=0)\n",
    "        seg_test = np.zeros([17, 64, 64])\n",
    "        seg_test[4] = seg_tumor    # tumor\n",
    "        \n",
    "        \n",
    "        if k == 0:\n",
    "            seg_test[7] =  0   # cd8\n",
    "        else:\n",
    "            seg_cd3 = np.sum(seg_list[1:k+1], axis=0).sum(0)\n",
    "            seg_test[7] = seg_cd3    # cd8\n",
    "\n",
    "        \n",
    "        empty = np.less(np.sum(seg_test, axis=0, keepdims=True), 0.5).astype(np.float32)\n",
    "        seg_test_18 = np.concatenate([seg_test, empty], axis=0)\n",
    "        X_seg_0 = torch.Tensor(seg_test_18).unsqueeze(0).cuda()\n",
    "\n",
    "        fake = netG(noise, X_seg_0).detach().cpu().numpy()[0]\n",
    "        \n",
    "        pk_cur = (fake[0]*seg_tumor).sum()/seg_tumor.sum()\n",
    "        \n",
    "        cell_num.append(k)\n",
    "        tumor_expression.append(pk_cur)\n",
    "        "
   ]
  },
  {
   "cell_type": "code",
   "execution_count": 24,
   "metadata": {
    "collapsed": true
   },
   "outputs": [],
   "source": [
    "n_max = np.max(cell_num)\n",
    "x_mean = np.zeros(n_max)\n",
    "x_std = np.zeros(n_max)\n",
    "for k in range(1, n_max):\n",
    "    exp_k = []\n",
    "    for i in range(len(cell_num)):\n",
    "        if cell_num[i]==k:\n",
    "            # print(k)\n",
    "            exp_k.append(tumor_expression[i])\n",
    "    x_mean[k-1] = np.mean(exp_k)\n",
    "    x_std[k-1] = np.std(exp_k)"
   ]
  },
  {
   "cell_type": "code",
   "execution_count": 29,
   "metadata": {},
   "outputs": [
    {
     "data": {
      "image/png": "[encoded data removed]",
      "text/plain": [
       "<Figure size 432x288 with 1 Axes>"
      ]
     },
     "metadata": {},
     "output_type": "display_data"
    }
   ],
   "source": [
    "t = np.arange(n_max)\n",
    "plt.xlabel('Number of Cells')\n",
    "plt.ylabel('Pan-Keratin Expression')\n",
    "plt.bar(t,x_mean, yerr=x_std, align='center', alpha=0.5, ecolor='black', capsize=5)\n",
    "plt.xlim(-0.5,7.5)\n",
    "plt.show()"
   ]
  },
  {
   "cell_type": "code",
   "execution_count": 30,
   "metadata": {
    "collapsed": true
   },
   "outputs": [],
   "source": [
    "# CD8 Test\n",
    "noise = 0.5 * torch.randn(1, 128).cuda()\n",
    "total = 0\n",
    "decrease = 0\n",
    "\n",
    "\n",
    "cell_num = []\n",
    "tumor_expression = []\n",
    "\n",
    "for c in range(len(cells_seg_list)):\n",
    "    seg_list = cells_seg_list[c]\n",
    "    real_list = cells_real_list[c]\n",
    "    n_cell = len(seg_list)\n",
    "    \n",
    "    for k in range(1, n_cell):\n",
    "    \n",
    "        seg_tumor = np.sum(seg_list[0], axis=0)\n",
    "        seg_test = np.zeros([17, 64, 64])\n",
    "        seg_test[4] = seg_tumor    # tumor\n",
    "        \n",
    "        seg_cd3 = 0\n",
    "        if k>0:\n",
    "            seg_cd3 = np.sum(seg_list[1:k+1], axis=0).sum(0)\n",
    "            seg_test[4] += seg_cd3    # cd8\n",
    "\n",
    "        \n",
    "        empty = np.less(np.sum(seg_test, axis=0, keepdims=True), 0.5).astype(np.float32)\n",
    "        seg_test_18 = np.concatenate([seg_test, empty], axis=0)\n",
    "        X_seg_0 = torch.Tensor(seg_test_18).unsqueeze(0).cuda()\n",
    "\n",
    "        fake = netG(noise, X_seg_0).detach().cpu().numpy()[0]\n",
    "        \n",
    "        pk_cur = (fake[0]*seg_tumor).sum()/seg_tumor.sum()\n",
    "        \n",
    "        cell_num.append(k)\n",
    "        tumor_expression.append(pk_cur)\n",
    "        "
   ]
  },
  {
   "cell_type": "code",
   "execution_count": 31,
   "metadata": {
    "collapsed": true
   },
   "outputs": [],
   "source": [
    "n_max = np.max(cell_num)\n",
    "x_mean = np.zeros(n_max)\n",
    "x_std = np.zeros(n_max)\n",
    "for k in range(1, n_max+1):\n",
    "    exp_k = []\n",
    "    for i in range(len(cell_num)):\n",
    "        if cell_num[i]==k:\n",
    "            # print(k)\n",
    "            exp_k.append(tumor_expression[i])\n",
    "    x_mean[k-1] = np.mean(exp_k)\n",
    "    x_std[k-1] = np.std(exp_k)"
   ]
  },
  {
   "cell_type": "code",
   "execution_count": 32,
   "metadata": {},
   "outputs": [
    {
     "data": {
      "image/png": "[encoded data removed]",
      "text/plain": [
       "<Figure size 432x288 with 1 Axes>"
      ]
     },
     "metadata": {},
     "output_type": "display_data"
    }
   ],
   "source": [
    "t = np.arange(n_max)\n",
    "plt.xlabel('Number of Cells')\n",
    "plt.ylabel('Pan-Keratin Expression')\n",
    "plt.bar(t,x_mean, yerr=x_std, align='center', alpha=0.5, ecolor='black', capsize=5)\n",
    "plt.xlim(-0.5,7.5)\n",
    "plt.show()"
   ]
  },
  {
   "cell_type": "code",
   "execution_count": null,
   "metadata": {
    "collapsed": true
   },
   "outputs": [],
   "source": []
  },
  {
   "cell_type": "markdown",
   "metadata": {},
   "source": [
    "# Center of Mass"
   ]
  },
  {
   "cell_type": "code",
   "execution_count": null,
   "metadata": {
    "collapsed": true
   },
   "outputs": [],
   "source": [
    "cells_seg_list = []\n",
    "cells_real_list = []\n",
    "\n",
    "download_path = './data/cd8_test_c24'\n",
    "filelist = os.listdir(download_path)\n",
    "\n",
    "for i in range(len(filelist)):\n",
    "    patch = download_path + '/cell_' + str(i) + '.npy'\n",
    "    cells_seg_list.append(np.load(patch)[0])\n",
    "    cells_real_list.append(np.load(patch)[1])"
   ]
  },
  {
   "cell_type": "code",
   "execution_count": 33,
   "metadata": {},
   "outputs": [
    {
     "name": "stdout",
     "output_type": "stream",
     "text": [
      "center of mass score: 10.456068327507015\n"
     ]
    }
   ],
   "source": [
    "cm_score = 0\n",
    "\n",
    "for c in range(len(cells_seg_list)):\n",
    "    \n",
    "    seg_list = cells_seg_list[c]\n",
    "    real_list = cells_real_list[c]\n",
    "    n_cell = len(seg_list)\n",
    "    xy = np.mgrid[0:64,0:64]\n",
    "    noise = 0.5 * torch.randn(1, 128).cuda()\n",
    "    \n",
    "    # seg_test = 0\n",
    "    seg_test = np.sum(seg_list, axis=0)\n",
    "    empty = np.less(np.sum(seg_test, axis=0, keepdims=True), 0.5).astype(np.float32)\n",
    "    seg_test_18 = np.concatenate([seg_test, empty], axis=0)\n",
    "    X_seg_0 = torch.Tensor(seg_test_18).unsqueeze(0).cuda()\n",
    "    \n",
    "    \n",
    "    fake = netG(noise, X_seg_0).detach().cpu().numpy()[0]\n",
    "        \n",
    "    fake_tcell = fake * seg_list[0].sum(axis=0)    # only consider the expression in T cells\n",
    "    fake_tumor = fake * (seg_test-seg_list[0]).sum(axis=0)    # only consider the expression in tumor cells\n",
    "\n",
    "    cm_tumor_y = (xy[0]*fake_tumor).sum(axis=(1,2)) / (fake_tumor.sum(axis=(1,2))+1e-15)\n",
    "    cm_tumor_x = (xy[1]*fake_tumor).sum(axis=(1,2)) / (fake_tumor.sum(axis=(1,2))+1e-15)\n",
    "    cm_tumor = np.array([cm_tumor_x, cm_tumor_y])\n",
    "    \n",
    "    tcell_mask = seg_list[0].sum(axis=0)\n",
    "    tcell_seg = np.array(np.where(tcell_mask==1))\n",
    "    dist = np.linalg.norm(tcell_seg - cm_tumor[:, 19:20], axis=0)\n",
    "    cm_idx = np.argmin(dist)\n",
    "    cm_tumor_incell = tcell_seg[:, cm_idx]\n",
    "    \n",
    "    \n",
    "    cm_tcell_y = (xy[0]*fake_tcell).sum(axis=(1,2)) / (fake_tcell.sum(axis=(1,2))+1e-15)\n",
    "    cm_tcell_x = (xy[1]*fake_tcell).sum(axis=(1,2)) / (fake_tcell.sum(axis=(1,2))+1e-15)\n",
    "    cm_tcell = np.array([cm_tcell_x, cm_tcell_y])\n",
    "\n",
    "    \n",
    "    cm_score += np.linalg.norm(cm_tcell[:,18] - cm_tumor_incell[:], ord=2)\n",
    "    # cm_score += np.linalg.norm(cm_tcell[:,19] - cm_tumor[:,20], ord=2)\n",
    "    \n",
    "print('center of mass score:', cm_score / len(cells_seg_list))"
   ]
  },
  {
   "cell_type": "markdown",
   "metadata": {},
   "source": [
    "# Random COM"
   ]
  },
  {
   "cell_type": "code",
   "execution_count": null,
   "metadata": {
    "collapsed": true
   },
   "outputs": [],
   "source": [
    "cm_score = 0\n",
    "\n",
    "for c in range(len(cells_seg_list)):\n",
    "    \n",
    "    seg_list = cells_seg_list[c]\n",
    "    real_list = cells_real_list[c]\n",
    "    n_cell = len(seg_list)\n",
    "    xy = np.mgrid[0:64,0:64]\n",
    "    noise = 0.5 * torch.randn(1, 128).cuda()\n",
    "    \n",
    "    # seg_test = 0\n",
    "    seg_test = np.sum(seg_list, axis=0)\n",
    "    empty = np.less(np.sum(seg_test, axis=0, keepdims=True), 0.5).astype(np.float32)\n",
    "    seg_test_18 = np.concatenate([seg_test, empty], axis=0)\n",
    "    X_seg_0 = torch.Tensor(seg_test_18).unsqueeze(0).cuda()\n",
    "    \n",
    "    \n",
    "    fake = netG(noise, X_seg_0).detach().cpu().numpy()[0]\n",
    "        \n",
    "    fake_tcell = fake * seg_list[0].sum(axis=0)    # only consider the expression in T cells\n",
    "    fake_tumor = fake * (seg_test-seg_list[0]).sum(axis=0)    # only consider the expression in tumor cells\n",
    "\n",
    "    cm_tumor_y = (xy[0]*fake_tumor).sum(axis=(1,2)) / (fake_tumor.sum(axis=(1,2))+1e-15)\n",
    "    cm_tumor_x = (xy[1]*fake_tumor).sum(axis=(1,2)) / (fake_tumor.sum(axis=(1,2))+1e-15)\n",
    "    cm_tumor = np.array([cm_tumor_x, cm_tumor_y])\n",
    "    \n",
    "    tcell_mask = seg_list[0].sum(axis=0)\n",
    "    tcell_seg = np.array(np.where(tcell_mask==1))\n",
    "    dist = np.linalg.norm(tcell_seg - cm_tumor[:, 19:20], axis=0)\n",
    "    cm_idx = np.argmin(dist)\n",
    "    cm_tumor_incell = tcell_seg[:, cm_idx]\n",
    "    \n",
    "    \n",
    "    indices = np.where(tcell_mask > 0)\n",
    "    upper = len(indices[0])\n",
    "    idx_rand = np.random.randint(upper)\n",
    "    cm_tcell_x = indices[0][idx_rand]\n",
    "    cm_tcell_y = indices[1][idx_rand]\n",
    "    \n",
    "    cm_tcell = np.array([cm_tcell_x, cm_tcell_y])\n",
    "\n",
    "    # cm_tcell_y = (xy[0]*fake_tcell).sum(axis=(1,2)) / (fake_tcell.sum(axis=(1,2))+1e-15)\n",
    "    # cm_tcell_x = (xy[1]*fake_tcell).sum(axis=(1,2)) / (fake_tcell.sum(axis=(1,2))+1e-15)\n",
    "    # cm_tcell = np.array([cm_tcell_x, cm_tcell_y])\n",
    "\n",
    "    \n",
    "    cm_score += np.linalg.norm(cm_tcell[:] - cm_tumor_incell[:], ord=2)\n",
    "    # cm_score += np.linalg.norm(cm_tcell[:,19] - cm_tumor[:,20], ord=2)\n",
    "    \n",
    "print('center of mass score:', cm_score / len(cells_seg_list))"
   ]
  },
  {
   "cell_type": "markdown",
   "metadata": {},
   "source": [
    "# EM Distance"
   ]
  },
  {
   "cell_type": "code",
   "execution_count": 12,
   "metadata": {
    "collapsed": true
   },
   "outputs": [],
   "source": [
    "from scipy.stats import wasserstein_distance\n",
    "\n",
    "def cart2pol(x, y):\n",
    "    rho = np.sqrt(x**2 + y**2)\n",
    "    phi = np.arctan2(y, x)\n",
    "    if phi < 0:\n",
    "        phi = 2*np.pi + phi\n",
    "        \n",
    "    return (rho, phi)\n",
    "\n",
    "\n",
    "def compute_histogram(img, divider=30, size = 64, offset=32):\n",
    "\n",
    "    histogram = np.zeros([divider])\n",
    "\n",
    "    for i in range(size):\n",
    "        for j in range(size):\n",
    "            x = j - offset\n",
    "            y = offset - i\n",
    "            \n",
    "            rho, phi = cart2pol(x,y)\n",
    "            # normalize to [0,divider]\n",
    "            degree = divider * phi/(2*np.pi) \n",
    "            index = int(np.floor(degree))\n",
    "            histogram[index] += img[i,j]\n",
    "            \n",
    "    return histogram"
   ]
  },
  {
   "cell_type": "markdown",
   "metadata": {},
   "source": [
    "# EMD score"
   ]
  },
  {
   "cell_type": "code",
   "execution_count": 16,
   "metadata": {},
   "outputs": [
    {
     "name": "stdout",
     "output_type": "stream",
     "text": [
      "Direction: right:897, wrong:591, total:1488\n",
      "em_score:151.56458221164277\n"
     ]
    }
   ],
   "source": [
    "# EM score threshold\n",
    "em_score = 0\n",
    "direct_right = 0\n",
    "direct_wrong = 0\n",
    "direct_all = 0\n",
    "\n",
    "for c in range(len(cells_seg_list)):\n",
    "\n",
    "    \n",
    "    seg_list = cells_seg_list[c]\n",
    "    real_list = cells_real_list[c]\n",
    "    n_cell = len(seg_list)\n",
    "    noise = 0.5 * torch.randn(1, 128).cuda()\n",
    "    \n",
    "    seg_test = 0\n",
    "    xy = np.mgrid[0:64,0:64]\n",
    "    centroids_seg = []\n",
    "    centroids_tcell = []\n",
    "    centroids_tumor = []\n",
    "    express_tcell = []\n",
    "    for i in range(n_cell):\n",
    "\n",
    "        # non-weighted centroid of segmentation\n",
    "        cy = np.where(seg_list[i]==1)[1].mean()\n",
    "        cx = np.where(seg_list[i]==1)[2].mean()\n",
    "        centroids_seg.append(np.array([cx, cy]))\n",
    "\n",
    "        # weighted centroid of T cells\n",
    "        seg_test += seg_list[i]\n",
    "        empty = np.less(np.sum(seg_test, axis=0, keepdims=True), 0.5).astype(np.float32)\n",
    "        seg_test_18 = np.concatenate([seg_test, empty], axis=0)\n",
    "        X_seg_0 = torch.Tensor(seg_test_18).unsqueeze(0).cuda()\n",
    "        \n",
    "        fake = netG(noise, X_seg_0).detach().cpu().numpy()[0]\n",
    "        \n",
    "        fake_tcell = fake * seg_list[0].sum(axis=0)    # only consider the expression in T cells\n",
    "        fake_tumor = fake * seg_list[i].sum(axis=0)    # only consider the expression in tumor cells\n",
    "        # fake_tumor = fake * (seg_test-seg_list[0]).sum(axis=0)\n",
    "        histo_cur = compute_histogram(fake_tcell[18])\n",
    "        \n",
    "        # weighted centroid of T cells\n",
    "        cy_all = (xy[0]*fake_tcell).sum(axis=(1,2)) / (fake_tcell.sum(axis=(1,2))+1e-15)\n",
    "        cx_all = (xy[1]*fake_tcell).sum(axis=(1,2)) / (fake_tcell.sum(axis=(1,2))+1e-15)\n",
    "        centroids_tcell.append(np.array([cx_all, cy_all]))\n",
    "\n",
    "        \n",
    "        # weighted centroid of tumor cells\n",
    "        cy_all = (xy[0]*fake_tumor).sum(axis=(1,2)) / (fake_tumor.sum(axis=(1,2))+1e-15)\n",
    "        cx_all = (xy[1]*fake_tumor).sum(axis=(1,2)) / (fake_tumor.sum(axis=(1,2))+1e-15)\n",
    "        centroids_tumor.append(np.array([cx_all, cy_all]))\n",
    "        \n",
    "        # print(fake_tumor[19].sum())\n",
    "        \n",
    "        if i > 0 and fake_tumor[19].sum() > 1e-4:\n",
    "            \n",
    "            direct_all += 1\n",
    "            # the previous angle\n",
    "            \n",
    "            v1 = (centroids_tumor[i][:,19] - centroids_seg[0])    # previous centroid of T cell            \n",
    "            v2 = (centroids_tcell[i][:,18] - centroids_tcell[i-1][:,18])    # current centroid of T cell\n",
    "            \n",
    "            if i == 1: # no work so much\n",
    "                v2 = (centroids_tcell[i][:,18] - centroids_seg[0])\n",
    "                \n",
    "            cos_theta = np.dot(v1,v2)/np.linalg.norm(v1)/np.linalg.norm(v2)\n",
    "            \n",
    "            em_dist = wasserstein_distance(histo_cur, histo_pre)\n",
    "            \n",
    "            \n",
    "            if cos_theta > 0:\n",
    "                direct_right += 1\n",
    "                \n",
    "            elif cos_theta < 0:\n",
    "                direct_wrong += 1\n",
    "                \n",
    "            if cos_theta > 0 and histo_cur.sum() > histo_pre.sum():   # threshold the theta / check the expression level\n",
    "                em_score +=  np.linalg.norm(v2) * em_dist\n",
    "                \n",
    "            elif cos_theta < 0:\n",
    "                em_score -= np.linalg.norm(v2) * em_dist\n",
    "        \n",
    "        histo_pre = histo_cur.copy()  \n",
    "        \n",
    "print(\"Direction: right:{}, wrong:{}, total:{}\".format(direct_right, direct_wrong, direct_all))\n",
    "\n",
    "print(\"em_score:{}\".format(em_score))"
   ]
  },
  {
   "cell_type": "markdown",
   "metadata": {},
   "source": [
    "# Positive EMD score"
   ]
  },
  {
   "cell_type": "code",
   "execution_count": 27,
   "metadata": {},
   "outputs": [
    {
     "name": "stdout",
     "output_type": "stream",
     "text": [
      "Direction: right:900, wrong:588, total:1488\n",
      "em_score:278.3751922089376\n"
     ]
    }
   ],
   "source": [
    "# EM score threshold\n",
    "em_score = 0\n",
    "direct_right = 0\n",
    "direct_wrong = 0\n",
    "direct_all = 0\n",
    "\n",
    "for c in range(len(cells_seg_list)):\n",
    "\n",
    "    \n",
    "    seg_list = cells_seg_list[c]\n",
    "    real_list = cells_real_list[c]\n",
    "    n_cell = len(seg_list)\n",
    "    noise = 0.5 * torch.randn(1, 128).cuda()\n",
    "    \n",
    "    seg_test = 0\n",
    "    xy = np.mgrid[0:64,0:64]\n",
    "    centroids_seg = []\n",
    "    centroids_tcell = []\n",
    "    centroids_tumor = []\n",
    "    express_tcell = []\n",
    "    for i in range(n_cell):\n",
    "\n",
    "        # non-weighted centroid of segmentation\n",
    "        cy = np.where(seg_list[i]==1)[1].mean()\n",
    "        cx = np.where(seg_list[i]==1)[2].mean()\n",
    "        centroids_seg.append(np.array([cx, cy]))\n",
    "\n",
    "        # weighted centroid of T cells\n",
    "        seg_test += seg_list[i]\n",
    "        empty = np.less(np.sum(seg_test, axis=0, keepdims=True), 0.5).astype(np.float32)\n",
    "        seg_test_18 = np.concatenate([seg_test, empty], axis=0)\n",
    "        X_seg_0 = torch.Tensor(seg_test_18).unsqueeze(0).cuda()\n",
    "        \n",
    "        fake = netG(noise, X_seg_0).detach().cpu().numpy()[0]\n",
    "        \n",
    "        fake_tcell = fake * seg_list[0].sum(axis=0)    # only consider the expression in T cells\n",
    "        fake_tumor = fake * seg_list[i].sum(axis=0)    # only consider the expression in tumor cells\n",
    "        # fake_tumor = fake * (seg_test-seg_list[0]).sum(axis=0)\n",
    "        histo_cur = compute_histogram(fake_tcell[18])\n",
    "        \n",
    "        # weighted centroid of T cells\n",
    "        cy_all = (xy[0]*fake_tcell).sum(axis=(1,2)) / (fake_tcell.sum(axis=(1,2))+1e-15)\n",
    "        cx_all = (xy[1]*fake_tcell).sum(axis=(1,2)) / (fake_tcell.sum(axis=(1,2))+1e-15)\n",
    "        centroids_tcell.append(np.array([cx_all, cy_all]))\n",
    "\n",
    "        \n",
    "        # weighted centroid of tumor cells\n",
    "        cy_all = (xy[0]*fake_tumor).sum(axis=(1,2)) / (fake_tumor.sum(axis=(1,2))+1e-15)\n",
    "        cx_all = (xy[1]*fake_tumor).sum(axis=(1,2)) / (fake_tumor.sum(axis=(1,2))+1e-15)\n",
    "        centroids_tumor.append(np.array([cx_all, cy_all]))\n",
    "        \n",
    "        # print(fake_tumor[19].sum())\n",
    "        \n",
    "        if i > 0 and fake_tumor[19].sum() > 1e-4:\n",
    "            \n",
    "            direct_all += 1\n",
    "            # the previous angle\n",
    "            \n",
    "            v1 = (centroids_tumor[i][:,19] - centroids_seg[0])    # previous centroid of T cell            \n",
    "            v2 = (centroids_tcell[i][:,18] - centroids_tcell[i-1][:,18])    # current centroid of T cell\n",
    "            \n",
    "            if i == 1: # no work so much\n",
    "                v2 = (centroids_tcell[i][:,18] - centroids_seg[0])\n",
    "                \n",
    "            cos_theta = np.dot(v1,v2)/np.linalg.norm(v1)/np.linalg.norm(v2)\n",
    "            \n",
    "            em_dist = wasserstein_distance(histo_cur, histo_pre)\n",
    "            \n",
    "            \n",
    "            if cos_theta > 0:\n",
    "                direct_right += 1\n",
    "                \n",
    "            elif cos_theta < 0:\n",
    "                direct_wrong += 1\n",
    "                \n",
    "            if cos_theta > 0 and histo_cur.sum() > histo_pre.sum():   # threshold the theta / check the expression level\n",
    "                em_score += np.linalg.norm(v2) * em_dist\n",
    "                \n",
    "            # elif cos_theta < 0:\n",
    "            #     em_score -= np.linalg.norm(v2) * em_dist\n",
    "        \n",
    "        histo_pre = histo_cur.copy()  \n",
    "        \n",
    "print(\"Direction: right:{}, wrong:{}, total:{}\".format(direct_right, direct_wrong, direct_all))\n",
    "\n",
    "print(\"em_score:{}\".format(em_score))"
   ]
  },
  {
   "cell_type": "markdown",
   "metadata": {},
   "source": [
    "# Projected EMD score"
   ]
  },
  {
   "cell_type": "code",
   "execution_count": 29,
   "metadata": {},
   "outputs": [
    {
     "name": "stdout",
     "output_type": "stream",
     "text": [
      "Direction: right:893, wrong:595, total:1488\n",
      "em_score:115.77325869471024\n"
     ]
    }
   ],
   "source": [
    "# EM score threshold\n",
    "em_score = 0\n",
    "direct_right = 0\n",
    "direct_wrong = 0\n",
    "direct_all = 0\n",
    "\n",
    "for c in range(len(cells_seg_list)):\n",
    "\n",
    "    \n",
    "    seg_list = cells_seg_list[c]\n",
    "    real_list = cells_real_list[c]\n",
    "    n_cell = len(seg_list)\n",
    "    noise = 0.5 * torch.randn(1, 128).cuda()\n",
    "    \n",
    "    seg_test = 0\n",
    "    xy = np.mgrid[0:64,0:64]\n",
    "    centroids_seg = []\n",
    "    centroids_tcell = []\n",
    "    centroids_tumor = []\n",
    "    express_tcell = []\n",
    "    for i in range(n_cell):\n",
    "\n",
    "        # non-weighted centroid of segmentation\n",
    "        cy = np.where(seg_list[i]==1)[1].mean()\n",
    "        cx = np.where(seg_list[i]==1)[2].mean()\n",
    "        centroids_seg.append(np.array([cx, cy]))\n",
    "\n",
    "        # weighted centroid of T cells\n",
    "        seg_test += seg_list[i]\n",
    "        empty = np.less(np.sum(seg_test, axis=0, keepdims=True), 0.5).astype(np.float32)\n",
    "        seg_test_18 = np.concatenate([seg_test, empty], axis=0)\n",
    "        X_seg_0 = torch.Tensor(seg_test_18).unsqueeze(0).cuda()\n",
    "        \n",
    "        fake = netG(noise, X_seg_0).detach().cpu().numpy()[0]\n",
    "        \n",
    "        fake_tcell = fake * seg_list[0].sum(axis=0)    # only consider the expression in T cells\n",
    "        fake_tumor = fake * seg_list[i].sum(axis=0)    # only consider the expression in tumor cells\n",
    "        # fake_tumor = fake * (seg_test-seg_list[0]).sum(axis=0)\n",
    "        histo_cur = compute_histogram(fake_tcell[18])\n",
    "        \n",
    "        # weighted centroid of T cells\n",
    "        cy_all = (xy[0]*fake_tcell).sum(axis=(1,2)) / (fake_tcell.sum(axis=(1,2))+1e-15)\n",
    "        cx_all = (xy[1]*fake_tcell).sum(axis=(1,2)) / (fake_tcell.sum(axis=(1,2))+1e-15)\n",
    "        centroids_tcell.append(np.array([cx_all, cy_all]))\n",
    "\n",
    "        \n",
    "        # weighted centroid of tumor cells\n",
    "        cy_all = (xy[0]*fake_tumor).sum(axis=(1,2)) / (fake_tumor.sum(axis=(1,2))+1e-15)\n",
    "        cx_all = (xy[1]*fake_tumor).sum(axis=(1,2)) / (fake_tumor.sum(axis=(1,2))+1e-15)\n",
    "        centroids_tumor.append(np.array([cx_all, cy_all]))\n",
    "        \n",
    "        # print(fake_tumor[19].sum())\n",
    "        \n",
    "        if i > 0 and fake_tumor[19].sum() > 1e-4:\n",
    "            \n",
    "            direct_all += 1\n",
    "            # the previous angle\n",
    "            \n",
    "            v1 = (centroids_tumor[i][:,19] - centroids_seg[0])    # previous centroid of T cell            \n",
    "            v2 = (centroids_tcell[i][:,18] - centroids_tcell[i-1][:,18])    # current centroid of T cell\n",
    "            \n",
    "            if i == 1: # no work so much\n",
    "                v2 = (centroids_tcell[i][:,18] - centroids_seg[0])\n",
    "                \n",
    "            cos_theta = np.dot(v1,v2)/np.linalg.norm(v1)/np.linalg.norm(v2)\n",
    "            \n",
    "            em_dist = wasserstein_distance(histo_cur, histo_pre)\n",
    "            \n",
    "            \n",
    "            if cos_theta > 0:\n",
    "                direct_right += 1\n",
    "                \n",
    "            elif cos_theta < 0:\n",
    "                direct_wrong += 1\n",
    "                \n",
    "            if cos_theta > 0 and histo_cur.sum() > histo_pre.sum():   # threshold the theta / check the expression level\n",
    "                em_score += cos_theta * np.linalg.norm(v2) * em_dist\n",
    "                \n",
    "            elif cos_theta < 0:\n",
    "                em_score += cos_theta * np.linalg.norm(v2) * em_dist\n",
    "        \n",
    "        histo_pre = histo_cur.copy()  \n",
    "        \n",
    "print(\"Direction: right:{}, wrong:{}, total:{}\".format(direct_right, direct_wrong, direct_all))\n",
    "\n",
    "print(\"em_score:{}\".format(em_score))"
   ]
  },
  {
   "cell_type": "code",
   "execution_count": null,
   "metadata": {
    "collapsed": true
   },
   "outputs": [],
   "source": []
  },
  {
   "cell_type": "markdown",
   "metadata": {},
   "source": [
    "# Control EMD score"
   ]
  },
  {
   "cell_type": "code",
   "execution_count": 17,
   "metadata": {},
   "outputs": [
    {
     "name": "stdout",
     "output_type": "stream",
     "text": [
      "Direction: right:908, wrong:578, total:1486\n",
      "em_score:-22.682939554136983\n"
     ]
    }
   ],
   "source": [
    "# EM score threshold\n",
    "em_score = 0\n",
    "direct_right = 0\n",
    "direct_wrong = 0\n",
    "direct_all = 0\n",
    "\n",
    "for c in range(len(cells_seg_list)):\n",
    "\n",
    "    \n",
    "    seg_list = cells_seg_list[c]\n",
    "    real_list = cells_real_list[c]\n",
    "    n_cell = len(seg_list)\n",
    "    noise = 0.5 * torch.randn(1, 128).cuda()\n",
    "    \n",
    "    seg_test = 0\n",
    "    xy = np.mgrid[0:64,0:64]\n",
    "    centroids_seg = []\n",
    "    centroids_tcell = []\n",
    "    centroids_tumor = []\n",
    "    express_tcell = []\n",
    "    for i in range(n_cell):\n",
    "\n",
    "        # non-weighted centroid of segmentation\n",
    "        cy = np.where(seg_list[i]==1)[1].mean()\n",
    "        cx = np.where(seg_list[i]==1)[2].mean()\n",
    "        centroids_seg.append(np.array([cx, cy]))\n",
    "\n",
    "        # weighted centroid of T cells\n",
    "        seg_test += seg_list[i]\n",
    "        empty = np.less(np.sum(seg_test, axis=0, keepdims=True), 0.5).astype(np.float32)\n",
    "        seg_test_18 = np.concatenate([seg_test, empty], axis=0)\n",
    "        X_seg_0 = torch.Tensor(seg_test_18).unsqueeze(0).cuda()\n",
    "        X_seg_0[0,1] = X_seg_0[0,4].clone()\n",
    "        X_seg_0[0,4] = 0\n",
    "        \n",
    "        fake = netG(noise, X_seg_0).detach().cpu().numpy()[0]\n",
    "        \n",
    "        fake_tcell = fake * seg_list[0].sum(axis=0)    # only consider the expression in T cells\n",
    "        fake_tumor = fake * seg_list[i].sum(axis=0)    # only consider the expression in tumor cells\n",
    "        # fake_tumor = fake * (seg_test-seg_list[0]).sum(axis=0)\n",
    "        \n",
    "        \n",
    "        \n",
    "        histo_cur = compute_histogram(fake_tcell[18])\n",
    "        \n",
    "        # weighted centroid of T cells\n",
    "        cy_all = (xy[0]*fake_tcell).sum(axis=(1,2)) / (fake_tcell.sum(axis=(1,2))+1e-15)\n",
    "        cx_all = (xy[1]*fake_tcell).sum(axis=(1,2)) / (fake_tcell.sum(axis=(1,2))+1e-15)\n",
    "        centroids_tcell.append(np.array([cx_all, cy_all]))\n",
    "\n",
    "        \n",
    "        # weighted centroid of tumor cells\n",
    "        cy_all = (xy[0]*fake_tumor).sum(axis=(1,2)) / (fake_tumor.sum(axis=(1,2))+1e-15)\n",
    "        cx_all = (xy[1]*fake_tumor).sum(axis=(1,2)) / (fake_tumor.sum(axis=(1,2))+1e-15)\n",
    "        centroids_tumor.append(np.array([cx_all, cy_all]))\n",
    "        \n",
    "        # print(fake_tumor[19].sum())\n",
    "        \n",
    "        if i > 0 and fake_tumor[19].sum() > 1e-4:\n",
    "            \n",
    "            direct_all += 1\n",
    "            # the previous angle\n",
    "            \n",
    "            v1 = (centroids_tumor[i][:,19] - centroids_seg[0])    # previous centroid of T cell            \n",
    "            v2 = (centroids_tcell[i][:,18] - centroids_tcell[i-1][:,18])    # current centroid of T cell\n",
    "            \n",
    "            if i == 1: # no work so much\n",
    "                v2 = (centroids_tcell[i][:,18] - centroids_seg[0])\n",
    "                \n",
    "            cos_theta = np.dot(v1,v2)/np.linalg.norm(v1)/np.linalg.norm(v2)\n",
    "            \n",
    "            em_dist = wasserstein_distance(histo_cur, histo_pre)\n",
    "            \n",
    "            \n",
    "            if cos_theta > 0:\n",
    "                direct_right += 1\n",
    "                \n",
    "            elif cos_theta < 0:\n",
    "                direct_wrong += 1\n",
    "                \n",
    "            if cos_theta > 0 and histo_cur.sum() > histo_pre.sum():   # threshold the theta / check the expression level\n",
    "                em_score += np.linalg.norm(v2) * em_dist\n",
    "                \n",
    "            elif cos_theta < 0:\n",
    "                em_score -= np.linalg.norm(v2) * em_dist\n",
    "            \n",
    "        histo_pre = histo_cur.copy()\n",
    "        \n",
    "print(\"Direction: right:{}, wrong:{}, total:{}\".format(direct_right, direct_wrong, direct_all))\n",
    "    \n",
    "print(\"em_score:{}\".format(em_score))"
   ]
  },
  {
   "cell_type": "markdown",
   "metadata": {},
   "source": [
    "# Control Positive EMD score"
   ]
  },
  {
   "cell_type": "code",
   "execution_count": 18,
   "metadata": {},
   "outputs": [
    {
     "name": "stdout",
     "output_type": "stream",
     "text": [
      "Direction: right:894, wrong:592, total:1486\n",
      "em_score:35.92241233849195\n"
     ]
    }
   ],
   "source": [
    "# EM score threshold\n",
    "em_score = 0\n",
    "direct_right = 0\n",
    "direct_wrong = 0\n",
    "direct_all = 0\n",
    "\n",
    "for c in range(len(cells_seg_list)):\n",
    "\n",
    "    \n",
    "    seg_list = cells_seg_list[c]\n",
    "    real_list = cells_real_list[c]\n",
    "    n_cell = len(seg_list)\n",
    "    noise = 0.5 * torch.randn(1, 128).cuda()\n",
    "    \n",
    "    seg_test = 0\n",
    "    xy = np.mgrid[0:64,0:64]\n",
    "    centroids_seg = []\n",
    "    centroids_tcell = []\n",
    "    centroids_tumor = []\n",
    "    express_tcell = []\n",
    "    for i in range(n_cell):\n",
    "\n",
    "        # non-weighted centroid of segmentation\n",
    "        cy = np.where(seg_list[i]==1)[1].mean()\n",
    "        cx = np.where(seg_list[i]==1)[2].mean()\n",
    "        centroids_seg.append(np.array([cx, cy]))\n",
    "\n",
    "        # weighted centroid of T cells\n",
    "        seg_test += seg_list[i]\n",
    "        empty = np.less(np.sum(seg_test, axis=0, keepdims=True), 0.5).astype(np.float32)\n",
    "        seg_test_18 = np.concatenate([seg_test, empty], axis=0)\n",
    "        X_seg_0 = torch.Tensor(seg_test_18).unsqueeze(0).cuda()\n",
    "        X_seg_0[0,1] = X_seg_0[0,4].clone()\n",
    "        X_seg_0[0,4] = 0\n",
    "        \n",
    "        fake = netG(noise, X_seg_0).detach().cpu().numpy()[0]\n",
    "        \n",
    "        fake_tcell = fake * seg_list[0].sum(axis=0)    # only consider the expression in T cells\n",
    "        fake_tumor = fake * seg_list[i].sum(axis=0)    # only consider the expression in tumor cells\n",
    "        # fake_tumor = fake * (seg_test-seg_list[0]).sum(axis=0)\n",
    "        \n",
    "        \n",
    "        \n",
    "        histo_cur = compute_histogram(fake_tcell[18])\n",
    "        \n",
    "        # weighted centroid of T cells\n",
    "        cy_all = (xy[0]*fake_tcell).sum(axis=(1,2)) / (fake_tcell.sum(axis=(1,2))+1e-15)\n",
    "        cx_all = (xy[1]*fake_tcell).sum(axis=(1,2)) / (fake_tcell.sum(axis=(1,2))+1e-15)\n",
    "        centroids_tcell.append(np.array([cx_all, cy_all]))\n",
    "\n",
    "        \n",
    "        # weighted centroid of tumor cells\n",
    "        cy_all = (xy[0]*fake_tumor).sum(axis=(1,2)) / (fake_tumor.sum(axis=(1,2))+1e-15)\n",
    "        cx_all = (xy[1]*fake_tumor).sum(axis=(1,2)) / (fake_tumor.sum(axis=(1,2))+1e-15)\n",
    "        centroids_tumor.append(np.array([cx_all, cy_all]))\n",
    "        \n",
    "        # print(fake_tumor[19].sum())\n",
    "        \n",
    "        if i > 0 and fake_tumor[19].sum() > 1e-4:\n",
    "            \n",
    "            direct_all += 1\n",
    "            # the previous angle\n",
    "            \n",
    "            v1 = (centroids_tumor[i][:,19] - centroids_seg[0])    # previous centroid of T cell            \n",
    "            v2 = (centroids_tcell[i][:,18] - centroids_tcell[i-1][:,18])    # current centroid of T cell\n",
    "            \n",
    "            if i == 1: # no work so much\n",
    "                v2 = (centroids_tcell[i][:,18] - centroids_seg[0])\n",
    "                \n",
    "            cos_theta = np.dot(v1,v2)/np.linalg.norm(v1)/np.linalg.norm(v2)\n",
    "            \n",
    "            em_dist = wasserstein_distance(histo_cur, histo_pre)\n",
    "            \n",
    "            \n",
    "            if cos_theta > 0:\n",
    "                direct_right += 1\n",
    "                \n",
    "            elif cos_theta < 0:\n",
    "                direct_wrong += 1\n",
    "                \n",
    "            if cos_theta > 0 and histo_cur.sum() > histo_pre.sum():   # threshold the theta / check the expression level\n",
    "                em_score += np.linalg.norm(v2) * em_dist\n",
    "                \n",
    "            # elif cos_theta < 0:\n",
    "            #     em_score -= np.linalg.norm(v2) * em_dist\n",
    "            \n",
    "        histo_pre = histo_cur.copy()\n",
    "        \n",
    "print(\"Direction: right:{}, wrong:{}, total:{}\".format(direct_right, direct_wrong, direct_all))\n",
    "    \n",
    "print(\"em_score:{}\".format(em_score))"
   ]
  },
  {
   "cell_type": "markdown",
   "metadata": {},
   "source": [
    "# Random EMD score"
   ]
  },
  {
   "cell_type": "code",
   "execution_count": 14,
   "metadata": {},
   "outputs": [
    {
     "name": "stderr",
     "output_type": "stream",
     "text": [
      "/home/ubuntu/anaconda3/lib/python3.6/site-packages/ipykernel_launcher.py:82: RuntimeWarning: invalid value encountered in double_scalars\n"
     ]
    },
    {
     "name": "stdout",
     "output_type": "stream",
     "text": [
      "Direction: right:741, wrong:742, total:1486\n",
      "em_score:-123.42988756358535\n"
     ]
    }
   ],
   "source": [
    "# EM score threshold\n",
    "em_score = 0\n",
    "direct_right = 0\n",
    "direct_wrong = 0\n",
    "direct_all = 0\n",
    "\n",
    "for c in range(len(cells_seg_list)):\n",
    "    \n",
    "    seg_list = cells_seg_list[c]\n",
    "    real_list = cells_real_list[c]\n",
    "    n_cell = len(seg_list)\n",
    "    noise = 0.5 * torch.randn(1, 128).cuda()\n",
    "    \n",
    "    seg_test = 0\n",
    "    xy = np.mgrid[0:64,0:64]\n",
    "    centroids_seg = []\n",
    "    centroids_tcell = []\n",
    "    centroids_tumor = []\n",
    "    express_tcell = []\n",
    "    for i in range(n_cell):\n",
    "\n",
    "        # non-weighted centroid of segmentation\n",
    "        cy = np.where(seg_list[i]==1)[1].mean()\n",
    "        cx = np.where(seg_list[i]==1)[2].mean()\n",
    "        centroids_seg.append(np.array([cx, cy]))\n",
    "\n",
    "        # weighted centroid of T cells\n",
    "        seg_test += seg_list[i]\n",
    "        empty = np.less(np.sum(seg_test, axis=0, keepdims=True), 0.5).astype(np.float32)\n",
    "        seg_test_18 = np.concatenate([seg_test, empty], axis=0)\n",
    "        X_seg_0 = torch.Tensor(seg_test_18).unsqueeze(0).cuda()\n",
    "        X_seg_0[0,1] = X_seg_0[0,4].clone()\n",
    "        X_seg_0[0,4] = 0\n",
    "        \n",
    "        fake = netG(noise, X_seg_0).detach().cpu().numpy()[0]\n",
    "        \n",
    "        fake_tcell = fake * seg_list[0].sum(axis=0)    # only consider the expression in T cells\n",
    "        fake_tumor = fake * seg_list[i].sum(axis=0)    # only consider the expression in tumor cells\n",
    "        # fake_tumor = fake * (seg_test-seg_list[0]).sum(axis=0)\n",
    "        tcell_mask = seg_list[0].sum(axis=0)\n",
    "        \n",
    "        histo_cur = compute_histogram(fake_tcell[18])\n",
    "        \n",
    "        # weighted centroid of T cells\n",
    "        \n",
    "        indices = np.where(tcell_mask > 0)\n",
    "        upper = len(indices[0])\n",
    "        idx_rand = np.random.randint(upper)\n",
    "        cm_tcell_x = indices[0][idx_rand]\n",
    "        cm_tcell_y = indices[1][idx_rand]\n",
    "        \n",
    "        centroids_tcell.append(np.array([cm_tcell_x, cm_tcell_y]))\n",
    "        \n",
    "        \n",
    "        histo_cur = compute_histogram(fake_tcell[18])\n",
    "        \n",
    "        # weighted centroid of T cells\n",
    "        # cy_all = (xy[0]*fake_tcell).sum(axis=(1,2)) / (fake_tcell.sum(axis=(1,2))+1e-15)\n",
    "        # cx_all = (xy[1]*fake_tcell).sum(axis=(1,2)) / (fake_tcell.sum(axis=(1,2))+1e-15)\n",
    "        # centroids_tcell.append(np.array([cx_all, cy_all]))\n",
    "\n",
    "        \n",
    "        # weighted centroid of tumor cells\n",
    "        cy_all = (xy[0]*fake_tumor).sum(axis=(1,2)) / (fake_tumor.sum(axis=(1,2))+1e-15)\n",
    "        cx_all = (xy[1]*fake_tumor).sum(axis=(1,2)) / (fake_tumor.sum(axis=(1,2))+1e-15)\n",
    "        centroids_tumor.append(np.array([cx_all, cy_all]))\n",
    "        \n",
    "        # print(fake_tumor[19].sum())\n",
    "        \n",
    "        if i > 0 and fake_tumor[19].sum() > 1e-4:\n",
    "            \n",
    "            direct_all += 1\n",
    "            # the previous angle\n",
    "            \n",
    "            v1 = (centroids_tumor[i][:,19] - centroids_seg[0])    # previous centroid of T cell            \n",
    "            v2 = (centroids_tcell[i][:] - centroids_tcell[i-1][:])    # current centroid of T cell\n",
    "            \n",
    "            if i == 1: # no work so much\n",
    "                v2 = (centroids_tcell[i][:] - centroids_seg[0])\n",
    "                \n",
    "            cos_theta = np.dot(v1,v2)/np.linalg.norm(v1)/np.linalg.norm(v2)\n",
    "            \n",
    "            em_dist = wasserstein_distance(histo_cur, histo_pre)\n",
    "            \n",
    "            \n",
    "            if cos_theta > 0:\n",
    "                direct_right += 1\n",
    "                \n",
    "            elif cos_theta < 0:\n",
    "                direct_wrong += 1\n",
    "                \n",
    "            if cos_theta > 0 and histo_cur.sum() > histo_pre.sum():   # threshold the theta / check the expression level\n",
    "                em_score +=  np.linalg.norm(v2) * em_dist\n",
    "                \n",
    "            elif cos_theta < 0:\n",
    "                em_score -= np.linalg.norm(v2) * em_dist\n",
    "            \n",
    "        histo_pre = histo_cur.copy()\n",
    "        \n",
    "print(\"Direction: right:{}, wrong:{}, total:{}\".format(direct_right, direct_wrong, direct_all))\n",
    "    \n",
    "print(\"em_score:{}\".format(em_score))"
   ]
  },
  {
   "cell_type": "markdown",
   "metadata": {},
   "source": [
    "# Visualization for PD-1/PD-L1 Experiment"
   ]
  },
  {
   "cell_type": "code",
   "execution_count": 49,
   "metadata": {},
   "outputs": [
    {
     "name": "stdout",
     "output_type": "stream",
     "text": [
      "278\n"
     ]
    },
    {
     "data": {
      "image/png": "[encoded data removed]",
      "text/plain": [
       "<Figure size 648x216 with 5 Axes>"
      ]
     },
     "metadata": {},
     "output_type": "display_data"
    },
    {
     "name": "stdout",
     "output_type": "stream",
     "text": [
      "Fake\n"
     ]
    },
    {
     "data": {
      "image/png": "[encoded data removed]",
      "text/plain": [
       "<Figure size 648x216 with 5 Axes>"
      ]
     },
     "metadata": {},
     "output_type": "display_data"
    },
    {
     "data": {
      "image/png": "[encoded data removed]",
      "text/plain": [
       "<Figure size 648x216 with 5 Axes>"
      ]
     },
     "metadata": {},
     "output_type": "display_data"
    },
    {
     "name": "stdout",
     "output_type": "stream",
     "text": [
      "310\n"
     ]
    },
    {
     "data": {
      "image/png": "[encoded data removed]",
      "text/plain": [
       "<Figure size 648x216 with 4 Axes>"
      ]
     },
     "metadata": {},
     "output_type": "display_data"
    },
    {
     "name": "stdout",
     "output_type": "stream",
     "text": [
      "Fake\n"
     ]
    },
    {
     "data": {
      "image/png": "[encoded data removed]",
      "text/plain": [
       "<Figure size 648x216 with 4 Axes>"
      ]
     },
     "metadata": {},
     "output_type": "display_data"
    },
    {
     "data": {
      "image/png": "[encoded data removed]",
      "text/plain": [
       "<Figure size 648x216 with 4 Axes>"
      ]
     },
     "metadata": {},
     "output_type": "display_data"
    },
    {
     "name": "stdout",
     "output_type": "stream",
     "text": [
      "331\n"
     ]
    },
    {
     "data": {
      "image/png": "[encoded data removed]",
      "text/plain": [
       "<Figure size 648x216 with 3 Axes>"
      ]
     },
     "metadata": {},
     "output_type": "display_data"
    },
    {
     "name": "stdout",
     "output_type": "stream",
     "text": [
      "Fake\n"
     ]
    },
    {
     "data": {
      "image/png": "[encoded data removed]",
      "text/plain": [
       "<Figure size 648x216 with 3 Axes>"
      ]
     },
     "metadata": {},
     "output_type": "display_data"
    },
    {
     "data": {
      "image/png": "[encoded data removed]",
      "text/plain": [
       "<Figure size 648x216 with 3 Axes>"
      ]
     },
     "metadata": {},
     "output_type": "display_data"
    },
    {
     "name": "stdout",
     "output_type": "stream",
     "text": [
      "365\n"
     ]
    },
    {
     "data": {
      "image/png": "[encoded data removed]",
      "text/plain": [
       "<Figure size 648x216 with 5 Axes>"
      ]
     },
     "metadata": {},
     "output_type": "display_data"
    },
    {
     "name": "stdout",
     "output_type": "stream",
     "text": [
      "Fake\n"
     ]
    },
    {
     "data": {
      "image/png": "[encoded data removed]",
      "text/plain": [
       "<Figure size 648x216 with 5 Axes>"
      ]
     },
     "metadata": {},
     "output_type": "display_data"
    },
    {
     "data": {
      "image/png": "[encoded data removed]",
      "text/plain": [
       "<Figure size 648x216 with 5 Axes>"
      ]
     },
     "metadata": {},
     "output_type": "display_data"
    }
   ],
   "source": [
    "# green is immune,  red is tumor\n",
    "seg_test = 0\n",
    "real_test = 0\n",
    "\n",
    "for test_id in list([278,310,331,365]):\n",
    "    print(test_id)\n",
    "    seg_list = cells_seg_list[test_id]\n",
    "    real_list = cells_real_list[test_id]\n",
    "    n_cell = len(seg_list)\n",
    "    \n",
    "    \n",
    "    \n",
    "    fig=plt.figure(figsize=(9,3))\n",
    "    columns = len(seg_list)\n",
    "    rows = 1\n",
    "    im = 0\n",
    "    centroids_seg = []\n",
    "    \n",
    "    for i in range(n_cell):\n",
    "        fig.add_subplot(rows, columns, i+1)\n",
    "        im += seg_list[i]\n",
    "        \n",
    "        plt.imshow(seg_show(im), cmap='hot', interpolation='nearest')\n",
    "        \n",
    "    plt.show()\n",
    "    \n",
    "    \n",
    "    noise = 0.5 * torch.randn(1, 128).cuda()\n",
    "    \n",
    "    \n",
    "    print('Fake')\n",
    "    \n",
    "    seg_test = 0\n",
    "    \n",
    "    fig=plt.figure(figsize=(9,3))\n",
    "    columns = len(seg_list)\n",
    "    rows = 1\n",
    "    xy = np.mgrid[0:64, 0:64]\n",
    "    centroids_cell = []\n",
    "    \n",
    "    \n",
    "    for i in range(n_cell):\n",
    "        seg_test += seg_list[i]\n",
    "        empty = np.less(np.sum(seg_test, axis=0, keepdims=True), 0.5).astype(np.float32)\n",
    "        seg_test_18 = np.concatenate([seg_test, empty], axis=0)\n",
    "        X_seg_0 = torch.Tensor(seg_test_18).unsqueeze(0).cuda()\n",
    "        \n",
    "        \n",
    "        fake = netG(noise, X_seg_0).detach().cpu().numpy()[0]\n",
    "        fake = fake * seg_list[0].sum(axis=0)    # only consider the expression in T cells\n",
    "    \n",
    "        \n",
    "        # print(fake[18].sum())\n",
    "    \n",
    "    \n",
    "        fig.add_subplot(rows, columns, i+1)\n",
    "        plt.title(channel_names[18])\n",
    "        plt.imshow(fake[18], cmap='hot', interpolation='nearest')\n",
    "        # plt.scatter(cx_all[18], cy_all[18], color='c')\n",
    "        \n",
    "    plt.show()\n",
    "    \n",
    "    \n",
    "    \n",
    "    seg_test = 0\n",
    "    \n",
    "    fig=plt.figure(figsize=(9,3))\n",
    "    columns = len(seg_list)\n",
    "    rows = 1\n",
    "    xy = np.mgrid[0:64, 0:64]\n",
    "    centroids_cell = []\n",
    "    \n",
    "    \n",
    "    for i in range(n_cell):\n",
    "        seg_test += seg_list[i]\n",
    "        empty = np.less(np.sum(seg_test, axis=0, keepdims=True), 0.5).astype(np.float32)\n",
    "        seg_test_18 = np.concatenate([seg_test, empty], axis=0)\n",
    "        X_seg_0 = torch.Tensor(seg_test_18).unsqueeze(0).cuda()\n",
    "        fake = netG(noise, X_seg_0).detach().cpu().numpy()[0]\n",
    "        fake_tumor = fake * (seg_test-seg_list[0]).sum(axis=0)\n",
    "        # fake_tumor = fake * seg_list[i].sum(axis=0)\n",
    "        \n",
    "    \n",
    "                \n",
    "        fig.add_subplot(rows, columns, i+1)\n",
    "        plt.title(channel_names[19])\n",
    "        plt.imshow(fake_tumor[19], cmap='hot', interpolation='nearest')\n",
    "    plt.show()\n",
    "    "
   ]
  },
  {
   "cell_type": "code",
   "execution_count": 53,
   "metadata": {
    "scrolled": true
   },
   "outputs": [
    {
     "name": "stdout",
     "output_type": "stream",
     "text": [
      "278\n"
     ]
    },
    {
     "data": {
      "image/png": "[encoded data removed]",
      "text/plain": [
       "<Figure size 648x216 with 5 Axes>"
      ]
     },
     "metadata": {},
     "output_type": "display_data"
    },
    {
     "name": "stdout",
     "output_type": "stream",
     "text": [
      "Fake\n"
     ]
    },
    {
     "data": {
      "image/png": "[encoded data removed]",
      "text/plain": [
       "<Figure size 648x216 with 5 Axes>"
      ]
     },
     "metadata": {},
     "output_type": "display_data"
    },
    {
     "data": {
      "image/png": "[encoded data removed]",
      "text/plain": [
       "<Figure size 648x216 with 5 Axes>"
      ]
     },
     "metadata": {},
     "output_type": "display_data"
    },
    {
     "name": "stdout",
     "output_type": "stream",
     "text": [
      "310\n"
     ]
    },
    {
     "data": {
      "image/png": "[encoded data removed]",
      "text/plain": [
       "<Figure size 648x216 with 4 Axes>"
      ]
     },
     "metadata": {},
     "output_type": "display_data"
    },
    {
     "name": "stdout",
     "output_type": "stream",
     "text": [
      "Fake\n"
     ]
    },
    {
     "data": {
      "image/png": "[encoded data removed]",
      "text/plain": [
       "<Figure size 648x216 with 4 Axes>"
      ]
     },
     "metadata": {},
     "output_type": "display_data"
    },
    {
     "data": {
      "image/png": "[encoded data removed]",
      "text/plain": [
       "<Figure size 648x216 with 4 Axes>"
      ]
     },
     "metadata": {},
     "output_type": "display_data"
    },
    {
     "name": "stdout",
     "output_type": "stream",
     "text": [
      "331\n"
     ]
    },
    {
     "data": {
      "image/png": "[encoded data removed]",
      "text/plain": [
       "<Figure size 648x216 with 3 Axes>"
      ]
     },
     "metadata": {},
     "output_type": "display_data"
    },
    {
     "name": "stdout",
     "output_type": "stream",
     "text": [
      "Fake\n"
     ]
    },
    {
     "data": {
      "image/png": "[encoded data removed]",
      "text/plain": [
       "<Figure size 648x216 with 3 Axes>"
      ]
     },
     "metadata": {},
     "output_type": "display_data"
    },
    {
     "data": {
      "image/png": "[encoded data removed]",
      "text/plain": [
       "<Figure size 648x216 with 3 Axes>"
      ]
     },
     "metadata": {},
     "output_type": "display_data"
    },
    {
     "name": "stdout",
     "output_type": "stream",
     "text": [
      "365\n"
     ]
    },
    {
     "data": {
      "image/png": "[encoded data removed]",
      "text/plain": [
       "<Figure size 648x216 with 5 Axes>"
      ]
     },
     "metadata": {},
     "output_type": "display_data"
    },
    {
     "name": "stdout",
     "output_type": "stream",
     "text": [
      "Fake\n"
     ]
    },
    {
     "data": {
      "image/png": "[encoded data removed]",
      "text/plain": [
       "<Figure size 648x216 with 5 Axes>"
      ]
     },
     "metadata": {},
     "output_type": "display_data"
    },
    {
     "data": {
      "image/png": "[encoded data removed]",
      "text/plain": [
       "<Figure size 648x216 with 5 Axes>"
      ]
     },
     "metadata": {},
     "output_type": "display_data"
    }
   ],
   "source": [
    "# green is immune,  red is tumor\n",
    "seg_test = 0\n",
    "real_test = 0\n",
    "\n",
    "for test_id in list([278, 310, 331, 365]):\n",
    "    print(test_id)\n",
    "    seg_list = cells_seg_list[test_id]\n",
    "    real_list = cells_real_list[test_id]\n",
    "    n_cell = len(seg_list)\n",
    "    \n",
    "    \n",
    "    fig=plt.figure(figsize=(9,3))\n",
    "    columns = len(seg_list)\n",
    "    rows = 1\n",
    "    im = 0\n",
    "    centroids_seg = []\n",
    "    \n",
    "    for i in range(n_cell):\n",
    "        fig.add_subplot(rows, columns, i+1)\n",
    "        im += seg_list[i]\n",
    "        \n",
    "        \n",
    "        im[1] += im[4].copy()\n",
    "        im[4] = 0\n",
    "        \n",
    "        plt.imshow(seg_show(im), cmap='hot', interpolation='nearest')\n",
    "        \n",
    "        \n",
    "        \n",
    "    plt.show()\n",
    "    \n",
    "    \n",
    "    noise = 0.5 * torch.randn(1, 128).cuda()\n",
    "    \n",
    "    \n",
    "    print('Fake')\n",
    "    \n",
    "    seg_test = 0\n",
    "    \n",
    "    fig=plt.figure(figsize=(9,3))\n",
    "    columns = len(seg_list)\n",
    "    rows = 1\n",
    "    xy = np.mgrid[0:64, 0:64]\n",
    "    centroids_cell = []\n",
    "    \n",
    "    \n",
    "    for i in range(n_cell):\n",
    "        seg_test += seg_list[i]\n",
    "        empty = np.less(np.sum(seg_test, axis=0, keepdims=True), 0.5).astype(np.float32)\n",
    "        seg_test_18 = np.concatenate([seg_test, empty], axis=0)\n",
    "        X_seg_0 = torch.Tensor(seg_test_18).unsqueeze(0).cuda()\n",
    "        \n",
    "        X_seg_0[0,1] = X_seg_0[0,4].clone()\n",
    "        X_seg_0[0,4] = 0\n",
    "        \n",
    "        fake = netG(noise, X_seg_0).detach().cpu().numpy()[0]\n",
    "        fake = fake * seg_list[0].sum(axis=0)    # only consider the expression in T cells\n",
    "    \n",
    "        \n",
    "        # print(fake[18].sum())\n",
    "    \n",
    "    \n",
    "        fig.add_subplot(rows, columns, i+1)\n",
    "        plt.title(channel_names[18])\n",
    "        plt.imshow(fake[18], cmap='hot', interpolation='nearest')\n",
    "        # plt.scatter(cx_all[18], cy_all[18], color='c')\n",
    "        \n",
    "    plt.show()\n",
    "    \n",
    "    \n",
    "    \n",
    "    seg_test = 0\n",
    "    \n",
    "    fig=plt.figure(figsize=(9,3))\n",
    "    columns = len(seg_list)\n",
    "    rows = 1\n",
    "    xy = np.mgrid[0:64, 0:64]\n",
    "    centroids_cell = []\n",
    "    \n",
    "    \n",
    "    for i in range(n_cell):\n",
    "        seg_test += seg_list[i]\n",
    "        empty = np.less(np.sum(seg_test, axis=0, keepdims=True), 0.5).astype(np.float32)\n",
    "        seg_test_18 = np.concatenate([seg_test, empty], axis=0)\n",
    "        X_seg_0 = torch.Tensor(seg_test_18).unsqueeze(0).cuda()\n",
    "        X_seg_0[0,1] = X_seg_0[0,4].clone()\n",
    "        X_seg_0[0,4] = 0\n",
    "        fake = netG(noise, X_seg_0).detach().cpu().numpy()[0]\n",
    "        fake_tumor = fake * (seg_test-seg_list[0]).sum(axis=0)\n",
    "        # fake_tumor = fake * seg_list[i].sum(axis=0)\n",
    "    \n",
    "        fig.add_subplot(rows, columns, i+1)\n",
    "        plt.title(channel_names[19])\n",
    "        plt.imshow(fake_tumor[19], cmap='hot', interpolation='nearest')\n",
    "    plt.show()\n",
    "    "
   ]
  },
  {
   "cell_type": "code",
   "execution_count": null,
   "metadata": {
    "collapsed": true
   },
   "outputs": [],
   "source": []
  },
  {
   "cell_type": "code",
   "execution_count": null,
   "metadata": {
    "collapsed": true
   },
   "outputs": [],
   "source": []
  }
 ],
 "metadata": {
  "kernelspec": {
   "display_name": "Python 3",
   "language": "python",
   "name": "python3"
  },
  "language_info": {
   "codemirror_mode": {
    "name": "ipython",
    "version": 3
   },
   "file_extension": ".py",
   "mimetype": "text/x-python",
   "name": "python",
   "nbconvert_exporter": "python",
   "pygments_lexer": "ipython3",
   "version": "3.7.3"
  }
 },
 "nbformat": 4,
 "nbformat_minor": 2
}
